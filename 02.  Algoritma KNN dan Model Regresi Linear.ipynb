{
  "cells": [
    {
      "cell_type": "markdown",
      "metadata": {
        "id": "DbQ6JLhhFWtQ"
      },
      "source": [
        "# **K-Nearest Neighbor (KNN)**\n",
        "\n",
        "[source 1](https://informatikalogi.com/algoritma-k-nn-k-nearest-neighbor/)\n",
        "\n",
        "[source 2](https://informatikalogi.com/algoritma-k-nn-k-nearest-neighbor/)\n",
        "\n",
        "[source 3](https://www.advernesia.com/blog/data-science/pengertian-dan-cara-kerja-algoritma-k-nearest-neighbours-knn/)\n",
        "\n",
        "[source 4](https://medium.com/@piyut.dyoni/machine-learning-buat-yang-ngerasa-bodo-e37bc5b26d9d)\n",
        "\n",
        "[source 5](https://towardsdatascience.com/k-nearest-neighbor-python-2fccc47d2a55)\n",
        "\n",
        "***(Classification)***\n",
        "\n",
        "## **Apa itu Algoritma k-Nearest Neighbor?**\n",
        "\n",
        "Algoritma k-Nearest Neighbor adalah algoritma supervised\n",
        "learning dimana hasil dari instance yang baru diklasifikasikan berdasarkan mayoritas dari kategori k-tetangga terdekat.\n",
        "\n",
        "Tujuan dari algoritma ini adalah untuk mengklasifikasikan obyek baru berdasarkan atribut dan sample-sample dari training data.\n",
        "\n",
        "Algoritma k-Nearest Neighbor menggunakan Neighborhood Classification sebagai nilai prediksi dari nilai instance yang baru.\n",
        "\n",
        "## **Tahapan Langkah Algoritma K-NN**\n",
        "\n",
        "1. Menentukan parameter k (jumlah tetangga paling dekat).\n",
        "\n",
        "2. Menghitung kuadrat jarak eucliden objek terhadap data training yang diberikan.\n",
        "\n",
        "3. Mengurutkan hasil no 2 secara ascending (berurutan dari nilai tinggi ke rendah)\n",
        "\n",
        "4. Mengumpulkan kategori Y (Klasifikasi nearest neighbor berdasarkan nilai k)\n",
        "\n",
        "5. Dengan menggunakan kategori nearest neighbor yang paling mayoritas maka dapat dipredisikan kategori objek.\n",
        "\n",
        "## **Contoh Kasus**\n",
        "\n",
        "Misalnya ada sebuah rumah yang berada tepat di tengah perbatasan antara Kota Bandung dan Kabupaten Bandung, sehingga pemerintah kesulitan untuk menentukan apakah rumah tersebut termasuk kedalam wilayah Kota Bandung atau Kabupaten Bandung.\n",
        "\n",
        "Kita bisa menentukannya dengan menggunakan Algoritma k-NN, yaitu dengan melibatkan jarak antara rumah tersebut dengan rumah-rumah yang ada disekitarnya (tetangganya).\n",
        "\n",
        "1. Pertama, kita harus menentukan jumlah tetangga yg akan kita perhitungkan (k), misalnya kita tentukan 3 tetangga terdekat (k = 3).\n",
        "\n",
        "2. Kedua, hitung jarak setiap tetangga terhadap rumah tersebut (Eucledian Distance), lalu urutkan hasilnya berdasarkan jarak, mulai dari yang terkecil ke yang terbesar.\n",
        "\n",
        "3. Ketiga, ambil 3 (k) tetangga yg paling dekat, lalu kita lihat masing-masing dari tetangga tersebut apakah termasuk kedalam wilayah Kota atau Kabupaten. Ada 2 kemungkinan:\n",
        "    * Bila dari 3 tetangga tersebut terdapat ada 2 rumah yg termasuk kedalam wilayah Kota Bandung, maka rumah tersebut termasuk kedalam wilayah Kota Bandung.\n",
        "\n",
        "    * Sebaliknya, bila dari 3 tetangga tersebut terdapat 2 rumah yg termasuk kedalam wilayah Kabupaten Bandung, maka rumah tersebut termasuk kedalam wilayah Kabupaten Bandung.\n",
        "\n",
        "> Dalam menentukan nilai k, bila jumlah klasifikasi kita genap maka sebaiknya kita gunakan nilai k ganjil, dan begitu pula sebaliknya bila jumlah klasifikasi kita ganjil maka sebaiknya gunakan nilai k genap, karena jika tidak begitu, ada kemungkinan kita tidak akan mendapatkan jawaban.\n",
        "\n",
        "![konsep_knn.jpg](https://raw.githubusercontent.com/nurimammasri/Wooky-Machine-Learning/main/Images/konsep_knn.jpg)\n",
        "\n",
        "## **Pembahasan Lebih Detil**\n",
        "\n",
        "Pada kasus diatas, kita menghitung jarak suatu rumah terhadap tetangga-tetangganya, itu berarti kita harus mengetahui posisi dari setiap rumah. Kita bisa menggunakan latitude dan longitude (atau garis lintang dan garis bujur) sebagai posisi.\n",
        "\n",
        "Untuk mempermudah pemahaman, saya akan coba menggunakan data yang nilainya sederhana. Data yang akan digunakan adalah sebagai berikut:\n",
        "\n",
        "![knn01.png](https://raw.githubusercontent.com/nurimammasri/Wooky-Machine-Learning/main/Images/knn01.png)\n",
        "\n",
        "Dari data diatas, kita mendapatkan beberapa informasi, diantaranya:\n",
        "\n",
        "* **Independent Variables**, yaitu variable yang nilainya ***tidak dipengaruhi*** oleh variable lain. Pada contoh data diatas, yang termasuk independent variable adalah ***Lat***, dan ***Long***.\n",
        "\n",
        "* **Dependent Variables**, yaitu variable yang nilainya ***dipengaruhi*** oleh variable lain. Pada contoh data diatas, yang termasuk dependent variable adalah Lokasi.\n",
        "\n",
        "* **Rumah A-E** adalah rumah yang masuk ke dalam wilayah **Kota**.\n",
        "\n",
        "* **Rumah F-J** adalah rumah yang masuk ke dalam wilayah Kabupaten.\n",
        "\n",
        "* **Rumah X** adalah rumah yang akan kita prediksi menggunakan algoritma kNN apakah termasuk ke dalam wilayah Kota atau Kabupaten.\n",
        "\n",
        "> Didalam dunia Machine Learning, Independent Variables sering disebut juga sebagai Features.\n",
        "\n",
        "Selanjutnya kita hitung jarak antara rumah X terhadap rumah A-G dengan menggunakan rumus pythagoras:\n",
        "\n",
        "![knn02.gif](https://raw.githubusercontent.com/nurimammasri/Wooky-Machine-Learning/main/Images/knn02.gif)\n",
        "\n",
        "Diketahui, dimana **x** adalah **Lat**, **y** adalah **Long**, sedangkan **(x1, y1)** adalah **lat** dan **long** dari **rumah X**, dan **(x2, y2)** adalah lat dan long dari **masing-masing tetangganya**.\n",
        "\n",
        "Setelah dihitung, selanjutnya adalah **urutkan jarak tersebut dari yang paling kecil ke yang paling besar**, hasilnya adalah sebagai berikut:\n",
        "\n",
        "![knn03.png](https://raw.githubusercontent.com/nurimammasri/Wooky-Machine-Learning/main/Images/knn03.png)\n",
        "\n",
        "Dapat dilihat dari hasil perhitungan diatas, bahwa ternyata 3 tetangga terdekat dari rumah X adalah:\n",
        "\n",
        "* **Rumah H** (Kabupaten) yang memiliki jarak 2.24,\n",
        "\n",
        "* **Rumah C** (Kota) yang memiliki jarak 3, dan\n",
        "\n",
        "* **Rumah E** (Kota) yang memiliki jarak 3.16.\n",
        "\n",
        "Dari ke-3 tetangga terdekat, terdapat **2 rumah** yang termasuk kedalam wilayah **Kota** dan **1 rumah** yang masuk ke dalam wilayah **Kabupaten**. \n",
        "\n",
        "Sehingga dapat disimpulkan, bahwa **Rumah X adalah rumah yang termasuk kedalam wilayah Kota Bandung**.\n",
        "\n",
        "**Catatan Tambahan**\n",
        "\n",
        "Dalam kasus ini, Independent Variables nya sudah berbentuk angka, sehingga tidak perlu dilakukan konversi. Namun, bila dalam kasus lain terdapat Independent Varibales yang nilainya bukan berbentuk angka, maka kita harus mengkonversinya terlebih dahulu.\n",
        "\n",
        "## **Contoh Kasus 2**\n",
        "\n",
        "Prediksi apakah seseorang bisa lulus S2 tepat waktu berdasarkan variable IPK S1 dan Usia Masuk Kuliah S2\n",
        "\n",
        "![knn04.png](https://raw.githubusercontent.com/nurimammasri/Wooky-Machine-Learning/main/Images/knn04.png)\n",
        "\n",
        "![knn05.png](https://raw.githubusercontent.com/nurimammasri/Wooky-Machine-Learning/main/Images/knn05.png)\n",
        "\n",
        "![knn06.png](https://raw.githubusercontent.com/nurimammasri/Wooky-Machine-Learning/main/Images/knn06.png)\n",
        "\n",
        "## **Kekurangan KNN**\n",
        "\n",
        "1. Sangat sensitif terhadap data pencilan\n",
        "2. jika k-nya genap = si KNN akan kebingunan kalau misalkan label dari tetangga terdekat jumlahnya sama (cara menghandle yakni dengan cara mengggunakan hyperparameter weight)\n",
        "\n",
        "## **Cara memilih hyperparameter 'k' di algoritma KNN**\n",
        "\n",
        "Sebelum memilih hyper parameter k maka harus mengetahui bagaimana sebaran data.\n",
        "\n",
        "Jika banyak data pencilan maka lebih baik k = kecil mengurangi probabilitas point\n",
        "\n",
        "Jika data nya melebar tidak berkumpul, maka k = besar.\n",
        "\n"
      ]
    },
    {
      "cell_type": "markdown",
      "metadata": {
        "id": "9tcXGo2IUDOo"
      },
      "source": [
        "## **KNeighborsClassifier**\n",
        "\n",
        "`sklearn.neighbors.KNeighborsClassifier(n_neighbors=5, *, weights='uniform', algorithm='auto', leaf_size=30, p=2, metric='minkowski', metric_params=None, n_jobs=None, **kwargs)`\n",
        "\n",
        "[source documentation](https://scikit-learn.org/stable/modules/generated/sklearn.neighbors.KNeighborsClassifier.html)\n",
        "\n",
        "**Parameters**\n",
        "\n",
        "* n_neighbors : int, default=5\n",
        "    \n",
        "    Number of neighbors to use by default for kneighbors queries.\n",
        "\n",
        "* weights : {‘uniform’, ‘distance’} or callable, default=’uniform’\n",
        "\n",
        "    weight function used in prediction. Possible values:\n",
        "\n",
        "    * 'uniform' : uniform weights. All points in each neighborhood are weighted equally.\n",
        "\n",
        "    * ‘distance’ : weight points by the inverse of their distance. in this case, closer neighbors of a query point will have a greater influence than neighbors which are further away.\n",
        "\n",
        "    * [callable] : a user-defined function which accepts an array of distances, and returns an array of the same shape containing the weights.\n",
        "\n",
        "* algorithm : {‘auto’, ‘ball_tree’, ‘kd_tree’, ‘brute’}, default=’auto’\n",
        "\n",
        "    Algorithm used to compute the nearest neighbors:\n",
        "\n",
        "    * ‘ball_tree’ will use BallTree\n",
        "\n",
        "    * ‘kd_tree’ will use KDTree\n",
        "\n",
        "    * ‘brute’ will use a brute-force search.\n",
        "\n",
        "    * ‘auto’ will attempt to decide the most appropriate algorithm based on the values passed to fit method.\n",
        "\n",
        "    Note: fitting on sparse input will override the setting of this parameter, using brute force.\n",
        "\n",
        "* leaf_size : int, default=30\n",
        "\n",
        "    Leaf size passed to BallTree or KDTree. This can affect the speed of the construction and query, as well as the memory required to store the tree. The optimal value depends on the nature of the problem.\n",
        "\n",
        "* p : int, default=2\n",
        "\n",
        "    Power parameter for the Minkowski metric. When p = 1, this is equivalent to using manhattan_distance (l1), and euclidean_distance (l2) for p = 2. For arbitrary p, minkowski_distance (l_p) is used.\n",
        "\n",
        "* metric : str or callable, default=’minkowski’\n",
        "\n",
        "    the distance metric to use for the tree. The default metric is minkowski, and with p=2 is equivalent to the standard Euclidean metric. See the documentation of DistanceMetric for a list of available metrics. If metric is “precomputed”, X is assumed to be a distance matrix and must be square during fit. X may be a sparse graph, in which case only “nonzero” elements may be considered neighbors.\n",
        "\n",
        "* metric_params : dict, default=None\n",
        "\n",
        "    Additional keyword arguments for the metric function.\n",
        "\n",
        "* n_jobs : int, default=None\n",
        "\n",
        "    The number of parallel jobs to run for neighbors search. None means 1 unless in a joblib.parallel_backend context. -1 means using all processors. See Glossary for more details. Doesn’t affect fit method.\n",
        "\n",
        "\n",
        "**Attributes**\n",
        "\n",
        "* classes_ : array of shape (n_classes,)\n",
        "\n",
        "    Class labels known to the classifier\n",
        "\n",
        "* effective_metric_ : str or callble\n",
        "\n",
        "    The distance metric used. It will be same as the metric parameter or a synonym of it, e.g. ‘euclidean’ if the metric parameter set to ‘minkowski’ and p parameter set to 2.\n",
        "\n",
        "* effective_metric_params_ : dict\n",
        "\n",
        "    Additional keyword arguments for the metric function. For most metrics will be same with metric_params parameter, but may also contain the p parameter value if the effective_metric_ attribute is set to ‘minkowski’.\n",
        "\n",
        "* outputs_2d_ : bool\n",
        "\n",
        "    False when y’s shape is (n_samples, ) or (n_samples, 1) during fit otherwise True."
      ]
    },
    {
      "cell_type": "markdown",
      "metadata": {
        "id": "D-5v-Ub5IlJm"
      },
      "source": [
        "### **Contoh 1**"
      ]
    },
    {
      "cell_type": "code",
      "execution_count": 1,
      "metadata": {
        "id": "lMSI9QGlTiZZ"
      },
      "outputs": [],
      "source": [
        "# from sklearn.neighbors import KNeighborsClassifier\n",
        "# KNeighborsClassifier?"
      ]
    },
    {
      "cell_type": "code",
      "execution_count": 2,
      "metadata": {
        "colab": {
          "base_uri": "https://localhost:8080/",
          "height": 220
        },
        "id": "OGchGZVKnPHT",
        "outputId": "26dd661a-b6f5-4a8b-81ce-420ee2628d2d"
      },
      "outputs": [
        {
          "data": {
            "text/html": [
              "<div>\n",
              "<style scoped>\n",
              "    .dataframe tbody tr th:only-of-type {\n",
              "        vertical-align: middle;\n",
              "    }\n",
              "\n",
              "    .dataframe tbody tr th {\n",
              "        vertical-align: top;\n",
              "    }\n",
              "\n",
              "    .dataframe thead th {\n",
              "        text-align: right;\n",
              "    }\n",
              "</style>\n",
              "<table border=\"1\" class=\"dataframe\">\n",
              "  <thead>\n",
              "    <tr style=\"text-align: right;\">\n",
              "      <th></th>\n",
              "      <th>sepal length (cm)</th>\n",
              "      <th>sepal width (cm)</th>\n",
              "      <th>petal length (cm)</th>\n",
              "      <th>petal width (cm)</th>\n",
              "      <th>species</th>\n",
              "    </tr>\n",
              "  </thead>\n",
              "  <tbody>\n",
              "    <tr>\n",
              "      <th>0</th>\n",
              "      <td>5.1</td>\n",
              "      <td>3.5</td>\n",
              "      <td>1.4</td>\n",
              "      <td>0.2</td>\n",
              "      <td>0.0</td>\n",
              "    </tr>\n",
              "    <tr>\n",
              "      <th>1</th>\n",
              "      <td>4.9</td>\n",
              "      <td>3.0</td>\n",
              "      <td>1.4</td>\n",
              "      <td>0.2</td>\n",
              "      <td>0.0</td>\n",
              "    </tr>\n",
              "    <tr>\n",
              "      <th>2</th>\n",
              "      <td>4.7</td>\n",
              "      <td>3.2</td>\n",
              "      <td>1.3</td>\n",
              "      <td>0.2</td>\n",
              "      <td>0.0</td>\n",
              "    </tr>\n",
              "    <tr>\n",
              "      <th>3</th>\n",
              "      <td>4.6</td>\n",
              "      <td>3.1</td>\n",
              "      <td>1.5</td>\n",
              "      <td>0.2</td>\n",
              "      <td>0.0</td>\n",
              "    </tr>\n",
              "    <tr>\n",
              "      <th>4</th>\n",
              "      <td>5.0</td>\n",
              "      <td>3.6</td>\n",
              "      <td>1.4</td>\n",
              "      <td>0.2</td>\n",
              "      <td>0.0</td>\n",
              "    </tr>\n",
              "  </tbody>\n",
              "</table>\n",
              "</div>"
            ],
            "text/plain": [
              "   sepal length (cm)  sepal width (cm)  ...  petal width (cm)  species\n",
              "0                5.1               3.5  ...               0.2      0.0\n",
              "1                4.9               3.0  ...               0.2      0.0\n",
              "2                4.7               3.2  ...               0.2      0.0\n",
              "3                4.6               3.1  ...               0.2      0.0\n",
              "4                5.0               3.6  ...               0.2      0.0\n",
              "\n",
              "[5 rows x 5 columns]"
            ]
          },
          "execution_count": 2,
          "metadata": {},
          "output_type": "execute_result"
        }
      ],
      "source": [
        "from sklearn.datasets import load_iris\n",
        "import pandas as pd\n",
        "import numpy as np\n",
        "\n",
        "iris = load_iris()\n",
        "df = pd.DataFrame(np.c_[iris['data'], iris['target']], columns=iris['feature_names']+['species'])\n",
        "# 'target_names': array(['setosa', 'versicolor', 'virginica'], dtype='<U10')\n",
        "# setosa -> 0, versicolor -> 1, virginica -> 2\n",
        "# df['species'] = df['species'].replace([0, 1, 2], iris.target_names)\n",
        "df.head()"
      ]
    },
    {
      "cell_type": "code",
      "execution_count": 3,
      "metadata": {
        "id": "SQSAaBG1Q2lw"
      },
      "outputs": [],
      "source": [
        "# iris"
      ]
    },
    {
      "cell_type": "code",
      "execution_count": 4,
      "metadata": {
        "colab": {
          "base_uri": "https://localhost:8080/"
        },
        "id": "0CiELik5Mct8",
        "outputId": "75e1245b-4474-431e-f6a1-823a99a23be5"
      },
      "outputs": [
        {
          "name": "stdout",
          "output_type": "stream",
          "text": [
            "(array([15]), array([1]))\n"
          ]
        }
      ],
      "source": [
        "# untuk melihat bagaimana penyebaran data akan sulit dilakukan, maka kita menggunakan library scipy\n",
        "from scipy import stats\n",
        "z = stats.zscore(df) # seberapa jauh data dri rata rata\n",
        "print(np.where(z>3)) # melihat banyak data pencilan yakni z>3 -> hanya ada 1 data pencilan"
      ]
    },
    {
      "cell_type": "code",
      "execution_count": 5,
      "metadata": {
        "colab": {
          "base_uri": "https://localhost:8080/"
        },
        "id": "GOKoEr9gUF8o",
        "outputId": "be7c1d8a-c2a6-4ea3-823e-62e054bdf13c"
      },
      "outputs": [
        {
          "data": {
            "text/plain": [
              "3.0907752482994253"
            ]
          },
          "execution_count": 5,
          "metadata": {},
          "output_type": "execute_result"
        }
      ],
      "source": [
        "z[15][1]"
      ]
    },
    {
      "cell_type": "code",
      "execution_count": 6,
      "metadata": {
        "colab": {
          "base_uri": "https://localhost:8080/"
        },
        "id": "FaqbvkdbT4Vh",
        "outputId": "57ca7076-04eb-4aa1-c2d0-907c136f5a27"
      },
      "outputs": [
        {
          "data": {
            "text/plain": [
              "KNeighborsClassifier(algorithm='auto', leaf_size=30, metric='minkowski',\n",
              "                     metric_params=None, n_jobs=None, n_neighbors=6, p=2,\n",
              "                     weights='distance')"
            ]
          },
          "execution_count": 6,
          "metadata": {},
          "output_type": "execute_result"
        }
      ],
      "source": [
        "# import class object\n",
        "from sklearn.neighbors import KNeighborsClassifier\n",
        "# membuat objek model dan memilih hyperparameter\n",
        "model_knn = KNeighborsClassifier(n_neighbors=6, weights='distance')\n",
        "# memisahkan data feature dan data target\n",
        "x = df.drop('species', axis=1)\n",
        "y = df['species']\n",
        "# memerintahkan model untuk empelajari data dengan menggunakan method .fit()\n",
        "model_knn.fit(x,y)\n"
      ]
    },
    {
      "cell_type": "code",
      "execution_count": 7,
      "metadata": {
        "colab": {
          "base_uri": "https://localhost:8080/"
        },
        "id": "xK_Ee2QhV5tr",
        "outputId": "d0e3a828-6d22-4e4d-b400-c9c5ba5b801a"
      },
      "outputs": [
        {
          "data": {
            "text/plain": [
              "array([0., 0., 1.])"
            ]
          },
          "execution_count": 7,
          "metadata": {},
          "output_type": "execute_result"
        }
      ],
      "source": [
        "# predict\n",
        "\n",
        "# data baru (test)\n",
        "x_new = np.array([[2.5, 4, 3, 0.1], \n",
        "                  [1, 3.5, 1.7, 0.4], \n",
        "                  [4, 1, 3, 0.3]])\n",
        "\n",
        "y_new = model_knn.predict(x_new)\n",
        "y_new"
      ]
    },
    {
      "cell_type": "markdown",
      "metadata": {
        "id": "ksB-pJ0xWtDa"
      },
      "source": [
        "x_new = np.array([[2.5, 4, 3, 0.1], \n",
        "                  [1, 3.5, 1.7, 0.4], \n",
        "                  [4, 1, 3, 0.3]])\n",
        "\n",
        "array([0., 0., 1.])\n",
        "\n",
        "hasil classifikasi\n",
        "\n",
        "[2.5, 4, 3, 0.1] and [1, 3.5, 1.7, 0.4] -> 0 -> setosa\n",
        "\n",
        "[4, 1, 3, 0.3] -> 1 -> versicolor"
      ]
    },
    {
      "cell_type": "markdown",
      "metadata": {
        "id": "_hU2_NcKNwz3"
      },
      "source": [
        "**catatan :**\n",
        "\n",
        "[source](https://slideplayer.info/slide/2335812/)\n",
        "\n",
        "[source](http://www.ltcconline.net/greenl/courses/201/probdist/zScore.htm)\n",
        "\n",
        "**Z-Score**\n",
        "\n",
        "Z-Score adalah skor standar berupa jarak skor suatu nilai dari mean kelompoknya, dapat berupa nilai atau dalam satuan SD (Standard Deviasi).\n",
        "\n",
        "Z Score adalah Z Score adalah suatu ukuran penyimpangan data dari nilai rata-ratanya yang diukur dalam satuan standar deviasinya. Jika nilainya terletak diatas rata-rata maka Z score-nya akan bernilai positif, sedangkan apabila nilainya dibawah nilai rata-rata maka Z score-nya akan bernilai negatif.  Z Score ini juga disebut dengan Nilai Standar atau Nilai Baku.\n",
        "\n",
        "![zscore01.jpg](https://raw.githubusercontent.com/nurimammasri/Wooky-Machine-Learning/main/Images/zscore01.jpg)\n",
        "\n",
        "![zscore02.png](https://raw.githubusercontent.com/nurimammasri/Wooky-Machine-Learning/main/Images/zscore02.png)\n",
        "\n",
        "Z = (x-μ) / σ\n",
        "\n",
        "Keterangan\n",
        "\n",
        "x = nilai yang diamati (skor mentah)\n",
        "μ =  rata-rata populasi\n",
        "σ = adalah standar deviasi populasi\n",
        "Z = Z Score (Nilai Baku)"
      ]
    },
    {
      "cell_type": "markdown",
      "metadata": {
        "id": "8et3nB_oi6XZ"
      },
      "source": [
        "### **Contoh 2**\n",
        "\n",
        "[source](https://www.youtube.com/watch?v=Gow90EE7ttk&list=PLVG7eNu-5tw8xewpZyxr451T2c8RuZNwq&index=6)\n",
        "\n",
        "[source](https://medium.com/@amaretha/machine-learning-for-beginners-klasifikasi-bunga-iris-dengan-k-neighbors-325b0ba41922)\n",
        "\n",
        "**Studi Kasus**\n",
        "\n",
        "Klasifikasi Bunga IRIS (Bunga Pelangi)\n",
        "\n",
        "Terdapat 3 jenis bunga iris yang agak susah dikenai yaitu Setosa, Versicolor dan Virgina. Untuk itu akan dibuat sebuah program dengan K-NN untuk memprediksi sebuah bunga iris, masuk di kelompok yang mana.\n",
        "\n",
        "![skknn01.png](https://raw.githubusercontent.com/nurimammasri/Wooky-Machine-Learning/main/Images/skknn01.png)\n",
        "\n",
        "Pengklasifikasian didasarkan pada 4 parameter (yang selanjutnya disebut features) yaitu:\n",
        "\n",
        "* Panjang petal\n",
        "* Lebar petal\n",
        "* Panjang sepal\n",
        "* Lebar sepal\n",
        "\n",
        "![skknn02.png](https://raw.githubusercontent.com/nurimammasri/Wooky-Machine-Learning/main/Images/skknn02.png)"
      ]
    },
    {
      "cell_type": "markdown",
      "metadata": {
        "id": "TDdnJeYrpo0H"
      },
      "source": [
        "1. Prepare the Datasets\n",
        "\n",
        "    Dataset merupakan kumpulan data yang akan diolah. Di sini, akan digunakan dataset yang sudah disediakan oleh library sklearn (scikit-learn). Sebelum meng-import dataset, dilakukan pula import libraries yang dibutuhkan."
      ]
    },
    {
      "cell_type": "code",
      "execution_count": 8,
      "metadata": {
        "id": "0Yy5EeWJpX1o"
      },
      "outputs": [],
      "source": [
        "# import library\n",
        "import numpy as np\n",
        "import pandas as pd\n",
        "import seaborn as sns\n",
        "import matplotlib.pyplot as plt\n",
        "\n",
        "from sklearn import datasets\n",
        "iris_dataset = datasets.load_iris() # import dataset\n",
        "# iris_dataset # menampilkkan dataset"
      ]
    },
    {
      "cell_type": "markdown",
      "metadata": {
        "id": "tJGp0a1wqOh0"
      },
      "source": [
        "Nah, tipe dataset dari sklearn ini sendiri ketika dicek dengan fungsi `type(iris_dataset)` akan mengeluarkan output: `sklearn.utils.Bunch.` Ini bisa membuat bingung orang awam seperti saya. Maka dari itu tipe dataset dapat diubah terlebih dahulu ke dalam bentuk dataframe untuk bisa ditampilkan ke dalam bentuk yang lebih ‘manusiawi’ untuk dipelajari."
      ]
    },
    {
      "cell_type": "code",
      "execution_count": 9,
      "metadata": {
        "colab": {
          "base_uri": "https://localhost:8080/",
          "height": 434
        },
        "id": "9WQq0B_QqMz7",
        "outputId": "d7868e1c-a6b0-4856-c915-52d40ea9a537"
      },
      "outputs": [
        {
          "data": {
            "text/html": [
              "<div>\n",
              "<style scoped>\n",
              "    .dataframe tbody tr th:only-of-type {\n",
              "        vertical-align: middle;\n",
              "    }\n",
              "\n",
              "    .dataframe tbody tr th {\n",
              "        vertical-align: top;\n",
              "    }\n",
              "\n",
              "    .dataframe thead th {\n",
              "        text-align: right;\n",
              "    }\n",
              "</style>\n",
              "<table border=\"1\" class=\"dataframe\">\n",
              "  <thead>\n",
              "    <tr style=\"text-align: right;\">\n",
              "      <th></th>\n",
              "      <th>sepal length (cm)</th>\n",
              "      <th>sepal width (cm)</th>\n",
              "      <th>petal length (cm)</th>\n",
              "      <th>petal width (cm)</th>\n",
              "      <th>Target</th>\n",
              "    </tr>\n",
              "  </thead>\n",
              "  <tbody>\n",
              "    <tr>\n",
              "      <th>0</th>\n",
              "      <td>5.1</td>\n",
              "      <td>3.5</td>\n",
              "      <td>1.4</td>\n",
              "      <td>0.2</td>\n",
              "      <td>0</td>\n",
              "    </tr>\n",
              "    <tr>\n",
              "      <th>1</th>\n",
              "      <td>4.9</td>\n",
              "      <td>3.0</td>\n",
              "      <td>1.4</td>\n",
              "      <td>0.2</td>\n",
              "      <td>0</td>\n",
              "    </tr>\n",
              "    <tr>\n",
              "      <th>2</th>\n",
              "      <td>4.7</td>\n",
              "      <td>3.2</td>\n",
              "      <td>1.3</td>\n",
              "      <td>0.2</td>\n",
              "      <td>0</td>\n",
              "    </tr>\n",
              "    <tr>\n",
              "      <th>3</th>\n",
              "      <td>4.6</td>\n",
              "      <td>3.1</td>\n",
              "      <td>1.5</td>\n",
              "      <td>0.2</td>\n",
              "      <td>0</td>\n",
              "    </tr>\n",
              "    <tr>\n",
              "      <th>4</th>\n",
              "      <td>5.0</td>\n",
              "      <td>3.6</td>\n",
              "      <td>1.4</td>\n",
              "      <td>0.2</td>\n",
              "      <td>0</td>\n",
              "    </tr>\n",
              "    <tr>\n",
              "      <th>...</th>\n",
              "      <td>...</td>\n",
              "      <td>...</td>\n",
              "      <td>...</td>\n",
              "      <td>...</td>\n",
              "      <td>...</td>\n",
              "    </tr>\n",
              "    <tr>\n",
              "      <th>145</th>\n",
              "      <td>6.7</td>\n",
              "      <td>3.0</td>\n",
              "      <td>5.2</td>\n",
              "      <td>2.3</td>\n",
              "      <td>2</td>\n",
              "    </tr>\n",
              "    <tr>\n",
              "      <th>146</th>\n",
              "      <td>6.3</td>\n",
              "      <td>2.5</td>\n",
              "      <td>5.0</td>\n",
              "      <td>1.9</td>\n",
              "      <td>2</td>\n",
              "    </tr>\n",
              "    <tr>\n",
              "      <th>147</th>\n",
              "      <td>6.5</td>\n",
              "      <td>3.0</td>\n",
              "      <td>5.2</td>\n",
              "      <td>2.0</td>\n",
              "      <td>2</td>\n",
              "    </tr>\n",
              "    <tr>\n",
              "      <th>148</th>\n",
              "      <td>6.2</td>\n",
              "      <td>3.4</td>\n",
              "      <td>5.4</td>\n",
              "      <td>2.3</td>\n",
              "      <td>2</td>\n",
              "    </tr>\n",
              "    <tr>\n",
              "      <th>149</th>\n",
              "      <td>5.9</td>\n",
              "      <td>3.0</td>\n",
              "      <td>5.1</td>\n",
              "      <td>1.8</td>\n",
              "      <td>2</td>\n",
              "    </tr>\n",
              "  </tbody>\n",
              "</table>\n",
              "<p>150 rows × 5 columns</p>\n",
              "</div>"
            ],
            "text/plain": [
              "     sepal length (cm)  sepal width (cm)  ...  petal width (cm)  Target\n",
              "0                  5.1               3.5  ...               0.2       0\n",
              "1                  4.9               3.0  ...               0.2       0\n",
              "2                  4.7               3.2  ...               0.2       0\n",
              "3                  4.6               3.1  ...               0.2       0\n",
              "4                  5.0               3.6  ...               0.2       0\n",
              "..                 ...               ...  ...               ...     ...\n",
              "145                6.7               3.0  ...               2.3       2\n",
              "146                6.3               2.5  ...               1.9       2\n",
              "147                6.5               3.0  ...               2.0       2\n",
              "148                6.2               3.4  ...               2.3       2\n",
              "149                5.9               3.0  ...               1.8       2\n",
              "\n",
              "[150 rows x 5 columns]"
            ]
          },
          "execution_count": 9,
          "metadata": {},
          "output_type": "execute_result"
        }
      ],
      "source": [
        "# membuat DataFrame baru berisi iris_dataset dg judul kolom=nama feature\n",
        "df_iris=pd.DataFrame(iris_dataset.data,columns=iris_dataset.feature_names)\n",
        "# memasukkan data target (label) tiap sampel ke kolom baru 'Target'\n",
        "df_iris['Target'] = pd.Series(iris_dataset.target)\n",
        "# menampilkan DataFrame df_iris\n",
        "df_iris"
      ]
    },
    {
      "cell_type": "markdown",
      "metadata": {
        "id": "ww-o9tsErK2V"
      },
      "source": [
        "Data Feature -> sepal length dan width, petal length dan width\n",
        "\n",
        "Data Target -> Target"
      ]
    },
    {
      "cell_type": "markdown",
      "metadata": {
        "id": "AIZ_-tN2ra72"
      },
      "source": [
        "2. Split Datasets\n",
        "\n",
        "    Setelah dataset di-import, selanjutnya data ini perlu dibagi menjadi dua bagian: data training dan data testing. Data training adalah kumpulan data yang akan digunakan untuk melatih model kita. Sedangkan data testing digunakan untuk mengetahui performa model kita yang telah dilatih tadi. Oleh karena itu, data testing sebaiknya berbeda dan terpisah dari data training. Ini supaya kita bisa benar-benar mengetahui apakah model mesin yang telah kita latih ini ketika diberikan masukan berupa data baru (yang berbeda dengan data ketika ia di-train) tetap dapat melakukan tugasnya dan menunjukkan performa yang bagus. Untuk jumlah sample dataset yang jauh lebih banyak, data tidak hanya disarankan dibagi menjadi dua, tetapi dapat dibagi menjadi tiga, dengan tambahan data validation selain data training dan data testing.\n",
        "\n",
        "    Rasio antara data training dan data testing berbeda-beda tergantung jumlah dataset yang dimiliki. Dalam hal ini, akan dicoba digunakan rasio 80% : 20% antara training dan testing data. Untuk melakukan split dataset menjadi dua bagian, sklearn sudah menyediakan library `train_test_split` untuk melakukannya. Selain splitting data, fungsi ini juga sekaligus akan men-shuffle atau mengacak pembagian data. Terdapat pula fungsi `test_size` untuk mengatur porsi dari data testing dibandingkan data keseluruhan."
      ]
    },
    {
      "cell_type": "code",
      "execution_count": 10,
      "metadata": {
        "id": "UyGpS5OmA3V4"
      },
      "outputs": [],
      "source": [
        "#Split dataset menjadi 2: data training dan data testing\n",
        "from sklearn.model_selection import train_test_split\n",
        "x = iris_dataset.data #feature\n",
        "y = iris_dataset.target #label\n",
        "x_train, x_test, y_train, y_test = train_test_split(x, y, test_size= .2, random_state=12)"
      ]
    },
    {
      "cell_type": "markdown",
      "metadata": {
        "id": "4JEqqW0oBEwr"
      },
      "source": [
        "Setelah pembagian data dijalankan, hasil pembagian dapat dicek menggunakan perintah berikut."
      ]
    },
    {
      "cell_type": "code",
      "execution_count": 11,
      "metadata": {
        "colab": {
          "base_uri": "https://localhost:8080/"
        },
        "id": "Vv3jfD5lBGNg",
        "outputId": "3207f1c4-5f05-422d-a485-ab78b8bc24a2"
      },
      "outputs": [
        {
          "name": "stdout",
          "output_type": "stream",
          "text": [
            "x_train shape: (120, 4)\n",
            "y_train shape: (120,)\n",
            "x_test shape: (30, 4)\n",
            "y_test shape: (30,)\n"
          ]
        }
      ],
      "source": [
        "print(\"x_train shape: {}\".format(x_train.shape))\n",
        "print(\"y_train shape: {}\".format(y_train.shape))\n",
        "print(\"x_test shape: {}\".format(x_test.shape))\n",
        "print(\"y_test shape: {}\".format(y_test.shape))"
      ]
    },
    {
      "cell_type": "markdown",
      "metadata": {
        "id": "80L27Ri2B8VW"
      },
      "source": [
        "3. Build the Model\n",
        "    \n",
        "    Kasus Iris ini merupakan kasus three class classification karena tiap sampel akan digolongkan menjadi salah satu dari tiga class yang ada (atau dalam hal ini spesies). Three class classification dalam machine learning termasuk multiclass classification yang dapat dimodelkan menggunakan berbagai macam algoritma classifier seperti DecisionTree (DT), Support Vector Machines (SVM), K-NearestNeighbor (KNN), dll. Di percobaan ini, akan digunakan algoritma KNN. Kenapa? Mungkin akan dibahas di lain waktu?\n",
        "\n",
        "    KNN sendiri pada prinsipnya akan mengklasifikasikan sebuah data baru ke kelas tertentu berdasarkan jarak data baru tersebut dengan k data terdekat. Dapat dilihat pada ilustrasi gambar di bawah ini, ketika kita memilih nilai k=3, sample baru pada model di bawah ini akan diklasifikasikan ke Kelas A. Hal ini dikarenakan 3 sampel terdekat dari sampel baru, mayoritasnya adalah Kelas A (persegi panjang merah). Namun ketika dipilih nilai k=8, sampel akan diklasifikasikan ke Kelas B dengan alasan yang serupa.\n",
        "\n",
        "    ![konsep_knn02.png](https://raw.githubusercontent.com/nurimammasri/Wooky-Machine-Learning/main/Images/konsep_knn02.png)\n",
        "\n",
        "    Oleh karena itu, ketika menggunakan KNN, pemilihan nilai k harus dibuat sedemikian rupa agar model yang kita buat benar-benar mendekati benar 😮 Pemilihan nilai ini dapat dilakukan dengan berbagai metode yang mungkin akan dibahas di lain waktu juga? Namun untuk percobaan kali ini, akan digunakan nilai k default dari sklearn yaitu k=5."
      ]
    },
    {
      "cell_type": "code",
      "execution_count": 12,
      "metadata": {
        "colab": {
          "base_uri": "https://localhost:8080/"
        },
        "id": "ERqR-VjXCKsj",
        "outputId": "4108c128-a45c-4b24-86d6-aa08d1fca163"
      },
      "outputs": [
        {
          "data": {
            "text/plain": [
              "KNeighborsClassifier(algorithm='auto', leaf_size=30, metric='minkowski',\n",
              "                     metric_params=None, n_jobs=None, n_neighbors=5, p=2,\n",
              "                     weights='uniform')"
            ]
          },
          "execution_count": 12,
          "metadata": {},
          "output_type": "execute_result"
        }
      ],
      "source": [
        "from sklearn import neighbors\n",
        "classifier = neighbors.KNeighborsClassifier()\n",
        "\n",
        "#train the model\n",
        "classifier.fit(x_train, y_train)"
      ]
    },
    {
      "cell_type": "markdown",
      "metadata": {
        "id": "icZSRByqDKZg"
      },
      "source": [
        "4. Test the Model\n",
        "\n",
        "    Setelah melatih model dengan kumpulan data train, saatnya mengetes model tersebut untuk mengetahui performanya.\n"
      ]
    },
    {
      "cell_type": "code",
      "execution_count": 13,
      "metadata": {
        "colab": {
          "base_uri": "https://localhost:8080/"
        },
        "id": "R9G1coNnDNf3",
        "outputId": "95f8c085-de65-4b81-d13d-b1355e5b2e87"
      },
      "outputs": [
        {
          "name": "stdout",
          "output_type": "stream",
          "text": [
            "0.9666666666666667\n"
          ]
        }
      ],
      "source": [
        "#make predictions\n",
        "y_pred = classifier.predict(x_test)\n",
        "\n",
        "#prediction dibandingkan dengan expected output (y_test) utk mengetahui nilai akurasi\n",
        "from sklearn.metrics import accuracy_score\n",
        "print(accuracy_score(y_test, y_pred))"
      ]
    },
    {
      "cell_type": "markdown",
      "metadata": {
        "id": "qnsy-sGSGxjR"
      },
      "source": [
        "5. Result\n",
        "\n",
        "    Hasil yang diperoleh adalah accuracy 96,67%. Lalu, apa arti angka ini? Nilai ini mungkin sedikit lebih dapat dimengerti dengan mencetak sebuah matriks bernama confusion matrix (matriks kebingungan?)"
      ]
    },
    {
      "cell_type": "code",
      "execution_count": 14,
      "metadata": {
        "colab": {
          "base_uri": "https://localhost:8080/"
        },
        "id": "Wh2z9fD-GxCC",
        "outputId": "7b5f0b61-394e-48cd-cfcd-13c1c70ab426"
      },
      "outputs": [
        {
          "data": {
            "text/plain": [
              "array([[12,  0,  0],\n",
              "       [ 0,  8,  1],\n",
              "       [ 0,  0,  9]])"
            ]
          },
          "execution_count": 14,
          "metadata": {},
          "output_type": "execute_result"
        }
      ],
      "source": [
        "from sklearn.metrics import confusion_matrix\n",
        "confusion_matrix(y_test, y_pred)"
      ]
    },
    {
      "cell_type": "markdown",
      "metadata": {
        "id": "zsragf9MG53v"
      },
      "source": [
        "Apakah dengan melihat confusion matrix ini jadi benar-benar confuse? 😮\n",
        "\n",
        "* Jadi, angka-angka di dalam matriks ini kalau dijumlahkan pasti hasilnya 30. Kenapa? Karena jumlah dataset yang kita alokasikan menjadi data testing ada 30 data.\n",
        "\n",
        "* Diagonal matriks dari kiri atas ke kanan bawah merupakan jumlah data yang “True Positive” dan “True Negative” atau dengan kata lain jumlah data yang diklasifikasikan dengan benar (Iris setosa benar diklasifikasikan sebagai Iris setosa, dsb)\n",
        "\n",
        "* Angka lainnya selain yang berada pada diagonal matriks di poin kedua, merupakan jumlah data “False Negative” dan “False Positive” atau dengan kata lain jumlah data yang diklasifikasikan dengan tidak tepat (misal Iris virginica diklasifikasikan sebagai Iris versicolor)\n",
        "\n",
        "Nah, nilai accuracy ini adalah jumlah angka-angka di poin kedua, dibagi total jumlah data testing. Jadi, dalam kasus ini, nilai accuracy atau ketepatan dalam pengklasifikasian data Iris menggunakan model tadi adalah (12+8+9)/30 = 29/30 = 0.967.\n",
        "\n",
        "Tentu saja masih banyak lagi cara lain untuk melakukan klasifikasi dan optimasi dari klasifikasi itu sendiri untuk memperoleh hasil yang lebih baik. Akan tetapi untuk orang awam seperti saya, saya rasa tulisan ini cukup membuat saya dapat memahami beberapa basic dalam melakukan klasifikasi."
      ]
    },
    {
      "cell_type": "markdown",
      "metadata": {
        "id": "mGorpG5fH3mp"
      },
      "source": [
        "### **Contoh 3**"
      ]
    },
    {
      "cell_type": "code",
      "execution_count": 15,
      "metadata": {
        "id": "gUR9AQJS-nQ6"
      },
      "outputs": [],
      "source": [
        "# Memanggil pandas untuk manipulasi data \n",
        "import pandas as pd\n",
        "# Memanggil matplot untuk grafik\n",
        "import matplotlib.pyplot as plt\n",
        "from matplotlib.colors import ListedColormap\n",
        "# Memanggil library sklearn untuk import dataset\n",
        "from sklearn import datasets\n",
        "# Memanggil library sklearn untuk KNN Clasifier\n",
        "from sklearn.neighbors import KNeighborsClassifier\n"
      ]
    },
    {
      "cell_type": "code",
      "execution_count": 16,
      "metadata": {
        "colab": {
          "base_uri": "https://localhost:8080/"
        },
        "id": "8S1b4FM4-nRB",
        "outputId": "99c2b40c-eb02-42de-a526-c677d89d4bbf",
        "scrolled": true
      },
      "outputs": [
        {
          "name": "stdout",
          "output_type": "stream",
          "text": [
            "<class 'sklearn.utils.Bunch'>\n"
          ]
        }
      ],
      "source": [
        "# Memanggil IRIS dataset dari obyek sklean \n",
        "# memasukkannya ke dalam variable bunga\n",
        "bunga = datasets.load_iris()\n",
        "\n",
        "# menampilkan tipe obyek dari bunga\n",
        "print(type(bunga))"
      ]
    },
    {
      "cell_type": "code",
      "execution_count": 17,
      "metadata": {
        "colab": {
          "base_uri": "https://localhost:8080/"
        },
        "id": "co2W0lbU-nRI",
        "outputId": "f99db70a-5c42-4cd3-850a-9b7af5275e7c"
      },
      "outputs": [
        {
          "name": "stdout",
          "output_type": "stream",
          "text": [
            "dict_keys(['data', 'target', 'target_names', 'DESCR', 'feature_names', 'filename'])\n"
          ]
        }
      ],
      "source": [
        "# menampilkan dictionary keys dari data bunga\n",
        "print(bunga.keys())\n"
      ]
    },
    {
      "cell_type": "code",
      "execution_count": 18,
      "metadata": {
        "colab": {
          "base_uri": "https://localhost:8080/"
        },
        "id": "BchnS3lw-nRO",
        "outputId": "19e287d9-3b76-46c9-a4c0-eda7c1b0f88d"
      },
      "outputs": [
        {
          "name": "stdout",
          "output_type": "stream",
          "text": [
            "<class 'numpy.ndarray'> <class 'numpy.ndarray'>\n"
          ]
        }
      ],
      "source": [
        "# menampilkan tipe obyek dari atribut yang ada\n",
        "print(type(bunga.data), type(bunga.target))\n"
      ]
    },
    {
      "cell_type": "code",
      "execution_count": 19,
      "metadata": {
        "colab": {
          "base_uri": "https://localhost:8080/"
        },
        "id": "CUXkk5sD-nRR",
        "outputId": "40e4b8b3-fcc3-4b09-92cb-5fcb45241964"
      },
      "outputs": [
        {
          "name": "stdout",
          "output_type": "stream",
          "text": [
            "(150, 4)\n"
          ]
        }
      ],
      "source": [
        "# menampilkan jumlah baris dan kolom dari dataset\n",
        "print(bunga.data.shape)\n"
      ]
    },
    {
      "cell_type": "code",
      "execution_count": 20,
      "metadata": {
        "colab": {
          "base_uri": "https://localhost:8080/"
        },
        "id": "HkU-KyLM-nRV",
        "outputId": "bb1b313b-f3b4-4d4b-fd8e-32bcd1647e4b"
      },
      "outputs": [
        {
          "name": "stdout",
          "output_type": "stream",
          "text": [
            "['setosa' 'versicolor' 'virginica']\n"
          ]
        }
      ],
      "source": [
        "# menampilkan target set dari data\n",
        "print(bunga.target_names)\n"
      ]
    },
    {
      "cell_type": "code",
      "execution_count": 21,
      "metadata": {
        "colab": {
          "base_uri": "https://localhost:8080/"
        },
        "id": "8B03adNq-nRY",
        "outputId": "60a3dff5-59b2-44cc-dfdb-d49503fd1d06"
      },
      "outputs": [
        {
          "name": "stdout",
          "output_type": "stream",
          "text": [
            "   sepal length (cm)  sepal width (cm)  petal length (cm)  petal width (cm)\n",
            "0                5.1               3.5                1.4               0.2\n",
            "1                4.9               3.0                1.4               0.2\n",
            "2                4.7               3.2                1.3               0.2\n",
            "3                4.6               3.1                1.5               0.2\n",
            "4                5.0               3.6                1.4               0.2\n"
          ]
        }
      ],
      "source": [
        "# memanggil training dataset\n",
        "X = bunga.data\n",
        "\n",
        "# memanggil target set\n",
        "Y = bunga.target\n",
        "\n",
        "# Melakukan konversi tipe datasets'ke dalam tipe dataframe\n",
        "df = pd.DataFrame(X, columns=bunga.feature_names)\n",
        "\n",
        "# Mencetak 5 data pertama dari dataframe\n",
        "print(df.head())"
      ]
    },
    {
      "cell_type": "code",
      "execution_count": 22,
      "metadata": {
        "colab": {
          "base_uri": "https://localhost:8080/"
        },
        "id": "0FnQA8nJ-nRc",
        "outputId": "2a62be14-eb65-4182-b4b1-91862af18608"
      },
      "outputs": [
        {
          "data": {
            "text/plain": [
              "KNeighborsClassifier(algorithm='auto', leaf_size=30, metric='euclidean',\n",
              "                     metric_params=None, n_jobs=None, n_neighbors=6, p=2,\n",
              "                     weights='uniform')"
            ]
          },
          "execution_count": 22,
          "metadata": {},
          "output_type": "execute_result"
        }
      ],
      "source": [
        "# Memanggil KNN classifier\n",
        "knn = KNeighborsClassifier(n_neighbors=6,\n",
        "                           weights='uniform',\n",
        "                           algorithm='auto', \n",
        "                           metric='euclidean')\n",
        "\n",
        "# Fitting model dengan training data and target\n",
        "X_train = bunga['data']\n",
        "y_train = bunga['target']\n",
        "knn.fit(X_train, y_train)"
      ]
    },
    {
      "cell_type": "code",
      "execution_count": 23,
      "metadata": {
        "colab": {
          "base_uri": "https://localhost:8080/"
        },
        "id": "VtADmjWN-nRf",
        "outputId": "92183d1c-2db5-4486-f8aa-22f48a0208eb"
      },
      "outputs": [
        {
          "name": "stdout",
          "output_type": "stream",
          "text": [
            "Hasil Prediksi : Jenis bunga  [2]\n"
          ]
        }
      ],
      "source": [
        "# Data yang akan diprediksi\n",
        "Data = [[6.2, 1.5, 4.2, 2.6]]\n",
        "\n",
        "# Melakukan prediksi berdasarkan \n",
        "Y_pred = knn.predict(Data)\n",
        "\n",
        "# Mencetak hasil prediksi\n",
        "# Hasil 0 adalah Setosa\n",
        "# Hasil 1 adalah Versicolor\n",
        "# Hasil 2 adalah Virginica\n",
        "print(\"Hasil Prediksi : Jenis bunga \", Y_pred)\n"
      ]
    },
    {
      "cell_type": "code",
      "execution_count": 24,
      "metadata": {
        "colab": {
          "base_uri": "https://localhost:8080/"
        },
        "id": "-gDJHGou-nRi",
        "outputId": "3794ce3c-7ee2-496d-cef5-6ec7348d9f10"
      },
      "outputs": [
        {
          "name": "stdout",
          "output_type": "stream",
          "text": [
            "Hasil Prediksi : Jenis Bunga  [2 2 1]\n"
          ]
        }
      ],
      "source": [
        "# Data yang akan diprediksi\n",
        "Data = [[6.2, 1.5, 4.2, 2.6],\n",
        "        [4.4, 1.2, 2.7, 7.5],\n",
        "        [6.4, 2.5, 4.7, 1.5]\n",
        "       ]\n",
        "Y_pred = knn.predict(Data)\n",
        "print(\"Hasil Prediksi : Jenis Bunga \", Y_pred)"
      ]
    },
    {
      "cell_type": "markdown",
      "metadata": {
        "id": "L7Sy-MYBrDyt"
      },
      "source": [
        "# **Regresi Linear**\n",
        "\n",
        "[source youtube](https://www.youtube.com/watch?v=YKv4sOEHhYo&list=PLVG7eNu-5tw8xewpZyxr451T2c8RuZNwq&index=6&t=0s)\n",
        "\n",
        "## **Apa Yang Dimaksud Dengan Curve Fitting (Pencocokan Kurva)**\n",
        "\n",
        "Data-data yang bersifat diskrit dapat dibuat continuum melalui proses curve-fitting. Curve fitting adalah proses membangun sebuah kurva, atau fungsi matematika, yang paling cocok untuk serangkaian data yang poin, mungkin tunduk pada kendala. Pas kurva dapat melibatkan baik interpolasi, dimana sesuai tepat untuk data yang diperlukan, atau smoothing, di mana \"halus\" fungsi dibangun bahwa sekitar cocok dengan data.  \n",
        "\n",
        "Curve-fitting merupakan proses data-smoothing, yakni proses pendekatan terhadap kecenderungan data-data dalam bentuk persamaan model matematika. Proses ini juga dapat digunakan untuk keperluan interpolasi data.  \n",
        "\n",
        "* Mencari garis/kurva yang mewakili serangkaian titik data\n",
        "\n",
        "* Ada dua cara untuk melakukannya, yaitu \n",
        "\n",
        "1. Regresi \n",
        "    * Apabila data menunjukkan tingkat kesalahan yang cukup signifikan atau menunjukkan adanya noise\n",
        "    * Untuk mencari satu kurva tunggal yang mewakili pola umum perilaku data\n",
        "    * Kurva yang dicari tidak perlu melewati setiap titik data\n",
        "\n",
        "2. Interpolasi \n",
        "    * Diketahui bahwa data sangat akurat\n",
        "    * Untuk mencari satu atau serangkaian kurva yang melewati setiap titik data\n",
        "    * Untuk memperkirakan nilai-nilai di antara titik-titik data\n",
        "\n",
        "Misalkan tersedia data-data y pada berbagai x (sejumlah n pasang), maka dapat dicari suatu persamaan y = f(x) yang memberikan hubungan y dengan x yang mendekati data. Proses ini disebut curve fitting.\n",
        "\n",
        "![curvefitting.jpg](https://raw.githubusercontent.com/nurimammasri/Wooky-Machine-Learning/main/Images/curvefitting.jpg)\n",
        "\n",
        "## **Interpolasi** \n",
        "\n",
        "Interpolasi berangkat dari asumsi bahwa titik-titik data Interpolasi berangkat dari asumsi bahwa titik-titik data memiliki akurasi yang tinggi (atau ralat dapat dianggap memiliki akurasi yang tinggi (atau ralat dapat dianggap tidak ada), maka kurva fitting yang dihasilkan harus melalui tidak ada), maka kurva fitting yang dihasilkan harus melalui semua titik, maka dikatakan menginterpolasi titik-titik data semua titik, maka dikatakan menginterpolasi titik-titik data dengan sebuah fungsi. dengan sebuah fungsi.\n",
        "\n",
        "    * Apabila data menunjukkan tingkat kesalahan yang cukup signifikan atau menunjukkan adanya noise\n",
        "    * Untuk mencari satu kurva tunggal yang mewakili pola umum perilaku data\n",
        "    * Kurva yang dicari tidak perlu melewati setiap titik data\n",
        "\n",
        "## **Regresi**\n",
        "\n",
        "Regresi berangkat dari asumsi bahwa sekumpulan titik data merupakan serangkaian data hasil pengukuran yang mengandung ralat, karena itu kurva fittingnya tidak harus melalui semua titik, yang penting adalah bahwa kurva yang dihasilkan mewakili trend titik-titik data secara keseluruhan.\n",
        "\n",
        "    * Diketahui bahwa data sangat akurat\n",
        "    * Untuk mencari satu atau serangkaian kurva yang melewati setiap titik data\n",
        "    * Untuk memperkirakan nilai-nilai di antara titik-titik data\n",
        "\n",
        "## Regresi Linear\n",
        "\n",
        "![regresi01.png](https://raw.githubusercontent.com/nurimammasri/Wooky-Machine-Learning/main/Images/regresi01.png)\n",
        "\n",
        "## Regresi Polinomial\n",
        "\n",
        "![regresi02.png](https://raw.githubusercontent.com/nurimammasri/Wooky-Machine-Learning/main/Images/regresi02.png)\n",
        "\n",
        "![regresi03.png](https://raw.githubusercontent.com/nurimammasri/Wooky-Machine-Learning/main/Images/regresi03.png)\n",
        "\n",
        "\n",
        "## **Fungsi Regresi Linear**\n",
        "\n",
        "* Melihat Hubungan x dan y\n",
        "* Melihat estimasi\n",
        "* Melakukan Prediksi\n",
        "\n",
        "\n",
        "    \n",
        "    \n",
        "    \n",
        "\n",
        "\n",
        "\n"
      ]
    },
    {
      "cell_type": "markdown",
      "metadata": {
        "id": "_yNDcpOT2bwD"
      },
      "source": [
        "## **Linear Regression**\n",
        "\n",
        "[source](https://scikit-learn.org/stable/modules/generated/sklearn.linear_model.LinearRegression.html)\n",
        "\n",
        "**sklearn.linear_model.LinearRegression**\n",
        "\n",
        "`sklearn.linear_model.LinearRegression(*, fit_intercept=True, normalize=False, copy_X=True, n_jobs=None)`\n",
        "\n",
        "Ordinary least squares Linear Regression.\n",
        "\n",
        "LinearRegression fits a linear model with coefficients w = (w1, …, wp) to minimize the residual sum of squares between the observed targets in the dataset, and the targets predicted by the linear approximation.\n",
        "\n",
        "**Parameters**\n",
        "\n",
        "* fit_intercept : bool, default=True\n",
        "\n",
        "    Whether to calculate the intercept for this model. If set to False, no intercept will be used in calculations (i.e. data is expected to be centered).\n",
        "\n",
        "* normalize : bool, default=False\n",
        "\n",
        "    This parameter is ignored when fit_intercept is set to False. If True, the regressors X will be normalized before regression by subtracting the mean and dividing by the l2-norm. If you wish to standardize, please use sklearn.preprocessing.StandardScaler before calling fit on an estimator with normalize=False.\n",
        "\n",
        "* copy_X : bool, default=True\n",
        "\n",
        "    If True, X will be copied; else, it may be overwritten.\n",
        "\n",
        "* n_jobs : int, default=None\n",
        "\n",
        "    The number of jobs to use for the computation. This will only provide speedup for n_targets > 1 and sufficient large problems. None means 1 unless in a joblib.parallel_backend context. -1 means using all processors. See Glossary for more details.\n",
        "\n",
        "**Attributes**\n",
        "\n",
        "* coef_ : array of shape (n_features, ) or (n_targets, n_features)\n",
        "\n",
        "    Estimated coefficients for the linear regression problem. If multiple targets are passed during the fit (y 2D), this is a 2D array of shape (n_targets, n_features), while if only one target is passed, this is a 1D array of length n_features.\n",
        "\n",
        "* rank_ : int\n",
        "\n",
        "    Rank of matrix X. Only available when X is dense.\n",
        "\n",
        "* singular_ : array of shape (min(X, y),)\n",
        "\n",
        "    Singular values of X. Only available when X is dense.\n",
        "\n",
        "* intercept_ : float or array of shape (n_targets,)\n",
        "\n",
        "    Independent term in the linear model. Set to 0.0 if fit_intercept = False.\n"
      ]
    },
    {
      "cell_type": "code",
      "execution_count": 25,
      "metadata": {
        "id": "Pq7JGFN27mKD"
      },
      "outputs": [],
      "source": [
        "# from sklearn.linear_model import LinearRegression\n",
        "# LinearRegression?"
      ]
    },
    {
      "cell_type": "code",
      "execution_count": 26,
      "metadata": {
        "colab": {
          "base_uri": "https://localhost:8080/"
        },
        "id": "MNsFf1pw32uV",
        "outputId": "06026958-4d0a-4de4-b267-cb6aeea53492"
      },
      "outputs": [
        {
          "data": {
            "text/plain": [
              "array([16.])"
            ]
          },
          "execution_count": 26,
          "metadata": {},
          "output_type": "execute_result"
        }
      ],
      "source": [
        "import numpy as np\n",
        "from sklearn.linear_model import LinearRegression\n",
        "X = np.array([[1, 1], [1, 2], [2, 2], [2, 3]])\n",
        "# y = 1 * x_0 + 2 * x_1 + 3\n",
        "y = np.dot(X, np.array([1, 2])) + 3\n",
        "reg = LinearRegression().fit(X, y)\n",
        "reg.score(X, y)\n",
        "\n",
        "reg.coef_\n",
        "\n",
        "reg.intercept_\n",
        "\n",
        "reg.predict(np.array([[3, 5]]))"
      ]
    },
    {
      "cell_type": "code",
      "execution_count": 27,
      "metadata": {
        "colab": {
          "base_uri": "https://localhost:8080/",
          "height": 322
        },
        "id": "onpEAf-y4KJL",
        "outputId": "1967fa28-693b-4b0e-8b57-b6cc1ad8c7e3"
      },
      "outputs": [
        {
          "name": "stdout",
          "output_type": "stream",
          "text": [
            "Coefficients: \n",
            " [938.23786125]\n",
            "Mean squared error: 2548.07\n",
            "Coefficient of determination: 0.47\n"
          ]
        },
        {
          "data": {
            "image/png": "[encoded data removed]",
            "text/plain": [
              "<Figure size 432x288 with 1 Axes>"
            ]
          },
          "metadata": {},
          "output_type": "display_data"
        }
      ],
      "source": [
        "\n",
        "\n",
        "# Code source: Jaques Grobler\n",
        "# License: BSD 3 clause\n",
        "\n",
        "\n",
        "import matplotlib.pyplot as plt\n",
        "import numpy as np\n",
        "from sklearn import datasets, linear_model\n",
        "from sklearn.metrics import mean_squared_error, r2_score\n",
        "\n",
        "# Load the diabetes dataset\n",
        "diabetes_X, diabetes_y = datasets.load_diabetes(return_X_y=True)\n",
        "\n",
        "# Use only one feature\n",
        "diabetes_X = diabetes_X[:, np.newaxis, 2]\n",
        "\n",
        "# Split the data into training/testing sets\n",
        "diabetes_X_train = diabetes_X[:-20]\n",
        "diabetes_X_test = diabetes_X[-20:]\n",
        "\n",
        "# Split the targets into training/testing sets\n",
        "diabetes_y_train = diabetes_y[:-20]\n",
        "diabetes_y_test = diabetes_y[-20:]\n",
        "\n",
        "# Create linear regression object\n",
        "regr = linear_model.LinearRegression()\n",
        "\n",
        "# Train the model using the training sets\n",
        "regr.fit(diabetes_X_train, diabetes_y_train)\n",
        "\n",
        "# Make predictions using the testing set\n",
        "diabetes_y_pred = regr.predict(diabetes_X_test)\n",
        "\n",
        "# The coefficients\n",
        "print('Coefficients: \\n', regr.coef_)\n",
        "# The mean squared error\n",
        "print('Mean squared error: %.2f'\n",
        "      % mean_squared_error(diabetes_y_test, diabetes_y_pred))\n",
        "# The coefficient of determination: 1 is perfect prediction\n",
        "print('Coefficient of determination: %.2f'\n",
        "      % r2_score(diabetes_y_test, diabetes_y_pred))\n",
        "\n",
        "# Plot outputs\n",
        "plt.scatter(diabetes_X_test, diabetes_y_test,  color='black')\n",
        "plt.plot(diabetes_X_test, diabetes_y_pred, color='blue', linewidth=3)\n",
        "\n",
        "plt.xticks(())\n",
        "plt.yticks(())\n",
        "\n",
        "plt.show()"
      ]
    },
    {
      "cell_type": "markdown",
      "metadata": {
        "id": "JyOrSCNa4g32"
      },
      "source": [
        "Methods\n",
        "\n",
        "* fit(self, X, y[, sample_weight])\n",
        "\n",
        "Fit linear model.\n",
        "\n",
        "* get_params(self[, deep])\n",
        "\n",
        "Get parameters for this estimator.\n",
        "\n",
        "* predict(self, X)\n",
        "\n",
        "Predict using the linear model.\n",
        "\n",
        "* score(self, X, y[, sample_weight])\n",
        "\n",
        "Return the coefficient of determination R^2 of the prediction.\n",
        "\n",
        "* set_params(self, \\*\\*params)\n",
        "\n",
        "Set the parameters of this estimator."
      ]
    },
    {
      "cell_type": "code",
      "execution_count": 28,
      "metadata": {
        "colab": {
          "base_uri": "https://localhost:8080/",
          "height": 265
        },
        "id": "4S6u2ootXId9",
        "outputId": "1cd0a152-3e80-40b2-b943-d319c0333816"
      },
      "outputs": [
        {
          "data": {
            "image/png": "[encoded data removed]",
            "text/plain": [
              "<Figure size 432x288 with 1 Axes>"
            ]
          },
          "metadata": {
            "needs_background": "light"
          },
          "output_type": "display_data"
        }
      ],
      "source": [
        "import numpy as np\n",
        "import matplotlib.pyplot as plt\n",
        "\n",
        "rng = np.random.RandomState(1)\n",
        "x = 10*rng.rand(50)\n",
        "y = 5*x + 10 + rng.rand(50)\n",
        "\n",
        "plt.scatter(x,y)\n",
        "plt.show()"
      ]
    },
    {
      "cell_type": "code",
      "execution_count": 29,
      "metadata": {
        "colab": {
          "base_uri": "https://localhost:8080/"
        },
        "id": "WfMGSzjjY_9A",
        "outputId": "cc046128-6107-4ca9-d315-36806eb899b9"
      },
      "outputs": [
        {
          "data": {
            "text/plain": [
              "LinearRegression(copy_X=True, fit_intercept=True, n_jobs=None, normalize=False)"
            ]
          },
          "execution_count": 29,
          "metadata": {},
          "output_type": "execute_result"
        }
      ],
      "source": [
        "from sklearn.linear_model import LinearRegression\n",
        "model_lr = LinearRegression(fit_intercept=True)\n",
        "x_matrix = x[:,np.newaxis]\n",
        "model_lr.fit(x_matrix,y)"
      ]
    },
    {
      "cell_type": "code",
      "execution_count": 30,
      "metadata": {
        "id": "CuaMJ97MZTOA"
      },
      "outputs": [],
      "source": [
        "y_predict = model_lr.predict(x_matrix)"
      ]
    },
    {
      "cell_type": "code",
      "execution_count": 31,
      "metadata": {
        "colab": {
          "base_uri": "https://localhost:8080/",
          "height": 265
        },
        "id": "0CV85lWcZcze",
        "outputId": "77afe099-879e-48b0-d417-cf067cbe7a97"
      },
      "outputs": [
        {
          "data": {
            "image/png": "[encoded data removed]",
            "text/plain": [
              "<Figure size 432x288 with 1 Axes>"
            ]
          },
          "metadata": {
            "needs_background": "light"
          },
          "output_type": "display_data"
        }
      ],
      "source": [
        "plt.scatter(x, y, label='Actual Data')\n",
        "plt.plot(x, y_predict, color='r', label='Model Predicted Data')\n",
        "plt.legend()\n",
        "plt.show()"
      ]
    },
    {
      "cell_type": "code",
      "execution_count": 32,
      "metadata": {
        "colab": {
          "base_uri": "https://localhost:8080/"
        },
        "id": "GsGpl4WGqoav",
        "outputId": "04fd0d03-c58f-47e0-b0d2-b3c03d1b0d5c"
      },
      "outputs": [
        {
          "data": {
            "text/plain": [
              "array([5.00823024])"
            ]
          },
          "execution_count": 32,
          "metadata": {},
          "output_type": "execute_result"
        }
      ],
      "source": [
        "model_lr.coef_"
      ]
    },
    {
      "cell_type": "code",
      "execution_count": 33,
      "metadata": {
        "colab": {
          "base_uri": "https://localhost:8080/"
        },
        "id": "E4_bGc6yquBu",
        "outputId": "3874c055-9cd0-4324-fe87-0b420ce57e3c"
      },
      "outputs": [
        {
          "data": {
            "text/plain": [
              "10.466347027900877"
            ]
          },
          "execution_count": 33,
          "metadata": {},
          "output_type": "execute_result"
        }
      ],
      "source": [
        "model_lr.intercept_"
      ]
    },
    {
      "cell_type": "markdown",
      "metadata": {
        "id": "ua74vkyWrCDy"
      },
      "source": [
        "y = 5*x + 10 + rng.rand(50)\n",
        "\n",
        "5 -> model_lr.coef_\n",
        "\n",
        "10 -> model_lr.intercept_"
      ]
    },
    {
      "cell_type": "markdown",
      "metadata": {
        "id": "ZNplVFiUr0QB"
      },
      "source": [
        "**Data lebih dari 1Dimensi**"
      ]
    },
    {
      "cell_type": "code",
      "execution_count": 34,
      "metadata": {
        "colab": {
          "base_uri": "https://localhost:8080/"
        },
        "id": "VxXDS1d-rXZS",
        "outputId": "4f689e7f-4a47-43b4-b2fe-6da8bc984c80"
      },
      "outputs": [
        {
          "data": {
            "text/plain": [
              "LinearRegression(copy_X=True, fit_intercept=True, n_jobs=None, normalize=False)"
            ]
          },
          "execution_count": 34,
          "metadata": {},
          "output_type": "execute_result"
        }
      ],
      "source": [
        "x = rng.rand(50,3) \n",
        "y = np.dot(x, [4, 2, 7]) + 20 # -> x*4 + x*2 + x*7 + 20\n",
        "\n",
        "model_lr2 = LinearRegression(fit_intercept=True)\n",
        "model_lr2.fit(x,y)"
      ]
    },
    {
      "cell_type": "code",
      "execution_count": 35,
      "metadata": {
        "id": "IXkCai5ssdgG"
      },
      "outputs": [],
      "source": [
        "y_predict = model_lr2.predict(x)"
      ]
    },
    {
      "cell_type": "code",
      "execution_count": 36,
      "metadata": {
        "colab": {
          "base_uri": "https://localhost:8080/"
        },
        "id": "yv4PoRd9suTR",
        "outputId": "efc46d12-bb51-454f-f930-83e88424b537"
      },
      "outputs": [
        {
          "data": {
            "text/plain": [
              "array([4., 2., 7.])"
            ]
          },
          "execution_count": 36,
          "metadata": {},
          "output_type": "execute_result"
        }
      ],
      "source": [
        "model_lr2.coef_"
      ]
    },
    {
      "cell_type": "code",
      "execution_count": 37,
      "metadata": {
        "colab": {
          "base_uri": "https://localhost:8080/"
        },
        "id": "DSMpS084su8A",
        "outputId": "c94ca8e6-856c-4016-b711-ae1752ff3981"
      },
      "outputs": [
        {
          "data": {
            "text/plain": [
              "20.000000000000007"
            ]
          },
          "execution_count": 37,
          "metadata": {},
          "output_type": "execute_result"
        }
      ],
      "source": [
        "model_lr2.intercept_"
      ]
    },
    {
      "cell_type": "markdown",
      "metadata": {
        "id": "xJYNSXTAzN6u"
      },
      "source": [
        "**Contoh 3**\n",
        "\n",
        "[link text](https://www.megabagus.id/simple-linear-regression/)\n",
        "\n",
        "[link text](https://www.youtube.com/watch?v=YKv4sOEHhYo&list=PLVG7eNu-5tw8xewpZyxr451T2c8RuZNwq&index=6&t=0s)"
      ]
    },
    {
      "cell_type": "markdown",
      "metadata": {
        "id": "7bEplmQDzSEf"
      },
      "source": [
        "1) Memanggil library yang dibutuhkan"
      ]
    },
    {
      "cell_type": "code",
      "execution_count": 38,
      "metadata": {
        "id": "OkZAsqHNzNf2"
      },
      "outputs": [],
      "source": [
        "import numpy as np\n",
        "import pandas as pd\n",
        "import matplotlib.pyplot as plt\n",
        "import sklearn"
      ]
    },
    {
      "cell_type": "markdown",
      "metadata": {
        "id": "ic5ytjBO_QnS"
      },
      "source": [
        "2) Memanggil Dataset"
      ]
    },
    {
      "cell_type": "code",
      "execution_count": 39,
      "metadata": {
        "id": "zXbpRxuW_Uj9"
      },
      "outputs": [],
      "source": [
        "# DataGaji.csv\n",
        "dataset = pd.read_csv('https://drive.google.com/uc?id=1mm_rMyGzyBZoNC0bgB1KpBlXIF7zKSDr')\n",
        "\n",
        "\n",
        "\n",
        "# Sumbu x adalah gaji dan Sumbu y adalah Pengalaman Kerja\n",
        "x = dataset.iloc[:, :-1].values\n",
        "y = dataset.iloc[:, -1].values"
      ]
    },
    {
      "cell_type": "markdown",
      "metadata": {
        "id": "2X5ovqPW_U_P"
      },
      "source": [
        "3) Menampilkan Grafik Data Asli"
      ]
    },
    {
      "cell_type": "code",
      "execution_count": 40,
      "metadata": {
        "colab": {
          "base_uri": "https://localhost:8080/",
          "height": 295
        },
        "id": "7CbOG2AQ_ZFt",
        "outputId": "4d18880d-d93a-406c-9929-0c4375a854a5"
      },
      "outputs": [
        {
          "data": {
            "image/png": "[encoded data removed]",
            "text/plain": [
              "<Figure size 432x288 with 1 Axes>"
            ]
          },
          "metadata": {
            "needs_background": "light"
          },
          "output_type": "display_data"
        }
      ],
      "source": [
        "# menampilkan isi sebagian dataset\n",
        "dataku = pd.DataFrame(dataset)\n",
        "plt.scatter(dataku.Tahun_bekerja, dataku.Gaji)\n",
        "plt.xlabel('Tahun')\n",
        "plt.ylabel('Pendapatan')\n",
        "plt.title('Grafik Masa Kerja vs Pendapatan')\n",
        "plt.show()"
      ]
    },
    {
      "cell_type": "markdown",
      "metadata": {
        "id": "VRHq-MNH_Zyl"
      },
      "source": [
        "4) Memecah Data Training dan Data Testing"
      ]
    },
    {
      "cell_type": "code",
      "execution_count": 41,
      "metadata": {
        "id": "HrreLEMv_fBW"
      },
      "outputs": [],
      "source": [
        "from sklearn.model_selection import train_test_split\n",
        "x_train, x_test, y_train, y_test = train_test_split(x, y, test_size = 0.2, random_state = 0)"
      ]
    },
    {
      "cell_type": "markdown",
      "metadata": {
        "id": "_5tOEP70DXAD"
      },
      "source": [
        "5) Fitting Metode Regresi Linear"
      ]
    },
    {
      "cell_type": "code",
      "execution_count": 42,
      "metadata": {
        "colab": {
          "base_uri": "https://localhost:8080/"
        },
        "id": "c46D6L8kDbR3",
        "outputId": "ce3a5571-8880-4084-cdda-30cf0bd69019"
      },
      "outputs": [
        {
          "data": {
            "text/plain": [
              "LinearRegression(copy_X=True, fit_intercept=True, n_jobs=None, normalize=False)"
            ]
          },
          "execution_count": 42,
          "metadata": {},
          "output_type": "execute_result"
        }
      ],
      "source": [
        "# Melakukan Fitting Simple Linear Regression pada training set\n",
        "from sklearn.linear_model import LinearRegression\n",
        "regressor = LinearRegression()\n",
        "regressor.fit(x_train, y_train)"
      ]
    },
    {
      "cell_type": "markdown",
      "metadata": {
        "id": "W0c6PdSNZHtX"
      },
      "source": [
        "6) Memprediksi hasil test set"
      ]
    },
    {
      "cell_type": "code",
      "execution_count": 43,
      "metadata": {
        "id": "RAZYB0G5ZLLj"
      },
      "outputs": [],
      "source": [
        "y_pred = regressor.predict(x_test)"
      ]
    },
    {
      "cell_type": "markdown",
      "metadata": {
        "id": "uiRP8gFrDbxr"
      },
      "source": [
        "6) Visualisasi Training Proses"
      ]
    },
    {
      "cell_type": "code",
      "execution_count": 44,
      "metadata": {
        "colab": {
          "base_uri": "https://localhost:8080/",
          "height": 295
        },
        "id": "K_1-sTMbWV3V",
        "outputId": "d40535f6-e926-4d5f-9661-042ec37709f7"
      },
      "outputs": [
        {
          "data": {
            "image/png": "[encoded data removed]",
            "text/plain": [
              "<Figure size 432x288 with 1 Axes>"
            ]
          },
          "metadata": {
            "needs_background": "light"
          },
          "output_type": "display_data"
        }
      ],
      "source": [
        "# Visualisasi hasil Training Set\n",
        "plt.scatter(x_train, y_train, color = 'red')\n",
        "plt.plot(x_train, regressor.predict(x_train), color = 'blue')\n",
        "plt.title('Gaji vs Pengalaman (Training set)')\n",
        "plt.xlabel('Tahun bekerja')\n",
        "plt.ylabel('Gaji')\n",
        "plt.show()"
      ]
    },
    {
      "cell_type": "code",
      "execution_count": 45,
      "metadata": {
        "colab": {
          "base_uri": "https://localhost:8080/",
          "height": 295
        },
        "id": "LBHF9pOsZSYV",
        "outputId": "2d84ac5c-be3b-4c90-93ca-d45146f8ac2a"
      },
      "outputs": [
        {
          "data": {
            "image/png": "[encoded data removed]",
            "text/plain": [
              "<Figure size 432x288 with 1 Axes>"
            ]
          },
          "metadata": {
            "needs_background": "light"
          },
          "output_type": "display_data"
        }
      ],
      "source": [
        "# Visualisasi hasil Test Set\n",
        "plt.scatter(x_test, y_test, color = 'red')\n",
        "plt.plot(x_train, regressor.predict(x_train), color = 'blue')\n",
        "plt.title('Gaji vs Pengalaman (Test set)')\n",
        "plt.xlabel('Tahun bekerja')\n",
        "plt.ylabel('Gaji')\n",
        "plt.show()"
      ]
    },
    {
      "cell_type": "markdown",
      "metadata": {
        "id": "8Hhk56aXpUqz"
      },
      "source": [
        "# **Task**"
      ]
    },
    {
      "cell_type": "markdown",
      "metadata": {
        "id": "5K6xQ_mFbt7B"
      },
      "source": [
        "<h1>Soal 1: Pemahaman Algoritma</h1>\n",
        "\n",
        "Jawab Pertanyaan di bawah ini dengan penyampaian bahasa sendiri!\n",
        "\n",
        "1. Bagaimana proses algoritma KNN?\n",
        "2. Jelaskan minimal 2 kekurangan dari algoritma KNN?"
      ]
    },
    {
      "cell_type": "markdown",
      "metadata": {
        "id": "00A5KWAygagM"
      },
      "source": [
        "Jawab:\n",
        "\n",
        "1. Algoritma k-Nearest Neighbor adalah algoritma supervised\n",
        "learning dimana hasil dari instance yang baru diklasifikasikan berdasarkan mayoritas dari kategori k-tetangga terdekat.\n",
        "\n",
        "    Tujuan dari algoritma ini adalah untuk mengklasifikasikan obyek baru berdasarkan atribut dan sample-sample dari training data.\n",
        "\n",
        "    Algoritma k-Nearest Neighbor menggunakan Neighborhood Classification sebagai nilai prediksi dari nilai instance yang baru.\n",
        "    \n",
        "    Adapun proses algoritma KNN :\n",
        "\n",
        "    1. Menentukan parameter k (jumlah tetangga paling dekat).\n",
        "\n",
        "    2. Menghitung kuadrat jarak eucliden objek terhadap data training yang diberikan.\n",
        "\n",
        "    3. Mengurutkan hasil no 2 secara ascending (berurutan dari nilai tinggi ke rendah)\n",
        "\n",
        "    4. Mengumpulkan kategori Y (Klasifikasi nearest neighbor berdasarkan nilai k)\n",
        "\n",
        "    5. Dengan menggunakan kategori nearest neighbor yang paling mayoritas maka dapat dipredisikan kategori objek.\n",
        "\n",
        "    **Contoh Kasus**\n",
        "\n",
        "    Misalnya ada sebuah rumah yang berada tepat di tengah perbatasan antara Kota Bandung dan Kabupaten Bandung, sehingga pemerintah kesulitan untuk menentukan apakah rumah tersebut termasuk kedalam wilayah Kota Bandung atau Kabupaten Bandung.\n",
        "\n",
        "    Kita bisa menentukannya dengan menggunakan Algoritma k-NN, yaitu dengan melibatkan jarak antara rumah tersebut dengan rumah-rumah yang ada disekitarnya (tetangganya).\n",
        "\n",
        "2. Kekurangan KNN\n",
        "\n",
        "    1. Sangat sensitif terhadap data pencilan\n",
        "\n",
        "    kNN bisa jadi sangat fleksibel jika k kecil. Fleksibilitas ini mengakibatkan kNN cenderung sensitif terhadap data pencilan, khususnya pencilan yang terletak di “tengah-tengah”. Sehingga menyebabkan tidak efektifnya algoritma yang digunakan.\n",
        "\n",
        "    2. jika k-nya genap, model KNN akan kebingunan kalau misalkan label dari tetangga terdekat jumlahnya sama (cara menghandle yakni dengan cara mengggunakan hyperparameter weight)"
      ]
    },
    {
      "cell_type": "markdown",
      "metadata": {
        "id": "UDvanK5pgcnF"
      },
      "source": [
        "---"
      ]
    },
    {
      "cell_type": "markdown",
      "metadata": {
        "id": "VsHxDJ4jbt7P"
      },
      "source": [
        "<h1>Soal 2: Pengaplikasian Algoritma KNN</h1>\n",
        "\n",
        "- Buatlah model KNN\n",
        "- Training model tersebut kepada data X_train dengan hyperparameter kombinasi antara  2<= k <=20 dan weights bernilai 'uniform', dan 'distance'  \n",
        "- Lakukan prediksi terhadap data X_test untuk model di setiap kombinasi k dan weights\n",
        "- Score dengan accuracy dari hasil prediksi terhadap data X_test untuk setiap kombinasi hyperparameter, masukan score tersebut ke dalam objek list dengan di groupkan berdasarkan jenis weights, sehingga di akhir kita punya variable misalkan list_uniform_score, dan list_distance_score\n",
        "- Plot kedua list tersebut dengan lineplot kedalam satu axis dan bandingkan hasilnya"
      ]
    },
    {
      "cell_type": "code",
      "execution_count": 46,
      "metadata": {
        "id": "Gng40Wu8bt7c"
      },
      "outputs": [],
      "source": [
        "from sklearn.datasets import load_wine\n",
        "import pandas as pd\n",
        "import numpy as np\n",
        "\n",
        "wine = load_wine()\n",
        "df = pd.DataFrame(np.c_[wine['data'], wine['target']], columns= wine['feature_names'] + ['class'])\n",
        "\n",
        "#Preprocessing data\n",
        "X = df.drop('class', axis=1)\n",
        "y = df['class']\n",
        "\n",
        "from sklearn.model_selection import train_test_split\n",
        "\n",
        "X_train, X_test, y_train, y_test = train_test_split(X, y, test_size=0.2, random_state=21)"
      ]
    },
    {
      "cell_type": "code",
      "execution_count": 47,
      "metadata": {
        "colab": {
          "base_uri": "https://localhost:8080/"
        },
        "id": "N1vWzgTnQEVV",
        "outputId": "897523fa-e456-4f39-bf48-8681a4dc8f58"
      },
      "outputs": [
        {
          "name": "stdout",
          "output_type": "stream",
          "text": [
            "Uniform Scores :  [0.6944444444444444, 0.8055555555555556, 0.7222222222222222, 0.6666666666666666, 0.6388888888888888, 0.75, 0.6388888888888888, 0.6944444444444444, 0.6944444444444444, 0.7222222222222222, 0.6388888888888888, 0.6666666666666666, 0.6388888888888888, 0.6666666666666666, 0.6111111111111112, 0.6666666666666666, 0.6388888888888888, 0.6666666666666666, 0.6111111111111112]\n",
            "Distance Scores :  [0.75, 0.8333333333333334, 0.7777777777777778, 0.75, 0.7222222222222222, 0.75, 0.6944444444444444, 0.7222222222222222, 0.6944444444444444, 0.6944444444444444, 0.6944444444444444, 0.6944444444444444, 0.6944444444444444, 0.6666666666666666, 0.6666666666666666, 0.6666666666666666, 0.6666666666666666, 0.6666666666666666, 0.6666666666666666]\n"
          ]
        }
      ],
      "source": [
        "# Build the Model\n",
        "from sklearn.neighbors import KNeighborsClassifier\n",
        "from itertools import product\n",
        "\n",
        "ks = np.arange(2, 21)\n",
        "weights = ['distance', 'uniform']\n",
        "\n",
        "def knn_predict(k, weight):\n",
        "  model = KNeighborsClassifier(n_neighbors = k, weights=weight)\n",
        "  model.fit(X_train, y_train)\n",
        "  score = model.score(X_test, y_test)\n",
        "  return score\n",
        "\n",
        "list_uniform_score = []\n",
        "list_distance_score = []\n",
        "\n",
        "for  k, weight in product(ks, weights):\n",
        "  score = knn_predict(k, weight)\n",
        "  if weight == 'uniform':\n",
        "    list_uniform_score.append(score)\n",
        "  elif weight == 'distance':\n",
        "    list_distance_score.append(score)\n",
        "\n",
        "print('Uniform Scores : ', list_uniform_score)\n",
        "print('Distance Scores : ', list_distance_score)\n"
      ]
    },
    {
      "cell_type": "code",
      "execution_count": 48,
      "metadata": {
        "colab": {
          "base_uri": "https://localhost:8080/",
          "height": 347
        },
        "id": "qF9GLCy8l_qw",
        "outputId": "7bc6690a-6c32-4844-852e-8d58bfc7d0f6"
      },
      "outputs": [
        {
          "data": {
            "image/png": "[encoded data removed]",
            "text/plain": [
              "<Figure size 1296x648 with 1 Axes>"
            ]
          },
          "metadata": {
            "needs_background": "light"
          },
          "output_type": "display_data"
        }
      ],
      "source": [
        "import matplotlib.pyplot as plt\n",
        "\n",
        "fig, ax = plt.subplots(figsize=(18, 9))\n",
        "ax.plot(ks, list_uniform_score, marker='x',  label='Uniform Scores')\n",
        "ax.plot(ks, list_distance_score, marker='o', label='Distance Scores')\n",
        "\n",
        "ax.set_xlabel('K-Value')\n",
        "ax.set_ylabel('Score')\n",
        "ax.set_title('Acuracy : Uniform Scores vs Distance Scores')\n",
        "fig.legend()\n",
        "plt.show()"
      ]
    },
    {
      "cell_type": "markdown",
      "metadata": {
        "id": "9IRv63G0bt8T"
      },
      "source": [
        "Contoh hasil yang di harapkan :\n",
        "\n",
        "\n",
        "```\n",
        "Uniform Scores:\n",
        "[0.6944444444444444,\n",
        " 0.8055555555555556,\n",
        " 0.7222222222222222,\n",
        " 0.6666666666666666,\n",
        " 0.6388888888888888,\n",
        " 0.75,\n",
        " 0.6388888888888888,\n",
        " 0.6944444444444444,\n",
        " 0.6944444444444444,\n",
        " 0.7222222222222222,\n",
        " 0.6388888888888888,\n",
        " 0.6666666666666666,\n",
        " 0.6388888888888888,\n",
        " 0.6666666666666666,\n",
        " 0.6111111111111112,\n",
        " 0.6666666666666666,\n",
        " 0.6388888888888888,\n",
        " 0.6666666666666666,\n",
        " 0.6111111111111112]\n",
        "\n",
        "Distance scores:\n",
        "[0.75,\n",
        " 0.8333333333333334,\n",
        " 0.7777777777777778,\n",
        " 0.75,\n",
        " 0.7222222222222222,\n",
        " 0.75,\n",
        " 0.6944444444444444,\n",
        " 0.7222222222222222,\n",
        " 0.6944444444444444,\n",
        " 0.6944444444444444,\n",
        " 0.6944444444444444,\n",
        " 0.6944444444444444,\n",
        " 0.6944444444444444,\n",
        " 0.6666666666666666,\n",
        " 0.6666666666666666,\n",
        " 0.6666666666666666,\n",
        " 0.6666666666666666,\n",
        " 0.6666666666666666,\n",
        " 0.6666666666666666]\n",
        "```\n",
        "\n",
        "![soal03.png](https://raw.githubusercontent.com/nurimammasri/Wooky-Machine-Learning/main/Images/soal03.png)"
      ]
    },
    {
      "cell_type": "markdown",
      "metadata": {
        "id": "UnInuMmFgfQp"
      },
      "source": [
        "---"
      ]
    },
    {
      "cell_type": "markdown",
      "metadata": {
        "id": "1xGA6Usmbt8b"
      },
      "source": [
        "<h1>Soal 3: Pengaplikasian Model Linear Regression</h1>\n",
        "\n",
        "Applikasikan model linear regresi kedalam data berikut. Kemudian tunjukan parameter koefesien dan intercept dari model tersebut."
      ]
    },
    {
      "cell_type": "code",
      "execution_count": 49,
      "metadata": {
        "id": "IEsbrAiybt8i"
      },
      "outputs": [],
      "source": [
        "import numpy as np\n",
        "\n",
        "rng = np.random.RandomState(1)\n",
        "\n",
        "X = 10 * rng.rand(50, 4)\n",
        "y = np.array([  0.9826564 ,  49.40390035,  85.76013175,  29.17254633,\n",
        "        11.270054  ,  61.53852735, -19.52503854,  10.10230867,\n",
        "        82.03058206,  45.72660678,  82.09252575,  90.78872391,\n",
        "        67.94178098,  39.97492762, 124.78866966,  85.24615819,\n",
        "        85.68491086,  80.39481211,  14.54591581, 137.19722354,\n",
        "        85.04063428,  94.76681927,  84.64289989,  38.76421156,\n",
        "        47.33953927,  94.50853335,  77.3276567 ,  -9.77846805,\n",
        "        61.13434468,  42.12124052,  26.65634335, 120.41593333,\n",
        "       138.08132504, 103.33745675, 145.64447692,  19.54777986,\n",
        "        87.40631024, 111.47327389,  95.94874761, 146.34817502,\n",
        "       118.10333528,  56.85956484, 108.57660235, 114.30790247,\n",
        "        40.27107041,  73.83871008,  45.52217182,  -7.57752547,\n",
        "       147.81772162, 139.40285349])"
      ]
    },
    {
      "cell_type": "code",
      "execution_count": 50,
      "metadata": {
        "colab": {
          "base_uri": "https://localhost:8080/"
        },
        "id": "E6OFRzeon99t",
        "outputId": "dff79b28-bc40-451a-8f3c-14af7899ad1d"
      },
      "outputs": [
        {
          "data": {
            "text/plain": [
              "LinearRegression(copy_X=True, fit_intercept=True, n_jobs=None, normalize=False)"
            ]
          },
          "execution_count": 50,
          "metadata": {},
          "output_type": "execute_result"
        }
      ],
      "source": [
        "from sklearn.linear_model import LinearRegression\n",
        "\n",
        "model_lr = LinearRegression(fit_intercept=True)\n",
        "model_lr.fit(X, y)"
      ]
    },
    {
      "cell_type": "code",
      "execution_count": 51,
      "metadata": {
        "colab": {
          "base_uri": "https://localhost:8080/"
        },
        "id": "_HV-JKI0oWlU",
        "outputId": "3dc5780e-894d-4619-e53b-bf243f9eb873"
      },
      "outputs": [
        {
          "data": {
            "text/plain": [
              "array([ 1.5, -5. ,  9. , 10. ])"
            ]
          },
          "execution_count": 51,
          "metadata": {},
          "output_type": "execute_result"
        }
      ],
      "source": [
        "model_lr.coef_"
      ]
    },
    {
      "cell_type": "code",
      "execution_count": 52,
      "metadata": {
        "colab": {
          "base_uri": "https://localhost:8080/"
        },
        "id": "tZ3H7VOooanu",
        "outputId": "6cfac5ce-04b1-434a-c737-5d0f4b140d2e"
      },
      "outputs": [
        {
          "data": {
            "text/plain": [
              "0.5000000016247981"
            ]
          },
          "execution_count": 52,
          "metadata": {},
          "output_type": "execute_result"
        }
      ],
      "source": [
        "model_lr.intercept_"
      ]
    },
    {
      "cell_type": "code",
      "execution_count": 53,
      "metadata": {
        "id": "s87gzisgolgl"
      },
      "outputs": [],
      "source": [
        "# y = 1.5*X - 5*X + 9*X + 10*X + 5\n",
        "# y"
      ]
    }
  ],
  "metadata": {
    "colab": {
      "collapsed_sections": [],
      "name": "02.  Algoritma KNN dan Model Regresi Linear.ipynb",
      "provenance": []
    },
    "kernelspec": {
      "display_name": "Python 3",
      "name": "python3"
    }
  },
  "nbformat": 4,
  "nbformat_minor": 0
}
