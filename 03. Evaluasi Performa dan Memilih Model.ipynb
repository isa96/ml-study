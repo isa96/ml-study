{
  "cells": [
    {
      "cell_type": "markdown",
      "metadata": {
        "id": "YWCmk2nenY6E"
      },
      "source": [
        "# **Partisi Data**\n",
        "\n",
        "Data yang kita punya kudu dipartisi atau dibagi-bagi jadi train data dan test data. Biasanya ukurannya 8:2 buat train vs test datanya. Di tutorial ini kita bakal tau 2 jenis pembagian data yaitu:\n",
        "\n",
        "1. Train Test Split\n",
        "2. K-fold\n",
        "\n",
        "\n",
        "\n"
      ]
    },
    {
      "cell_type": "markdown",
      "metadata": {
        "id": "_XLUjjHfHYV9"
      },
      "source": [
        "## **Train Test Data**\n",
        "\n",
        "Yang akan kita lakukan adalah ngebagi kesemua 150 data jadi 2 bagian, data training dan data testing. Perbandingannya bakal otomatis 80:20 persen. Well sebenernya ga pas-pas banget sih.. tapi ya sekitaran itu. Jadi bakal ada x buat training dan testing, begitu juga dengan ‘y’ bakal ada y buat training dan testing. BTW testing itu digunain buat prediksi."
      ]
    },
    {
      "cell_type": "code",
      "execution_count": 1,
      "metadata": {
        "id": "ooV5sLd9qL3G"
      },
      "outputs": [],
      "source": [
        "# disini aku bakal import datanya dari sklearn\n",
        "from sklearn.datasets import load_iris\n",
        "iris=load_iris()   #datanya di load dulu!\n",
        "x=iris.data    #fitur data, di print aja kalo mau lihat\n",
        "y=iris.target   #label data, di print aja kalo mau lihat"
      ]
    },
    {
      "cell_type": "code",
      "execution_count": 2,
      "metadata": {
        "id": "DMDa3-CEqTGw"
      },
      "outputs": [],
      "source": [
        "from sklearn.neighbors import KNeighborsClassifier\n",
        "import numpy as np\n",
        "knn=KNeighborsClassifier(n_neighbors=1) #define K=1"
      ]
    },
    {
      "cell_type": "code",
      "execution_count": 3,
      "metadata": {
        "colab": {
          "base_uri": "https://localhost:8080/"
        },
        "id": "hwk0H-UMnrMY",
        "outputId": "701af078-325c-475e-cef7-3757b5c57825"
      },
      "outputs": [
        {
          "name": "stdout",
          "output_type": "stream",
          "text": [
            "(112, 4)\n",
            "(38, 4)\n",
            "[1 2 2 0 2 1 0 2 0 1 1 1 2 2 0 0 2 2 0 0 1 2 0 2 1 2 1 1 1 2 0 1 1 0 1 0 0\n",
            " 2]\n",
            "[1 2 2 0 2 1 0 1 0 1 1 2 2 2 0 0 2 2 0 0 1 2 0 1 1 2 1 1 1 2 0 1 1 0 1 0 0\n",
            " 2]\n",
            "0.9210526315789473\n"
          ]
        }
      ],
      "source": [
        "from sklearn.model_selection import train_test_split\n",
        "from sklearn import metrics\n",
        "x_train, x_test, y_train, y_test = train_test_split(x,y,random_state=5)\n",
        "print(x_train.shape) #buat tau bentuknya x_train (112 baris dan 4 kolom)\n",
        "print(x_test.shape)  #buat tau bentuknya x_test (38 baris dan 4 kolom)\n",
        "knn.fit(x_train, y_train)\n",
        "y_pred = knn.predict(x_test)\n",
        "print(y_pred)  #hasil prediksi \n",
        "print(y_test)  #jawaban yang sebenarnya\n",
        "print(metrics.accuracy_score(y_test, y_pred))  #score prediksi"
      ]
    },
    {
      "cell_type": "markdown",
      "metadata": {
        "id": "fM4Jq56dn0bW"
      },
      "source": [
        "Jadi x_train ada 112 data (80-an%) dan x_test ada 38 data (20-an%).\n",
        "Terus kita mulai training x_train dan y_train. terus x_test nya di prediksi dan dimasukan ke variabel ‘y_pred’ yang bakal jadi array yang berisi hasil klasifikasi dari ke-38 data dari x_test.\n",
        "\n",
        "Finally, kita lihat akurasi dari prediksi tadi. Pas ini kita bandingin y_test dan y_pred, karena y_test itu adalah hasil yang seharusya. jadi akurasi disini ngitung sejauh mana sih si ‘y_pred’ ini memenuhi jawaban yang sesungguhnya, yaitu ‘y_test’?"
      ]
    },
    {
      "cell_type": "markdown",
      "metadata": {
        "id": "Ia4PFR3Dn3tw"
      },
      "source": [
        "## **K-Fold Cross Validation**\n",
        "\n",
        "K-fold adalah salah satu metode Cross Validation yang populer dengan melipat data sebanyak K dan mengulangi (men-iterasi) experimennya sebanyak K juga.\n",
        "\n",
        "Misal nih, data kita ada 150. Ibarat kita pake K=5, berarti kita bagi 150 data menjadi 5 lipatan, isinya masing-masing 30 data. Eits, jangan lupa, kita perlu menentukan mana yang training data dan mana yang test data. Karena perbandingannya 80:20, berarti 120 data adalah training data dan 30 sisanya adalah test data. Berdasarkan ke-5 lipatan tadi, berarti bakal ada 4 lipatan (kita ganti aja ya nyebutnya jadi partisi ajah) x 30 data = 120 training data. Dan sisanya ada 1 partisi test data berisi 30 data.\n",
        "\n",
        "Kemudian, experimen menggunakan data yang udah di partisi-partisi bakal diulang 5 kali (K=5). Tapi posisi partisi Test data berbeda ditiap iterasinya. Misal di iterasi pertama Test nya di posisi partisi awal, terus iterasi partisi kedua Test-nya di posisi kedua, dan seterusnya, pokonya gaboleh sama. Berikut nih gambarannya biar lebih ‘ngeh’.\n",
        "\n",
        "![kfolds01.png](https://raw.githubusercontent.com/nurimammasri/Wooky-Machine-Learning/main/Images/kfolds01.png)\n",
        "\n",
        "\n",
        "Serupa dengan teknik evaluasi training dan testing, pada K-fold cross validation data akan dibagi menjadi dua bagian: training dan testing; atau tiga bagian: training, validation, dan testing. Akan tetapi, pada teknik K-fold cross validation proses pembagian training dan testing akan dilakukan sebanyak K.\n",
        "\n",
        "Contoh:\n",
        "Jika kita memiliki data mengenai jenis tumbuhan tropis pada suatu wilayah, dimana pada data tersebut tedapat 3 jenis tumbuhan: bakau(30 data), mahoni (30 data), dan jati (40 data). Total data adalah 100. jika kita melakukan 5-fold cross validation. Dimana untuk setiap fold, data akan dibagi dengan proposi 80:20. Maka,\n",
        "\n",
        "* Fold pertama data training: bakau (24 data), mahoni (24 data), dan jati (32 data); data testing: bakau (6 data), mahoni (6 data) dan jati (8 data).\n",
        "\n",
        "* Fold pertama data training: bakau (24 data), mahoni (24 data), dan jati (32 data); data testing: bakau (6 data), mahoni (6 data) dan jati (8 data). Dimana data training adalah bagian dari data training + data testing dari fold pertama. Sedangkan data testing adalah bagian dari data training fold pertama.\n",
        "dan seterusnya\n",
        "\n",
        "![kfolds02.png](https://raw.githubusercontent.com/nurimammasri/Wooky-Machine-Learning/main/Images/kfolds02.png)\n",
        "\n",
        "Pada teknik k-fold cross validation hasil validasi memiliki tingkat bias yang lebih rendah, dikarenakan algoritma ML dievaluasi pada kasus yang berbeda-beda. Namun untuk jumlah data yang cukup besar teknik ini tidak efisien dikarenakan akan memakan waktu yang cukup lama."
      ]
    },
    {
      "cell_type": "code",
      "execution_count": 4,
      "metadata": {
        "id": "lQaNHGhdqGKz"
      },
      "outputs": [],
      "source": [
        "# disini aku bakal import datanya dari sklearn\n",
        "from sklearn.datasets import load_iris\n",
        "iris=load_iris()   #datanya di load dulu!\n",
        "x=iris.data    #fitur data, di print aja kalo mau lihat\n",
        "y=iris.target   #label data, di print aja kalo mau lihat"
      ]
    },
    {
      "cell_type": "code",
      "execution_count": 5,
      "metadata": {
        "colab": {
          "base_uri": "https://localhost:8080/"
        },
        "id": "OlxeeBHMp_pv",
        "outputId": "513633e6-5efc-449b-9d1e-bbcc133fa5eb"
      },
      "outputs": [
        {
          "name": "stdout",
          "output_type": "stream",
          "text": [
            "KFold(n_splits=5, random_state=None, shuffle=False)\n",
            "Fold  1\n",
            "TRAIN : [ 30  31  32  33  34  35  36  37  38  39  40  41  42  43  44  45  46  47\n",
            "  48  49  50  51  52  53  54  55  56  57  58  59  60  61  62  63  64  65\n",
            "  66  67  68  69  70  71  72  73  74  75  76  77  78  79  80  81  82  83\n",
            "  84  85  86  87  88  89  90  91  92  93  94  95  96  97  98  99 100 101\n",
            " 102 103 104 105 106 107 108 109 110 111 112 113 114 115 116 117 118 119\n",
            " 120 121 122 123 124 125 126 127 128 129 130 131 132 133 134 135 136 137\n",
            " 138 139 140 141 142 143 144 145 146 147 148 149] TEST : [ 0  1  2  3  4  5  6  7  8  9 10 11 12 13 14 15 16 17 18 19 20 21 22 23\n",
            " 24 25 26 27 28 29]\n",
            "Fold  2\n",
            "TRAIN : [  0   1   2   3   4   5   6   7   8   9  10  11  12  13  14  15  16  17\n",
            "  18  19  20  21  22  23  24  25  26  27  28  29  60  61  62  63  64  65\n",
            "  66  67  68  69  70  71  72  73  74  75  76  77  78  79  80  81  82  83\n",
            "  84  85  86  87  88  89  90  91  92  93  94  95  96  97  98  99 100 101\n",
            " 102 103 104 105 106 107 108 109 110 111 112 113 114 115 116 117 118 119\n",
            " 120 121 122 123 124 125 126 127 128 129 130 131 132 133 134 135 136 137\n",
            " 138 139 140 141 142 143 144 145 146 147 148 149] TEST : [30 31 32 33 34 35 36 37 38 39 40 41 42 43 44 45 46 47 48 49 50 51 52 53\n",
            " 54 55 56 57 58 59]\n",
            "Fold  3\n",
            "TRAIN : [  0   1   2   3   4   5   6   7   8   9  10  11  12  13  14  15  16  17\n",
            "  18  19  20  21  22  23  24  25  26  27  28  29  30  31  32  33  34  35\n",
            "  36  37  38  39  40  41  42  43  44  45  46  47  48  49  50  51  52  53\n",
            "  54  55  56  57  58  59  90  91  92  93  94  95  96  97  98  99 100 101\n",
            " 102 103 104 105 106 107 108 109 110 111 112 113 114 115 116 117 118 119\n",
            " 120 121 122 123 124 125 126 127 128 129 130 131 132 133 134 135 136 137\n",
            " 138 139 140 141 142 143 144 145 146 147 148 149] TEST : [60 61 62 63 64 65 66 67 68 69 70 71 72 73 74 75 76 77 78 79 80 81 82 83\n",
            " 84 85 86 87 88 89]\n",
            "Fold  4\n",
            "TRAIN : [  0   1   2   3   4   5   6   7   8   9  10  11  12  13  14  15  16  17\n",
            "  18  19  20  21  22  23  24  25  26  27  28  29  30  31  32  33  34  35\n",
            "  36  37  38  39  40  41  42  43  44  45  46  47  48  49  50  51  52  53\n",
            "  54  55  56  57  58  59  60  61  62  63  64  65  66  67  68  69  70  71\n",
            "  72  73  74  75  76  77  78  79  80  81  82  83  84  85  86  87  88  89\n",
            " 120 121 122 123 124 125 126 127 128 129 130 131 132 133 134 135 136 137\n",
            " 138 139 140 141 142 143 144 145 146 147 148 149] TEST : [ 90  91  92  93  94  95  96  97  98  99 100 101 102 103 104 105 106 107\n",
            " 108 109 110 111 112 113 114 115 116 117 118 119]\n",
            "Fold  5\n",
            "TRAIN : [  0   1   2   3   4   5   6   7   8   9  10  11  12  13  14  15  16  17\n",
            "  18  19  20  21  22  23  24  25  26  27  28  29  30  31  32  33  34  35\n",
            "  36  37  38  39  40  41  42  43  44  45  46  47  48  49  50  51  52  53\n",
            "  54  55  56  57  58  59  60  61  62  63  64  65  66  67  68  69  70  71\n",
            "  72  73  74  75  76  77  78  79  80  81  82  83  84  85  86  87  88  89\n",
            "  90  91  92  93  94  95  96  97  98  99 100 101 102 103 104 105 106 107\n",
            " 108 109 110 111 112 113 114 115 116 117 118 119] TEST : [120 121 122 123 124 125 126 127 128 129 130 131 132 133 134 135 136 137\n",
            " 138 139 140 141 142 143 144 145 146 147 148 149]\n",
            "shape x_train : (120, 4)\n",
            "shape x_test : (30, 4)\n"
          ]
        }
      ],
      "source": [
        "from sklearn.model_selection import KFold\n",
        "kf=KFold(n_splits=5, shuffle=False)\n",
        "print(kf)  #buat tau Kfold dan parameter defaultnya\n",
        "i=1        #ini gapenting, cuma buat nandain fold nya.\n",
        "for train_index, test_index in kf.split(x):\n",
        "    print(\"Fold \", i)\n",
        "    print(\"TRAIN :\", train_index, \"TEST :\", test_index)\n",
        "    x_train=x[train_index]\n",
        "    x_test=x[test_index]\n",
        "    y_train=y[train_index]\n",
        "    y_test=y[test_index]\n",
        "    i+=1\n",
        "print(\"shape x_train :\", x_train.shape)\n",
        "print(\"shape x_test :\", x_test.shape)"
      ]
    },
    {
      "cell_type": "markdown",
      "metadata": {
        "id": "B7kO0tGdq6Gf"
      },
      "source": [
        "Naah jadi teman2, apakah yang terjadi disini??\n",
        "\n",
        "Jadi inget, kita punya 150 data dan bakal dibagi 2, train dan test. Jadi kita bayangin 1 fold dulu deh, Fold yang paling pertama. Disana ada 120 train data dan 30 test data. Terus kalo kamu run code diatas, yang di print disitu bakal indeks datanya. Inget, indeks doang ya.\n",
        "Jadi bayangin aja misal di fold pertama itu ada angka 30. Artinya x[30] (x indeks ke 30) yang berisi 4 kolom data petal dan sepal. begitu deh seterusnya..\n",
        "\n",
        "Kenapa ini harus dilakukan? supaya proses training nya lebih akurat sehingga prediksinya nanti lebih mantap."
      ]
    },
    {
      "cell_type": "markdown",
      "metadata": {
        "id": "LtQQD0fpxsst"
      },
      "source": [
        "Contoh lainnya :\n",
        "\n",
        "Implementasi training dan testing validation"
      ]
    },
    {
      "cell_type": "code",
      "execution_count": 6,
      "metadata": {
        "id": "lhb4DmrIxuXf"
      },
      "outputs": [],
      "source": [
        "import numpy as np\n",
        "from sklearn.model_selection import train_test_split\n",
        "import matplotlib.pyplot as plt\n",
        " \n",
        "#N = jumlah data\n",
        "N = 100\n",
        " \n",
        "#X = features\n",
        "#generate random data dengan dimensi (N, 5)\n",
        "X = np.random.rand(N, 5)\n",
        "#y = labels (0 = bakau, 1 = mahoni, 2 = jati)\n",
        "#generate data dengan nilai 0, 1, dan 2 dengan proposi 30%, 30%, 40%\n",
        "y = np.zeros(N)\n",
        "y[0:30] = 0\n",
        "y[30: 60] = 1\n",
        "y[60: 100] = 2\n",
        " \n",
        "#split data dengan proposi training = 60% dan testing = 40\n",
        " \n",
        "X_train, X_test, y_train, y_test = train_test_split( X, y, test_size=0.4, stratify=y)\n"
      ]
    },
    {
      "cell_type": "markdown",
      "metadata": {
        "id": "FEYZkBnzx3xP"
      },
      "source": [
        "Implementasi K-fold cross validation dengan nilai K = 5"
      ]
    },
    {
      "cell_type": "code",
      "execution_count": 7,
      "metadata": {
        "id": "IpYEwurlx5o_"
      },
      "outputs": [],
      "source": [
        "import numpy as np\n",
        "from sklearn.model_selection import StratifiedShuffleSplit\n",
        "import matplotlib.pyplot as plt\n",
        " \n",
        "#N = jumlah data\n",
        "N = 100\n",
        " \n",
        "#X = features\n",
        "#generate random data dengan dimensi (N, 5)\n",
        "X = np.random.rand(N, 5)\n",
        "#y = labels (0 = bakau, 1 = mahoni, 2 = jati)\n",
        "#generate data dengan nilai 0, 1, dan 2 dengan proposi 30%, 30%, 40%\n",
        "y = np.zeros(N)\n",
        "y[0:30] = 0\n",
        "y[30: 60] = 1\n",
        "y[60: 100] = 2\n",
        "sss = StratifiedShuffleSplit(n_splits=5, test_size=0.2, random_state=None)\n",
        " \n",
        "for trainingIndex, testingIndex in sss.split(X, y):\n",
        "    X_train = X[trainingIndex, :]\n",
        "    y_train = y[trainingIndex]\n",
        " \n",
        "    X_test = X[testingIndex, :]\n",
        "    y_test = y[testingIndex]"
      ]
    },
    {
      "cell_type": "markdown",
      "metadata": {
        "id": "jnRJJfddrhEY"
      },
      "source": [
        "# **Cara memvalidasi performa model (Measuring Model Performance)**"
      ]
    },
    {
      "cell_type": "code",
      "execution_count": 8,
      "metadata": {
        "colab": {
          "base_uri": "https://localhost:8080/",
          "height": 220
        },
        "id": "OGchGZVKnPHT",
        "outputId": "8a52e44a-2460-4e15-b0e8-58fbcdd4e65a"
      },
      "outputs": [
        {
          "data": {
            "text/html": [
              "<div>\n",
              "<style scoped>\n",
              "    .dataframe tbody tr th:only-of-type {\n",
              "        vertical-align: middle;\n",
              "    }\n",
              "\n",
              "    .dataframe tbody tr th {\n",
              "        vertical-align: top;\n",
              "    }\n",
              "\n",
              "    .dataframe thead th {\n",
              "        text-align: right;\n",
              "    }\n",
              "</style>\n",
              "<table border=\"1\" class=\"dataframe\">\n",
              "  <thead>\n",
              "    <tr style=\"text-align: right;\">\n",
              "      <th></th>\n",
              "      <th>sepal length (cm)</th>\n",
              "      <th>sepal width (cm)</th>\n",
              "      <th>petal length (cm)</th>\n",
              "      <th>petal width (cm)</th>\n",
              "      <th>species</th>\n",
              "    </tr>\n",
              "  </thead>\n",
              "  <tbody>\n",
              "    <tr>\n",
              "      <th>0</th>\n",
              "      <td>5.1</td>\n",
              "      <td>3.5</td>\n",
              "      <td>1.4</td>\n",
              "      <td>0.2</td>\n",
              "      <td>0.0</td>\n",
              "    </tr>\n",
              "    <tr>\n",
              "      <th>1</th>\n",
              "      <td>4.9</td>\n",
              "      <td>3.0</td>\n",
              "      <td>1.4</td>\n",
              "      <td>0.2</td>\n",
              "      <td>0.0</td>\n",
              "    </tr>\n",
              "    <tr>\n",
              "      <th>2</th>\n",
              "      <td>4.7</td>\n",
              "      <td>3.2</td>\n",
              "      <td>1.3</td>\n",
              "      <td>0.2</td>\n",
              "      <td>0.0</td>\n",
              "    </tr>\n",
              "    <tr>\n",
              "      <th>3</th>\n",
              "      <td>4.6</td>\n",
              "      <td>3.1</td>\n",
              "      <td>1.5</td>\n",
              "      <td>0.2</td>\n",
              "      <td>0.0</td>\n",
              "    </tr>\n",
              "    <tr>\n",
              "      <th>4</th>\n",
              "      <td>5.0</td>\n",
              "      <td>3.6</td>\n",
              "      <td>1.4</td>\n",
              "      <td>0.2</td>\n",
              "      <td>0.0</td>\n",
              "    </tr>\n",
              "  </tbody>\n",
              "</table>\n",
              "</div>"
            ],
            "text/plain": [
              "   sepal length (cm)  sepal width (cm)  ...  petal width (cm)  species\n",
              "0                5.1               3.5  ...               0.2      0.0\n",
              "1                4.9               3.0  ...               0.2      0.0\n",
              "2                4.7               3.2  ...               0.2      0.0\n",
              "3                4.6               3.1  ...               0.2      0.0\n",
              "4                5.0               3.6  ...               0.2      0.0\n",
              "\n",
              "[5 rows x 5 columns]"
            ]
          },
          "execution_count": 8,
          "metadata": {},
          "output_type": "execute_result"
        }
      ],
      "source": [
        "from sklearn.datasets import load_iris\n",
        "import pandas as pd\n",
        "import numpy as np\n",
        "\n",
        "iris = load_iris()\n",
        "df = pd.DataFrame(np.c_[iris['data'], iris['target']], columns=iris['feature_names']+['species'])\n",
        "df.head()"
      ]
    },
    {
      "cell_type": "code",
      "execution_count": 9,
      "metadata": {
        "colab": {
          "base_uri": "https://localhost:8080/"
        },
        "id": "FaqbvkdbT4Vh",
        "outputId": "8e2d0c30-654e-4648-9557-86c8d3d43214"
      },
      "outputs": [
        {
          "data": {
            "text/plain": [
              "KNeighborsClassifier(algorithm='auto', leaf_size=30, metric='minkowski',\n",
              "                     metric_params=None, n_jobs=None, n_neighbors=6, p=2,\n",
              "                     weights='distance')"
            ]
          },
          "execution_count": 9,
          "metadata": {},
          "output_type": "execute_result"
        }
      ],
      "source": [
        "# import class object\n",
        "from sklearn.neighbors import KNeighborsClassifier\n",
        "# membuat objek model dan memilih hyperparameter\n",
        "model_knn = KNeighborsClassifier(n_neighbors=6, weights='distance')\n",
        "# memisahkan data feature dan data target\n",
        "x = df.drop('species', axis=1)\n",
        "y = df['species']\n",
        "# memerintahkan model untuk empelajari data dengan menggunakan method .fit()\n",
        "model_knn.fit(x, y)"
      ]
    },
    {
      "cell_type": "markdown",
      "metadata": {
        "id": "Sz0V9PJXheg9"
      },
      "source": [
        "## **Cara salah dalam Mengevaluasi Model**"
      ]
    },
    {
      "cell_type": "code",
      "execution_count": 10,
      "metadata": {
        "id": "O01N0wzPtqLN"
      },
      "outputs": [],
      "source": [
        "y_pred = model_knn.predict(x)"
      ]
    },
    {
      "cell_type": "code",
      "execution_count": 11,
      "metadata": {
        "colab": {
          "base_uri": "https://localhost:8080/"
        },
        "id": "e5IQbVw5t8vN",
        "outputId": "fef89f23-70ab-4754-cc56-0f508e5c8c91"
      },
      "outputs": [
        {
          "data": {
            "text/plain": [
              "1.0"
            ]
          },
          "execution_count": 11,
          "metadata": {},
          "output_type": "execute_result"
        }
      ],
      "source": [
        "from sklearn.metrics import accuracy_score\n",
        "score = accuracy_score(y, y_pred)\n",
        "score"
      ]
    },
    {
      "cell_type": "markdown",
      "metadata": {
        "id": "neoaoWUnutQ9"
      },
      "source": [
        "Nilai akurasinya bagus, langung serahkan.\n",
        "Padahal belum tentu bagus. Salahnya ada pada, predict.\n",
        "\n",
        "`y_pred = model_knn.predict(x_train)`\n",
        "\n",
        "karena yang di prediksi juga berasal dari hasil fitting \n",
        "\n",
        "`model_knn.fit(x_train, y_train)`"
      ]
    },
    {
      "cell_type": "markdown",
      "metadata": {
        "id": "Sj_owtOLvPdM"
      },
      "source": [
        "## **Cara benar dalam Mengevaluasi Model**\n",
        "\n",
        "data dibagi dengan `train_test_split`\n",
        "\n",
        "`x` -> `x_train, x_test` -> 0.3 - 0.2 (porsi test)\n",
        "\n",
        "`y` -> `y_train, y_test` -> 0.3 - 0.2 (porsi test)"
      ]
    },
    {
      "cell_type": "code",
      "execution_count": 12,
      "metadata": {
        "id": "znv7-9NwvSDo"
      },
      "outputs": [],
      "source": [
        "from sklearn.model_selection import train_test_split\n",
        "x_train, x_test, y_train, y_test = train_test_split(x, y, test_size=0.2, random_state=21, stratify=y) \n",
        "# train_size otomatis terset 0.8 ketika test_size ditentukan nilainya begitupun sebaliknya"
      ]
    },
    {
      "cell_type": "code",
      "execution_count": 13,
      "metadata": {
        "colab": {
          "base_uri": "https://localhost:8080/"
        },
        "id": "Jk5RLNUozXxH",
        "outputId": "d5f2cad2-5420-4226-81ac-c3ac3d4b16c3"
      },
      "outputs": [
        {
          "data": {
            "text/plain": [
              "0.0    40\n",
              "2.0    40\n",
              "1.0    40\n",
              "Name: species, dtype: int64"
            ]
          },
          "execution_count": 13,
          "metadata": {},
          "output_type": "execute_result"
        }
      ],
      "source": [
        "# stratify=y akan memiliki nilai label yang sama\n",
        "y_train.value_counts()"
      ]
    },
    {
      "cell_type": "code",
      "execution_count": 14,
      "metadata": {
        "colab": {
          "base_uri": "https://localhost:8080/"
        },
        "id": "LUF8Vtk4zpRs",
        "outputId": "88b03d2e-e6f7-41a2-a41c-df5df44b1d0b"
      },
      "outputs": [
        {
          "data": {
            "text/plain": [
              "2.0    10\n",
              "0.0    10\n",
              "1.0    10\n",
              "Name: species, dtype: int64"
            ]
          },
          "execution_count": 14,
          "metadata": {},
          "output_type": "execute_result"
        }
      ],
      "source": [
        "y_test.value_counts()"
      ]
    },
    {
      "cell_type": "code",
      "execution_count": 15,
      "metadata": {
        "colab": {
          "base_uri": "https://localhost:8080/"
        },
        "id": "Ba3nNjMggFUR",
        "outputId": "636b00fe-5aa3-4d42-ae65-1288f50da79d"
      },
      "outputs": [
        {
          "name": "stdout",
          "output_type": "stream",
          "text": [
            "(150, 4)\n",
            "(120, 4)\n",
            "(30, 4)\n"
          ]
        }
      ],
      "source": [
        "# Hasil Pembagian dalam di cek dengan shape\n",
        "print(x.shape)\n",
        "print(x_train.shape) # 0.8\n",
        "print(x_test.shape) # 0.2"
      ]
    },
    {
      "cell_type": "code",
      "execution_count": 16,
      "metadata": {
        "colab": {
          "base_uri": "https://localhost:8080/"
        },
        "id": "b6ryoIBpgkTc",
        "outputId": "06c81703-4847-4d7b-db5d-7c7b64db90f2"
      },
      "outputs": [
        {
          "data": {
            "text/plain": [
              "KNeighborsClassifier(algorithm='auto', leaf_size=30, metric='minkowski',\n",
              "                     metric_params=None, n_jobs=None, n_neighbors=2, p=2,\n",
              "                     weights='uniform')"
            ]
          },
          "execution_count": 16,
          "metadata": {},
          "output_type": "execute_result"
        }
      ],
      "source": [
        "# import class object\n",
        "from sklearn.neighbors import KNeighborsClassifier\n",
        "# membuat objek model dan memilih hyperparameter\n",
        "model_knn = KNeighborsClassifier(n_neighbors=2)\n",
        "model_knn.fit(x_train, y_train)"
      ]
    },
    {
      "cell_type": "code",
      "execution_count": 17,
      "metadata": {
        "id": "EwtzMdGzg_mo"
      },
      "outputs": [],
      "source": [
        "y_pred = model_knn.predict(x_test)"
      ]
    },
    {
      "cell_type": "code",
      "execution_count": 18,
      "metadata": {
        "colab": {
          "base_uri": "https://localhost:8080/"
        },
        "id": "YAhTAKtCg2Nj",
        "outputId": "30f15b78-559f-46cf-a00d-39725b1b64fd"
      },
      "outputs": [
        {
          "data": {
            "text/plain": [
              "0.9333333333333333"
            ]
          },
          "execution_count": 18,
          "metadata": {},
          "output_type": "execute_result"
        }
      ],
      "source": [
        "from sklearn.metrics import accuracy_score\n",
        "score = accuracy_score(y_test, y_pred)\n",
        "score"
      ]
    },
    {
      "cell_type": "markdown",
      "metadata": {
        "id": "0AzsJyRWhioS"
      },
      "source": [
        "## **Validasi Model dengan Teknik Cross-Validation**\n",
        "\n",
        "Masih ada kekurangan, bahwa hasil dari akurasi score tergantung dari fungsi `train_test_split` mensplit data kita. pada `random_state` diubah akan mengubah `accuracy_score`. Kurang Valid. Solusi ada suatu metode yang disebut `Cross-Validation (K-Fold CV).\n",
        "\n",
        "[source 1](http://ethen8181.github.io/machine-learning/model_selection/model_selection.html#K-Fold-Cross-Validation)\n",
        "\n",
        "[source 2](https://medium.com/@piyut.dyoni/machine-learning-buat-yang-ngerasa-bodo-e37bc5b26d9d)\n",
        "\n",
        "![kfolds03.png](https://raw.githubusercontent.com/nurimammasri/Wooky-Machine-Learning/main/Images/kfolds03.png)\n",
        "\n",
        "\n",
        "\n"
      ]
    },
    {
      "cell_type": "code",
      "execution_count": 19,
      "metadata": {
        "id": "CV4PBVsNrRd1"
      },
      "outputs": [],
      "source": [
        "# from sklearn.model_selection import cross_val_score\n",
        "# knn= KNeighborsClassifier(n_neighbors=5)\n",
        "# score= cross_val_score(knn, x, y, cv=10, scoring='accuracy') \n",
        "# print(score)        \n",
        "# print(score.mean())"
      ]
    },
    {
      "cell_type": "markdown",
      "metadata": {
        "id": "SE3SqMvFrVJ6"
      },
      "source": [
        "Disini kita coba implementasi cross_validation yang sesungguhnya. ada 5 parameter di cross_val_score. lo bisa liat lebih detail di dokumentasinya sklearn. Yang jelas ‘cv’=cross validation alias jumlah fold nya.\n",
        "\n",
        "Ketika score di print bakal ketauan akurasi tiap iterasi. Kalo kita rata-rata-in, maka scorenya 96%. Sebenernya yang kita code disini lebih praktis dari partisi-partisian tadi. I mean, cross_val_score udah nyedian fungsi partisian sendiri jadi kita gausah pusing kudu ngebagi-bagi data."
      ]
    },
    {
      "cell_type": "code",
      "execution_count": 20,
      "metadata": {
        "colab": {
          "base_uri": "https://localhost:8080/",
          "height": 220
        },
        "id": "ThT8vhDbIXFH",
        "outputId": "ad5c7f4c-df0f-43a2-a658-9095b3c87abc"
      },
      "outputs": [
        {
          "data": {
            "text/html": [
              "<div>\n",
              "<style scoped>\n",
              "    .dataframe tbody tr th:only-of-type {\n",
              "        vertical-align: middle;\n",
              "    }\n",
              "\n",
              "    .dataframe tbody tr th {\n",
              "        vertical-align: top;\n",
              "    }\n",
              "\n",
              "    .dataframe thead th {\n",
              "        text-align: right;\n",
              "    }\n",
              "</style>\n",
              "<table border=\"1\" class=\"dataframe\">\n",
              "  <thead>\n",
              "    <tr style=\"text-align: right;\">\n",
              "      <th></th>\n",
              "      <th>sepal length (cm)</th>\n",
              "      <th>sepal width (cm)</th>\n",
              "      <th>petal length (cm)</th>\n",
              "      <th>petal width (cm)</th>\n",
              "      <th>species</th>\n",
              "    </tr>\n",
              "  </thead>\n",
              "  <tbody>\n",
              "    <tr>\n",
              "      <th>0</th>\n",
              "      <td>5.1</td>\n",
              "      <td>3.5</td>\n",
              "      <td>1.4</td>\n",
              "      <td>0.2</td>\n",
              "      <td>0.0</td>\n",
              "    </tr>\n",
              "    <tr>\n",
              "      <th>1</th>\n",
              "      <td>4.9</td>\n",
              "      <td>3.0</td>\n",
              "      <td>1.4</td>\n",
              "      <td>0.2</td>\n",
              "      <td>0.0</td>\n",
              "    </tr>\n",
              "    <tr>\n",
              "      <th>2</th>\n",
              "      <td>4.7</td>\n",
              "      <td>3.2</td>\n",
              "      <td>1.3</td>\n",
              "      <td>0.2</td>\n",
              "      <td>0.0</td>\n",
              "    </tr>\n",
              "    <tr>\n",
              "      <th>3</th>\n",
              "      <td>4.6</td>\n",
              "      <td>3.1</td>\n",
              "      <td>1.5</td>\n",
              "      <td>0.2</td>\n",
              "      <td>0.0</td>\n",
              "    </tr>\n",
              "    <tr>\n",
              "      <th>4</th>\n",
              "      <td>5.0</td>\n",
              "      <td>3.6</td>\n",
              "      <td>1.4</td>\n",
              "      <td>0.2</td>\n",
              "      <td>0.0</td>\n",
              "    </tr>\n",
              "  </tbody>\n",
              "</table>\n",
              "</div>"
            ],
            "text/plain": [
              "   sepal length (cm)  sepal width (cm)  ...  petal width (cm)  species\n",
              "0                5.1               3.5  ...               0.2      0.0\n",
              "1                4.9               3.0  ...               0.2      0.0\n",
              "2                4.7               3.2  ...               0.2      0.0\n",
              "3                4.6               3.1  ...               0.2      0.0\n",
              "4                5.0               3.6  ...               0.2      0.0\n",
              "\n",
              "[5 rows x 5 columns]"
            ]
          },
          "execution_count": 20,
          "metadata": {},
          "output_type": "execute_result"
        }
      ],
      "source": [
        "from sklearn.datasets import load_iris\n",
        "import pandas as pd\n",
        "import numpy as np\n",
        "\n",
        "iris = load_iris()\n",
        "df = pd.DataFrame(np.c_[iris['data'], iris['target']], columns=iris['feature_names']+['species'])\n",
        "df.head()"
      ]
    },
    {
      "cell_type": "code",
      "execution_count": 21,
      "metadata": {
        "colab": {
          "base_uri": "https://localhost:8080/"
        },
        "id": "4M9O-g1EIXFV",
        "outputId": "2fce335b-6cab-41ab-8a22-3e410646e85a"
      },
      "outputs": [
        {
          "data": {
            "text/plain": [
              "KNeighborsClassifier(algorithm='auto', leaf_size=30, metric='minkowski',\n",
              "                     metric_params=None, n_jobs=None, n_neighbors=6, p=2,\n",
              "                     weights='distance')"
            ]
          },
          "execution_count": 21,
          "metadata": {},
          "output_type": "execute_result"
        }
      ],
      "source": [
        "# import class object\n",
        "from sklearn.neighbors import KNeighborsClassifier\n",
        "# membuat objek model dan memilih hyperparameter\n",
        "model_knn = KNeighborsClassifier(n_neighbors=6, weights='distance')\n",
        "# memisahkan data feature dan data target\n",
        "x = df.drop('species', axis=1)\n",
        "y = df['species']\n",
        "# memerintahkan model untuk empelajari data dengan menggunakan method .fit()\n",
        "model_knn.fit(x, y)"
      ]
    },
    {
      "cell_type": "code",
      "execution_count": 22,
      "metadata": {
        "colab": {
          "base_uri": "https://localhost:8080/"
        },
        "id": "eNOjiIXPIqy-",
        "outputId": "2bec3466-e0bb-465c-c06f-5c244b20f8ee"
      },
      "outputs": [
        {
          "name": "stdout",
          "output_type": "stream",
          "text": [
            "[1.         0.93333333 1.         0.93333333 0.86666667 1.\n",
            " 0.86666667 0.93333333 1.         1.        ]\n",
            "0.9533333333333334\n"
          ]
        }
      ],
      "source": [
        "from sklearn.model_selection import cross_val_score\n",
        "from sklearn.neighbors import KNeighborsClassifier\n",
        "model_knn= KNeighborsClassifier(n_neighbors=2)\n",
        "score= cross_val_score(model_knn, x, y, cv=10, scoring='accuracy') \n",
        "print(score) # hasil performance setiap iterasi\n",
        "print(score.mean()) # hasil rata2"
      ]
    },
    {
      "cell_type": "markdown",
      "metadata": {
        "id": "nlornVV5Kqgy"
      },
      "source": [
        "## **Tuning Parameter (Hyperparameter)**"
      ]
    },
    {
      "cell_type": "code",
      "execution_count": 23,
      "metadata": {
        "colab": {
          "base_uri": "https://localhost:8080/"
        },
        "id": "p4enUY5TKSMn",
        "outputId": "51c035a7-9cc1-4bd4-f09c-af835df5d697"
      },
      "outputs": [
        {
          "name": "stdout",
          "output_type": "stream",
          "text": [
            "[0.96, 0.9533333333333334, 0.9666666666666666, 0.9666666666666666, 0.9666666666666668, 0.9666666666666668, 0.9666666666666668, 0.9666666666666668, 0.9733333333333334, 0.9666666666666668, 0.9666666666666668, 0.9733333333333334, 0.9800000000000001, 0.9733333333333334, 0.9733333333333334, 0.9733333333333334, 0.9733333333333334, 0.9800000000000001, 0.9733333333333334, 0.9800000000000001, 0.9666666666666666, 0.9666666666666666, 0.9733333333333334, 0.96, 0.9666666666666666, 0.96, 0.9666666666666666, 0.9533333333333334, 0.9533333333333334, 0.9533333333333334]\n"
          ]
        }
      ],
      "source": [
        "k_range = range(1,31)  #1-30\n",
        "k_score = []\n",
        "for k in k_range:\n",
        "    knn=KNeighborsClassifier(n_neighbors=k)\n",
        "    score= cross_val_score(knn, x, y, cv=10, scoring='accuracy')\n",
        "    k_score.append(score.mean())\n",
        "print(k_score)"
      ]
    },
    {
      "cell_type": "markdown",
      "metadata": {
        "id": "CXS1iRsyK18g"
      },
      "source": [
        "Kalo ngomongin klasifikasi itu bawaannya seberapa akurat sih klasifikasi data kita? nah di KNN ni punya beberapa parameter yang menentukan tinggi rendahnya akurasi klasifikasi kita. Yaitu jumlah K pada KNN. Kita harus nyobain nih kira2 K=berapa sih yang menghasilkan akurasi paling tinggi? Proses kaya gini nih, nyari parameter yang akurasinya tinggi, namanya **Tuning Parameter** atau biasanya dibilang juga **Finding Hyperparameter.**\n",
        "\n",
        "Disini kita coba **1–30 K**. Ntar bakal keliatan K mana yang akurasinya paling jitu.\n",
        "\n",
        "Semua score pada K yang berbeda2 disimpan di variable k_score. Nah kalo kamu run, hasilnya array yang banyak itu adalah ke 30 score dari K 1–30.\n",
        "\n",
        "plot aja itu scorenya.."
      ]
    },
    {
      "cell_type": "code",
      "execution_count": 24,
      "metadata": {
        "colab": {
          "base_uri": "https://localhost:8080/",
          "height": 279
        },
        "id": "aahSjT-UKXcy",
        "outputId": "8d8de12a-8b74-4c28-983b-3c9d895053c3"
      },
      "outputs": [
        {
          "data": {
            "image/png": "[encoded data removed]",
            "text/plain": [
              "<Figure size 432x288 with 1 Axes>"
            ]
          },
          "metadata": {
            "needs_background": "light"
          },
          "output_type": "display_data"
        }
      ],
      "source": [
        "import matplotlib.pyplot as plt\n",
        "plt.plot(k_range, k_score)\n",
        "plt.xlabel('Nomor K')\n",
        "plt.ylabel('score K')\n",
        "plt.show()"
      ]
    },
    {
      "cell_type": "markdown",
      "metadata": {
        "id": "HZBl3uRwMBiL"
      },
      "source": [
        "Jadi kedua linechart ini menggambarkan kalo K yang menghasilkan score tertinggi adalah 13, 18, dan 20. Tapi karena batas tertinggi ada di 20, soalnya abis itu scorenya cenderung turun, maka kita ambil pinalty bahwa 20 adalah K yang paling mentok dan menghasilkan score tinggi. Soo… mari kita buktikan apakah 20 adalah jawaban yang benar."
      ]
    },
    {
      "cell_type": "code",
      "execution_count": 25,
      "metadata": {
        "colab": {
          "base_uri": "https://localhost:8080/"
        },
        "id": "EJb0weY-MGk6",
        "outputId": "698db2b4-cded-43ba-efd9-610e110bb3b8"
      },
      "outputs": [
        {
          "name": "stdout",
          "output_type": "stream",
          "text": [
            "0.9800000000000001\n"
          ]
        }
      ],
      "source": [
        "knn=KNeighborsClassifier(n_neighbors=20)\n",
        "score=cross_val_score(knn, x, y, cv=10, scoring='accuracy').mean()\n",
        "print(score) #well, hasilnya 98% ^^"
      ]
    },
    {
      "cell_type": "markdown",
      "metadata": {
        "id": "u0FcFxYpMdn3"
      },
      "source": [
        "## **Metrics Accuracy**\n",
        "\n",
        "Metrics adalah suatu fungsi untuk menghitung performance dari model kita.\n",
        "\n",
        "Accuracy : tebakan betul / jumlah semua data\n",
        "\n",
        "Macam - Macam Matriks :\n",
        "    \n",
        "1. Confusion Matriks\n",
        "2. AUC\n",
        "3. Log-Loss , dll\n",
        "\n",
        "**kekurangan accuracy_score**\n",
        "\n",
        "misalkan : 1000 orang \n",
        "\n",
        "-> kanker 1%\n",
        "\n",
        "-> tidak kanker 99%\n",
        "\n",
        "kasus class imbalance. karena label antara dua kelas jauh berbeda.\n",
        "\n",
        "Accuracy : \n",
        "1000 -> 990 TK, 10K\n",
        "\n",
        "banyak tebakan tidak kanker 1000 TK\n",
        "\n",
        "Accuracy : tebakan betul / jumlah semua \n",
        "\n",
        "data -> 990/1000 = 99% akurasinya bagus. \n",
        "\n",
        "Namun sebenarnya model algoritma salah besar karena tidak mungkin semua org tidak kena kanker dilihat dri data aslinya.\n",
        "\n",
        "\n",
        "\n",
        "\n",
        "\n"
      ]
    },
    {
      "cell_type": "markdown",
      "metadata": {
        "id": "boC0QIVRRalM"
      },
      "source": [
        "### **Confusing Matriks**\n",
        "\n",
        "[source](https://medium.com/@ksnugroho/confusion-matrix-untuk-evaluasi-model-pada-unsupervised-machine-learning-bc4b1ae9ae3f)\n",
        "\n",
        "[source 2](https://medium.com/@dtuk81/confusion-matrix-visualization-fc31e3f30fea)\n",
        "\n",
        "[source 3](https://medium.com/@rey1024/mengenal-accuracy-precission-recall-dan-specificity-serta-yang-diprioritaskan-b79ff4d77de8)\n",
        "\n",
        "[source 4](https://towardsdatascience.com/accuracy-recall-precision-f-score-specificity-which-to-optimize-on-867d3f11124)\n",
        "\n",
        "Ketika berhadapan dengan permasalahan machine learning timbul banyak pertanyaan “bagaimana cara mendapatkan model yang paling baik?”. Oleh karena itu, mengukur kinerja suatu model yang telah kita buat merupakan langkah penting dalam machine learning sehingga dapat menjadi pertimbangan untuk memilih model “terbaik”. Salah satu teknik yang dapat digunakan untuk mengukur kinerja suatu model khusunya kasus klasifikasi (supervised learning) pada machine learning adalah confusion matrix.\n",
        "\n",
        "## **Apa itu confusion matrix dan mengapa kita memerlukan itu ?**\n",
        "\n",
        "**Confusion matrix** juga sering disebut **Error Matrix**. Pada dasarnya confusion matrix memberikan informasi perbandingan hasil klasifikasi yang dilakukan oleh sistem (model) dengan hasil klasifikasi sebenarnya. Confusion matrix berbentuk tabel matriks yang menggambarkan kinerja model klasifikasi pada serangkaian data uji yang nilai sebenarnya diketahui. Gambar dibawah ini merupakan confusion matrix dengan 4 kombinasi nilai prediksi dan nilai aktual yang berbeda. Perhatikan gambar dibawah ini:\n",
        "\n",
        "![confusingmatrix.jpeg](https://raw.githubusercontent.com/nurimammasri/Wooky-Machine-Learning/main/Images/confusingmatrix.jpeg)\n",
        "\n",
        "contoh :\n",
        "\n",
        "![ConfusionMatrix02.png](https://raw.githubusercontent.com/nurimammasri/Wooky-Machine-Learning/main/Images/ConfusionMatrix02.png)\n",
        "\n",
        "\n",
        "Terdapat 4 istilah sebagai representasi hasil proses klasifikasi pada confusion matrix. Keempat istilah tersebut adalah \n",
        "\n",
        "* True Positive (TP)\n",
        "\n",
        "* True Negative (TN)\n",
        "\n",
        "* False Positive (FP)\n",
        "\n",
        "* False Negative (FN)\n",
        "\n",
        "Agar lebih mudah memahaminya, saya menggunakan contoh kasus sederhana untuk memprediksi seorang pasien menderita kanker atau tidak.\n",
        "\n",
        "* True Positive (TP)\n",
        "\n",
        "    Merupakan data positif yang diprediksi benar. Contohnya, pasien menderita kanker (class 1) dan dari model yang dibuat memprediksi pasien tersebut menderita kanker (class 1).\n",
        "\n",
        "* True Negative (TN)\n",
        "\n",
        "    Merupakan data negatif yang diprediksi benar. Contohnya, pasien tidak menderita kanker (class 2) dan dari model yang dibuat memprediksi pasien tersebut tidak menderita kanker (class 2).\n",
        "\n",
        "* False Postive (FP) — Type I Error\n",
        "\n",
        "    Merupakan data negatif namun diprediksi sebagai data positif. Contohnya, pasien tidak menderita kanker (class 2) tetapi dari model yang telah memprediksi pasien tersebut menderita kanker (class 1).\n",
        "    \n",
        "* False Negative (FN) — Type II Error\n",
        "\n",
        "    Merupakan data positif namun diprediksi sebagai data negatif. Contohnya, pasien menderita kanker (class 1) tetapi dari model yang dibuat memprediksi pasien tersebut tidak menderita kanker (class 2).\n",
        "\n",
        "\n",
        "Pada beberapa kasus “Type II Error” lebih berbahaya, kita dapat menghubungkan pernyataan itu dengan contoh prediksi kanker diatas. Jika pasien tidak menderita kanker tetapi diprediksi menderita kanker (FP), maka pada diagnosa selanjutnya pasien tersebut dapat mengetahui keadaan sebenarnya bahwa pasien tersebut benar tidak menderita kanker. Tetapi jika ada pasien yang sebenarnya menderita kanker tetapi diprediksi tidak menderita kanker (FN), maka pasien tersebut akan mengetahui keadaan sebenarnya dengan sangat terlambat dan pasien tersebut tidak segera mengambil tindakan pencegahan medis untuk kanker itu. Sehingga dapat menyebabkan kondisi pasien yang semakin memburuk setiap harinya bahkan kematian. Jadi dapat dikatakan bahwa “Type II Error” lebih berbahaya.\n",
        "\n",
        "**Ada cara yang lebih mudah untuk mengingatnya, yaitu:**\n",
        "\n",
        "* Jika diawali dengan True maka prediksinya adalah benar, entah diprediksi terjadi atau tidak terjadi.\n",
        "\n",
        "* Jika diawali dengan False maka prediksinya adalah salah.\n",
        "\n",
        "* Positif dan negatif merupakan hasil prediksi dari model.\n",
        "\n",
        "Tentunya kita ingin model yang telah kita buat memberikan 0 false positive dan 0 false negative. Tetapi pada prakteknya hal tersebut tidak akan pernah terjadi karena model mana pun tidak akan memberikan keakuratan 100%. Jika model anda memberikan nilai 100% maka ada masalah pada model yang anda buat atau data yang anda gunakan.\n",
        "\n",
        "\n",
        "## **Berikut adalah beberapa manfaat dari confusion matrix:**\n",
        "\n",
        "Menunjukkan bagaimana model ketika membuat prediksi.\n",
        "Tidak hanya memberi informasi tentang kesalahan yang dibuat oleh model tetapi juga jenis kesalahan yang dibuat.\n",
        "Setiap kolom dari confusion matrix merepresentasikan instance dari kelas prediksi.\n",
        "Setiap baris dari confusion matrix mewakili instance dari kelas aktual.\n",
        "\n",
        "## **Contoh Implementasi**\n",
        "\n",
        "Sebagai contoh, sebuah model akan dilatih untuk memprediksi apakah seorang pasien sedang menderita kanker atau tidak. Dengan asumsi terdapat 20 pasien dengan 9 pasien positif kanker dan 11 pasien negatif kanker, maka contoh confusion matrix yang dihasilkan model seperti dibawah ini :\n",
        "\n",
        "![ConfusionMatrix03.png](https://raw.githubusercontent.com/nurimammasri/Wooky-Machine-Learning/main/Images/ConfusionMatrix03.png)\n",
        "\n",
        "Jika dilihat dari confusion matrix diatas dari 9 pasien positif kanker, model memprediksi ada 3 pasien yang diprediksi negatif kanker (FN), dan dari 11 pasien negatif kanker, model memprediksi ada 2 pasien yang diprediksi positif kanker (FP). Prediksi yang benar terletak pada tabel diagonal (garis bawah merah), sehingga secara visual sangat mudah untuk melihat kesalahan prediksi karena kesalahan prediksi berada di luar tabel diagonal confusion matrix.\n",
        "\n",
        "## **Bagaimana mengukur performance metrics dari confusion matrix ?**\n",
        "\n",
        "Kita dapat menggunakan confusion matrix untuk menghitung berbagai performance metrics untuk mengukur kinerja model yang telah dibuat. Pada bagian ini mari kita pahami beberapa performance metrics populer yang umum dan sering digunakan: \n",
        "\n",
        "***accuracy, precission, dan recall***\n",
        "\n",
        "### Accuracy\n",
        "\n",
        "Accuracy menggambarkan seberapa akurat model dapat mengklasifikasikan dengan benar. Maka, accuracy merupakan rasio prediksi benar (positif dan negatif) dengan keseluruhan data. Dengan kata lain, accuracy merupakan tingkat kedekatan nilai prediksi dengan nilai aktual (sebenarnya). Nilai accuracy dapat diperoleh dengan persamaan (1).\n",
        "\n",
        "![ConfusionMatrix04.jpeg](https://raw.githubusercontent.com/nurimammasri/Wooky-Machine-Learning/main/Images/ConfusionMatrix04.jpeg)\n",
        "\n",
        "![ConfusionMatrix05.png](https://raw.githubusercontent.com/nurimammasri/Wooky-Machine-Learning/main/Images/ConfusionMatrix05.png)\n",
        "\n",
        "Akurasi = (TP + TN ) / (TP+FP+FN+TN)\n",
        "\n",
        "\n",
        "Dari contoh confusion matrix klasifikasi biner diatas maka dengan menghitung nilai accuracy dapat menjawab pertanyaan “Berapa persen pasien yang benar diprediksi menderita kanker maupun yang tidak menderita kanker dari kesuluruhan pasien?”\n",
        "\n",
        "![ConfusionMatrix06.jpeg](https://raw.githubusercontent.com/nurimammasri/Wooky-Machine-Learning/main/Images/ConfusionMatrix06.jpeg)\n",
        "\n",
        "### Precision (Positive Predictive Value)\n",
        "\n",
        "Precision menggambarkan tingkat keakuratan antara data yang diminta dengan hasil prediksi yang diberikan oleh model. Maka, precision merupakan rasio prediksi benar positif dibandingkan dengan keseluruhan hasil yang diprediksi positf. Dari semua kelas positif yang telah di prediksi dengan benar, berapa banyak data yang benar-benar positif. Nilai precision dapat diperoleh dengan persamaan (2).\n",
        "\n",
        "![ConfusionMatrix07.jpeg](https://raw.githubusercontent.com/nurimammasri/Wooky-Machine-Learning/main/Images/ConfusionMatrix07.jpeg)\n",
        "\n",
        "![ConfusionMatrix08.jpeg](https://raw.githubusercontent.com/nurimammasri/Wooky-Machine-Learning/main/Images/ConfusionMatrix08.jpeg)\n",
        "\n",
        "Precission = (TP) / (TP+FP)\n",
        "\n",
        "\n",
        "Dari contoh confusion matrix klasifikasi biner diatas maka dengan menghitung nilai precision dapat menjawab pertanyaan “Berapa persen pasien yang benar menderita kanker dari keseluruhan pasien yang diprediksi menderita kanker?”\n",
        "\n",
        "![ConfusionMatrix09.jpeg](https://raw.githubusercontent.com/nurimammasri/Wooky-Machine-Learning/main/Images/ConfusionMatrix09.jpeg)\n",
        "\n",
        "### Recall atau Sensitivity (True Positive Rate)\n",
        "\n",
        "Recall menggambarkan keberhasilan model dalam menemukan kembali sebuah informasi. Maka, recall merupakan rasio prediksi benar positif dibandingkan dengan keseluruhan data yang benar positif. Nilai recall dapat diperoleh dengan persamaan (3).\n",
        "\n",
        "![ConfusionMatrix10.jpeg](https://raw.githubusercontent.com/nurimammasri/Wooky-Machine-Learning/main/Images/ConfusionMatrix10.jpeg)\n",
        "\n",
        "![ConfusionMatrix11.jpeg](https://raw.githubusercontent.com/nurimammasri/Wooky-Machine-Learning/main/Images/ConfusionMatrix11.jpeg)\n",
        "\n",
        "Recall = (TP) / (TP + FN)\n",
        "\n",
        "Dari contoh confusion matrix klasifikasi biner diatas maka dengan menghitung nilai recall dapat menjawab pertanyaan “Berapa persen pasien yang diprediksi kanker dibandingkan keseluruhan pasien yang sebenarnya menderita kanker”.\n",
        "\n",
        "![ConfusionMatrix12.jpeg](https://raw.githubusercontent.com/nurimammasri/Wooky-Machine-Learning/main/Images/ConfusionMatrix12.jpeg)\n",
        "\n",
        "### Specificity\n",
        "Merupakan kebenaran memprediksi negatif dibandingkan dengan keseluruhan data negatif. Specificity menjawab pertanyaan “Berapa persen pasien yang benar diprediksi tidak kanker dibandingkan dengan keseluruhan pasien yang sebenarnya tidak kanker”.\n",
        "\n",
        "Specificity = (TN)/ (TN + FP)\n",
        "\n",
        "### F1 Score\n",
        "\n",
        "F1 Score merupakan perbandingan rata-rata presisi dan recall yang dibobotkan\n",
        "\n",
        "F1 Score = 2 * (Recall*Precission) / (Recall + Precission)\n",
        "\n",
        "dalam kasus di atas, F1 Score = 2* (80%*67%) / ( 80% + 67%) = 72,93%\n",
        "\n",
        "## **Pemilihan acuan performansi algoritma**\n",
        "\n",
        "Nah, jika kita membandingkan beberapa algoritma ML yang berbeda dengan accuracy, precission, recall dan specificity yang berbeda-beda, algoritma mana yang kita pilih? Apa yang digunakan acuan?\n",
        "\n",
        "* **Pilih algoritma yang memiliki Accuracy tinggi jika**\n",
        "\n",
        "    Akurasi sangat bagus kita gunakan sebagai acuan performansi algoritma JIKA dataset kita memiliki jumlah data False Negatif dan False Positif yang sangat mendekati (Symmetric). Namun jika jumlahnya tidak mendekati, maka sebaiknya gunakan F1 Score sebagai acuan.\n",
        "\n",
        "    Pada contoh di atas, nilai FP dan FN mendekati, maka accuracy bisa digunakan sebagai acuan ukuran performansi tersebut.\n",
        "\n",
        "* **Pilih algoritma yang memiliki Recall tinggi jika**\n",
        "\n",
        "    kita lebih memilih False Positif lebih baik terjadi daripada False Negatif.\n",
        "    Dalam contoh di atas, maka kita mempertimbangkan Recall karena lebih baik algoritma kita memprediksi mahasiswa positif DO tetapi sebenarnya tidak DO daripada algoritma salah memprediksi bahwa mahasiwa diprediksi tidak DO padahal sebenarnya dia DO.\n",
        "\n",
        "* **Pilih algoritma yang memiliki Precission tinggi jika**\n",
        "\n",
        "    kita lebih menginginkan terjadinya True Positif dan sangat tidak menginginkan terjadinya False Positif. Contohnya adalah pada kasus klasifikasi email SPAM atau tidak. Kita lebih memilih jika email yang sebenarnya SPAM namun diprediksi tidak SPAM (sehingga tetap ada pada kotak masuk email kita), daripada email yang sebenarnya bukan SPAM tapi diprediksi SPAM (sehingga tidak ada pada kotak masuk kita)\n",
        "\n",
        "* **Pilih algoritma yang memiliki Specificity tinggi jika**\n",
        "\n",
        "    kita tidak menginginkan terjadinya false positif. Contohnya pada prediksi apakah seseorang kecanduan narkoba atau tidak maka kita sangat mengharapkan tidak terjadi salah mendeteksi orang yang sebenarnya negatif tapi dinyatakan positif. Kasihan dia masuk penjara padahal tidak kecanduan narkoba :-)\n",
        "\n",
        "\n",
        "\n",
        "\n",
        "\n"
      ]
    },
    {
      "cell_type": "markdown",
      "metadata": {
        "id": "enW4O-RCEJBy"
      },
      "source": [
        "[source](https://manisha-sirsat.blogspot.com/2019/04/confusion-matrix.html)\n",
        "\n",
        "Catatan :\n",
        "\n",
        "Khusu untuk\n",
        "\n",
        "`from sklearn.metrics import confusion_matrix`\n",
        "\n",
        "`confusion_matrix(y_test, y_pred)`\n",
        "\n",
        "Ascending (default) -> 0 1 negatif positif ke kanan dan kebawah \n",
        "\n",
        "bentuknya :\n",
        "\n",
        "(tn, fp, fn, tp)\n",
        "\n",
        "TN FP\n",
        "\n",
        "FN TP\n",
        "\n",
        "`confusion_matrix(y_test, y_pred, labels=[1, 0])`\n",
        "\n",
        "dibalik -> 1 0 positif negatif ke kanan dan kebawah\n",
        "\n",
        "bentuknya :\n",
        "\n",
        "(tp, fn, fp, tn)\n",
        "\n",
        "TP FN\n",
        "\n",
        "FP TN\n",
        "\n",
        "bentuknya seperti ini :\n",
        "\n",
        "![confusionMatrxiUpdated.jpg](https://raw.githubusercontent.com/nurimammasri/Wooky-Machine-Learning/main/Images/confusionMatrxiUpdated.jpg)"
      ]
    },
    {
      "cell_type": "markdown",
      "metadata": {
        "id": "E_ULO9lfCXy5"
      },
      "source": [
        " **Contoh 1**"
      ]
    },
    {
      "cell_type": "code",
      "execution_count": 26,
      "metadata": {
        "colab": {
          "base_uri": "https://localhost:8080/"
        },
        "id": "pou4RcYOCV3b",
        "outputId": "7896aef8-7b5b-453c-d6e9-25dac605ae72"
      },
      "outputs": [
        {
          "data": {
            "text/plain": [
              "array([[2, 0, 0],\n",
              "       [0, 0, 1],\n",
              "       [1, 0, 2]])"
            ]
          },
          "execution_count": 26,
          "metadata": {},
          "output_type": "execute_result"
        }
      ],
      "source": [
        "from sklearn.metrics import confusion_matrix\n",
        "y_true = [2, 0, 2, 2, 0, 1]\n",
        "y_pred = [0, 0, 2, 2, 0, 2]\n",
        "confusion_matrix(y_true, y_pred)"
      ]
    },
    {
      "cell_type": "code",
      "execution_count": 27,
      "metadata": {
        "colab": {
          "base_uri": "https://localhost:8080/"
        },
        "id": "S8UKH93uCeyo",
        "outputId": "16912f25-fd7b-4a44-d052-afbddfceedca"
      },
      "outputs": [
        {
          "data": {
            "text/plain": [
              "array([[2, 0, 0],\n",
              "       [0, 0, 1],\n",
              "       [1, 0, 2]])"
            ]
          },
          "execution_count": 27,
          "metadata": {},
          "output_type": "execute_result"
        }
      ],
      "source": [
        "y_true = [\"cat\", \"ant\", \"cat\", \"cat\", \"ant\", \"bird\"]\n",
        "y_pred = [\"ant\", \"ant\", \"cat\", \"cat\", \"ant\", \"cat\"]\n",
        "confusion_matrix(y_true, y_pred, labels=[\"ant\", \"bird\", \"cat\"])"
      ]
    },
    {
      "cell_type": "code",
      "execution_count": 28,
      "metadata": {
        "colab": {
          "base_uri": "https://localhost:8080/"
        },
        "id": "ycFJCwjACkL3",
        "outputId": "4182a9ba-54d6-44d2-d377-cba7f5f21bff"
      },
      "outputs": [
        {
          "data": {
            "text/plain": [
              "array([[0, 2],\n",
              "       [1, 1]])"
            ]
          },
          "execution_count": 28,
          "metadata": {},
          "output_type": "execute_result"
        }
      ],
      "source": [
        "confusion_matrix([0, 1, 0, 1], [1, 1, 1, 0])"
      ]
    },
    {
      "cell_type": "code",
      "execution_count": 29,
      "metadata": {
        "colab": {
          "base_uri": "https://localhost:8080/"
        },
        "id": "1N2HOmPRCv0R",
        "outputId": "9dc57363-8c66-4cbb-ac82-6c0c5db65401"
      },
      "outputs": [
        {
          "data": {
            "text/plain": [
              "(0, 2, 1, 1)"
            ]
          },
          "execution_count": 29,
          "metadata": {},
          "output_type": "execute_result"
        }
      ],
      "source": [
        "tn, fp, fn, tp = confusion_matrix([0, 1, 0, 1], [1, 1, 1, 0]).ravel()\n",
        "(tn, fp, fn, tp)"
      ]
    },
    {
      "cell_type": "markdown",
      "metadata": {
        "id": "uBpBfJJiCZES"
      },
      "source": [
        " **Contoh 2**"
      ]
    },
    {
      "cell_type": "markdown",
      "metadata": {
        "id": "LzpvscfSz8Sc"
      },
      "source": [
        "[source csv](https://www.kaggle.com/kumargh/pimaindiansdiabetescsv)\n",
        "\n",
        "\n",
        "**About this file**\n",
        "\n",
        "This dataset describes the medical records for Pima Indians\n",
        "and whether or not each patient will have an onset of diabetes within \fve years.\n",
        "\n",
        "Fields description follow:\n",
        "\n",
        "preg = Number of times pregnant\n",
        "\n",
        "plas = Plasma glucose concentration a 2 hours in an oral glucose tolerance test\n",
        "\n",
        "pres = Diastolic blood pressure (mm Hg)\n",
        "\n",
        "skin = Triceps skin fold thickness (mm)\n",
        "\n",
        "test = 2-Hour serum insulin (mu U/ml)\n",
        "\n",
        "mass = Body mass index (weight in kg/(height in m)^2)\n",
        "\n",
        "pedi = Diabetes pedigree function\n",
        "\n",
        "age = Age (years)\n",
        "\n",
        "class = Class variable (1:tested positive for diabetes, 0: tested negative for diabetes)"
      ]
    },
    {
      "cell_type": "code",
      "execution_count": 30,
      "metadata": {
        "colab": {
          "base_uri": "https://localhost:8080/",
          "height": 203
        },
        "id": "T33T8UQeyKWb",
        "outputId": "ad688786-ab47-45de-a6d6-d5618380ee03"
      },
      "outputs": [
        {
          "data": {
            "text/html": [
              "<div>\n",
              "<style scoped>\n",
              "    .dataframe tbody tr th:only-of-type {\n",
              "        vertical-align: middle;\n",
              "    }\n",
              "\n",
              "    .dataframe tbody tr th {\n",
              "        vertical-align: top;\n",
              "    }\n",
              "\n",
              "    .dataframe thead th {\n",
              "        text-align: right;\n",
              "    }\n",
              "</style>\n",
              "<table border=\"1\" class=\"dataframe\">\n",
              "  <thead>\n",
              "    <tr style=\"text-align: right;\">\n",
              "      <th></th>\n",
              "      <th>preg</th>\n",
              "      <th>plas</th>\n",
              "      <th>pres</th>\n",
              "      <th>skin</th>\n",
              "      <th>test</th>\n",
              "      <th>mass</th>\n",
              "      <th>pedi</th>\n",
              "      <th>age</th>\n",
              "      <th>class</th>\n",
              "    </tr>\n",
              "  </thead>\n",
              "  <tbody>\n",
              "    <tr>\n",
              "      <th>0</th>\n",
              "      <td>6</td>\n",
              "      <td>148</td>\n",
              "      <td>72</td>\n",
              "      <td>35</td>\n",
              "      <td>0</td>\n",
              "      <td>33.6</td>\n",
              "      <td>0.627</td>\n",
              "      <td>50</td>\n",
              "      <td>1</td>\n",
              "    </tr>\n",
              "    <tr>\n",
              "      <th>1</th>\n",
              "      <td>1</td>\n",
              "      <td>85</td>\n",
              "      <td>66</td>\n",
              "      <td>29</td>\n",
              "      <td>0</td>\n",
              "      <td>26.6</td>\n",
              "      <td>0.351</td>\n",
              "      <td>31</td>\n",
              "      <td>0</td>\n",
              "    </tr>\n",
              "    <tr>\n",
              "      <th>2</th>\n",
              "      <td>8</td>\n",
              "      <td>183</td>\n",
              "      <td>64</td>\n",
              "      <td>0</td>\n",
              "      <td>0</td>\n",
              "      <td>23.3</td>\n",
              "      <td>0.672</td>\n",
              "      <td>32</td>\n",
              "      <td>1</td>\n",
              "    </tr>\n",
              "    <tr>\n",
              "      <th>3</th>\n",
              "      <td>1</td>\n",
              "      <td>89</td>\n",
              "      <td>66</td>\n",
              "      <td>23</td>\n",
              "      <td>94</td>\n",
              "      <td>28.1</td>\n",
              "      <td>0.167</td>\n",
              "      <td>21</td>\n",
              "      <td>0</td>\n",
              "    </tr>\n",
              "    <tr>\n",
              "      <th>4</th>\n",
              "      <td>0</td>\n",
              "      <td>137</td>\n",
              "      <td>40</td>\n",
              "      <td>35</td>\n",
              "      <td>168</td>\n",
              "      <td>43.1</td>\n",
              "      <td>2.288</td>\n",
              "      <td>33</td>\n",
              "      <td>1</td>\n",
              "    </tr>\n",
              "  </tbody>\n",
              "</table>\n",
              "</div>"
            ],
            "text/plain": [
              "   preg  plas  pres  skin  test  mass   pedi  age  class\n",
              "0     6   148    72    35     0  33.6  0.627   50      1\n",
              "1     1    85    66    29     0  26.6  0.351   31      0\n",
              "2     8   183    64     0     0  23.3  0.672   32      1\n",
              "3     1    89    66    23    94  28.1  0.167   21      0\n",
              "4     0   137    40    35   168  43.1  2.288   33      1"
            ]
          },
          "execution_count": 30,
          "metadata": {},
          "output_type": "execute_result"
        }
      ],
      "source": [
        "import pandas as pd\n",
        "import numpy as np\n",
        "\n",
        "colnames = ['preg', 'plas', 'pres', 'skin', 'test', 'mass', 'pedi', 'age', 'class']\n",
        "# df = pd.read_csv('pima-indians-diabetes.csv', names=colnames)\n",
        "df = pd.read_csv('https://drive.google.com/uc?id=1HtA3MOLvgDogWvqLjv6ZBpf3oONL4WLW', names=colnames)\n",
        "\n",
        "df.head()"
      ]
    },
    {
      "cell_type": "code",
      "execution_count": 31,
      "metadata": {
        "colab": {
          "base_uri": "https://localhost:8080/"
        },
        "id": "p4pDxjavzcDi",
        "outputId": "572a303a-3a31-4bc1-f4be-bba17bb19bd9"
      },
      "outputs": [
        {
          "data": {
            "text/plain": [
              "0    500\n",
              "1    268\n",
              "Name: class, dtype: int64"
            ]
          },
          "execution_count": 31,
          "metadata": {},
          "output_type": "execute_result"
        }
      ],
      "source": [
        "df['class'].value_counts()"
      ]
    },
    {
      "cell_type": "code",
      "execution_count": 32,
      "metadata": {
        "colab": {
          "base_uri": "https://localhost:8080/"
        },
        "id": "3_rlcDAAzm1N",
        "outputId": "d469b9d6-6041-4037-a75c-953b27a49a8d"
      },
      "outputs": [
        {
          "data": {
            "text/plain": [
              "GridSearchCV(cv=10, error_score=nan,\n",
              "             estimator=LogisticRegression(C=1.0, class_weight=None, dual=False,\n",
              "                                          fit_intercept=True,\n",
              "                                          intercept_scaling=1, l1_ratio=None,\n",
              "                                          max_iter=100, multi_class='auto',\n",
              "                                          n_jobs=None, penalty='l2',\n",
              "                                          random_state=21, solver='lbfgs',\n",
              "                                          tol=0.0001, verbose=0,\n",
              "                                          warm_start=False),\n",
              "             iid='deprecated', n_jobs=None,\n",
              "             param_grid={'C': array([0.1, 0.2, 0.3, 0.4, 0.5, 0.6, 0.7, 0.8, 0.9]),\n",
              "                         'class_weight': [{0: 0.1, 1: 0.9}, {0: 0.2, 1: 0.8},\n",
              "                                          {0: 0.30000000000000004, 1: 0.7},\n",
              "                                          {0: 0.4, 1: 0.6}, {0: 0.5, 1: 0.5},\n",
              "                                          {0: 0.6, 1: 0.4},\n",
              "                                          {0: 0.7000000000000001,\n",
              "                                           1: 0.29999999999999993},\n",
              "                                          {0: 0.8, 1: 0.19999999999999996}]},\n",
              "             pre_dispatch='2*n_jobs', refit=True, return_train_score=False,\n",
              "             scoring='f1', verbose=0)"
            ]
          },
          "execution_count": 32,
          "metadata": {},
          "output_type": "execute_result"
        }
      ],
      "source": [
        "from sklearn.linear_model import LogisticRegression\n",
        "from sklearn.model_selection import GridSearchCV\n",
        "from sklearn.model_selection import train_test_split\n",
        "from sklearn.preprocessing import scale\n",
        "\n",
        "X = df.drop('class', axis=1)\n",
        "Xs = scale(X)\n",
        "y = df['class']\n",
        "\n",
        "X_train, X_test, y_train, y_test = train_test_split(Xs, y, test_size=0.2, random_state=21, stratify=y)\n",
        "\n",
        "model_lr = LogisticRegression(random_state=21)\n",
        "params_grid = {\n",
        "    'C':np.arange(0.1, 1, 0.1), 'class_weight':[{0:x, 1:1-x} for x in np.arange(0.1, 0.9, 0.1)]\n",
        "}\n",
        "\n",
        "gscv = GridSearchCV(model_lr, params_grid, cv=10, scoring='f1')\n",
        "gscv.fit(X_train, y_train)"
      ]
    },
    {
      "cell_type": "code",
      "execution_count": 33,
      "metadata": {
        "colab": {
          "base_uri": "https://localhost:8080/"
        },
        "id": "2s0JJ1eVAXSD",
        "outputId": "30ffcfef-9504-422f-b842-837ef626d95e"
      },
      "outputs": [
        {
          "data": {
            "text/plain": [
              "array([0, 0, 0, 1, 1, 0, 1, 0, 0, 0, 1, 1, 0, 0, 1, 1, 0, 1, 0, 1, 1, 0,\n",
              "       0, 0, 0, 1, 0, 1, 1, 0, 1, 0, 0, 0, 0, 0, 0, 0, 0, 0, 1, 0, 1, 1,\n",
              "       0, 0, 0, 1, 0, 0, 0, 1, 0, 1, 1, 0, 1, 1, 1, 1, 1, 1, 1, 0, 0, 0,\n",
              "       1, 0, 0, 0, 1, 1, 0, 1, 1, 0, 1, 0, 1, 1, 1, 0, 0, 0, 0, 0, 0, 1,\n",
              "       1, 1, 1, 0, 0, 0, 0, 0, 1, 0, 0, 0, 0, 0, 0, 0, 0, 1, 0, 0, 0, 0,\n",
              "       1, 1, 0, 1, 1, 1, 0, 0, 0, 0, 1, 1, 0, 1, 1, 1, 0, 0, 1, 1, 1, 1,\n",
              "       1, 1, 1, 0, 0, 0, 1, 0, 0, 0, 0, 1, 0, 0, 1, 0, 0, 0, 1, 0, 0, 0])"
            ]
          },
          "execution_count": 33,
          "metadata": {},
          "output_type": "execute_result"
        }
      ],
      "source": [
        "y_pred = gscv.predict(X_test)\n",
        "y_pred"
      ]
    },
    {
      "cell_type": "code",
      "execution_count": 34,
      "metadata": {
        "colab": {
          "base_uri": "https://localhost:8080/"
        },
        "id": "rctPVZisAitp",
        "outputId": "4f922abe-8193-4348-bfdc-b63a7b151d55"
      },
      "outputs": [
        {
          "data": {
            "text/plain": [
              "array([[75, 25],\n",
              "       [15, 39]])"
            ]
          },
          "execution_count": 34,
          "metadata": {},
          "output_type": "execute_result"
        }
      ],
      "source": [
        "from sklearn.metrics import confusion_matrix, classification_report\n",
        "confusion_matrix(y_test, y_pred)"
      ]
    },
    {
      "cell_type": "markdown",
      "metadata": {
        "id": "AmwQAyAZA5Z_"
      },
      "source": [
        "Ascending (default) -> 0 1 negatif positif ke kanan dan kebawah "
      ]
    },
    {
      "cell_type": "code",
      "execution_count": 35,
      "metadata": {
        "colab": {
          "base_uri": "https://localhost:8080/"
        },
        "id": "h7SmnniMBK_b",
        "outputId": "798ecc47-6abb-466a-895b-e9939435a173"
      },
      "outputs": [
        {
          "data": {
            "text/plain": [
              "array([[39, 15],\n",
              "       [25, 75]])"
            ]
          },
          "execution_count": 35,
          "metadata": {},
          "output_type": "execute_result"
        }
      ],
      "source": [
        "confusion_matrix(y_test, y_pred, labels=[1, 0])"
      ]
    },
    {
      "cell_type": "markdown",
      "metadata": {
        "id": "ziiw7wmcBXHi"
      },
      "source": [
        "dibalik -> 1 0 positif negatif ke kanan dan kebawah\n",
        "\n",
        "bentuknya :\n",
        "\n",
        "TP FN\n",
        "\n",
        "FP TN"
      ]
    },
    {
      "cell_type": "code",
      "execution_count": 36,
      "metadata": {
        "id": "DeA0b1GcBmpR"
      },
      "outputs": [],
      "source": [
        "TP = 39\n",
        "FN = 15\n",
        "FP = 25\n",
        "TN = 75"
      ]
    },
    {
      "cell_type": "markdown",
      "metadata": {
        "id": "3d2AtlKgGQNi"
      },
      "source": [
        "![confusionMatrxiUpdated.jpg](https://raw.githubusercontent.com/nurimammasri/Wooky-Machine-Learning/main/Images/confusionMatrxiUpdated.jpg)\n",
        "\n",
        "F1 Score = 2 * (Recall*Precission) / (Recall + Precission)"
      ]
    },
    {
      "cell_type": "code",
      "execution_count": 37,
      "metadata": {
        "id": "l2o_JhgiG_Dd"
      },
      "outputs": [],
      "source": [
        "classification_report?"
      ]
    },
    {
      "cell_type": "code",
      "execution_count": 38,
      "metadata": {
        "colab": {
          "base_uri": "https://localhost:8080/"
        },
        "id": "fvdXsmPlGBis",
        "outputId": "cd100094-addd-41eb-c33f-bcc22eef0463"
      },
      "outputs": [
        {
          "name": "stdout",
          "output_type": "stream",
          "text": [
            "              precision    recall  f1-score   support\n",
            "\n",
            "           1       0.61      0.72      0.66        54\n",
            "           0       0.83      0.75      0.79       100\n",
            "\n",
            "    accuracy                           0.74       154\n",
            "   macro avg       0.72      0.74      0.73       154\n",
            "weighted avg       0.75      0.74      0.74       154\n",
            "\n"
          ]
        }
      ],
      "source": [
        "print(classification_report(y_test, y_pred, labels= [1, 0]))"
      ]
    },
    {
      "cell_type": "code",
      "execution_count": 39,
      "metadata": {
        "colab": {
          "base_uri": "https://localhost:8080/"
        },
        "id": "H4OA8o49GSnt",
        "outputId": "7595150c-4fbd-4f0c-c889-3f13819d37a6"
      },
      "outputs": [
        {
          "name": "stdout",
          "output_type": "stream",
          "text": [
            "precision =  0.609375\n",
            "recall =  0.7222222222222222\n",
            "f1 score =  0.6610169491525424\n"
          ]
        }
      ],
      "source": [
        "# menghitung nilai precision, recall, f1-score dari model kita dalam memprediksi data yang positive\n",
        "precision = TP/(TP+FP)\n",
        "print('precision = ', precision)\n",
        "\n",
        "recall = TP/(TP+FN)\n",
        "print('recall = ', recall)\n",
        "\n",
        "f1_score = 2 * (recall*precision)/(recall + precision)\n",
        "print('f1 score = ', f1_score)"
      ]
    },
    {
      "cell_type": "code",
      "execution_count": 40,
      "metadata": {
        "colab": {
          "base_uri": "https://localhost:8080/"
        },
        "id": "N8Z_wco5IGkj",
        "outputId": "d6ac5914-aba2-4c5a-8827-0bc46d53ab07"
      },
      "outputs": [
        {
          "name": "stdout",
          "output_type": "stream",
          "text": [
            "precision_negative =  0.8333333333333334\n",
            "specifity =  0.75\n",
            "f1 score =  0.7894736842105262\n"
          ]
        }
      ],
      "source": [
        "# menghitung nilai precision_negative, specifity, f1-score dari model kita dalam memprediksi data yang positive\n",
        "precision_negative = TN/(TN+FN)\n",
        "print('precision_negative = ', precision_negative)\n",
        "\n",
        "specifity = TN/(TN+FP) # recall negative\n",
        "print('specifity = ', specifity)\n",
        "\n",
        "f1_score = 2 * (specifity*precision_negative)/(specifity + precision_negative)\n",
        "print('f1 score = ', f1_score)"
      ]
    },
    {
      "cell_type": "markdown",
      "metadata": {
        "id": "6mUdx8TB3hkz"
      },
      "source": [
        " **Contoh 3**\n",
        "\n",
        "Dataset yang Digunakan"
      ]
    },
    {
      "cell_type": "code",
      "execution_count": 41,
      "metadata": {
        "colab": {
          "base_uri": "https://localhost:8080/",
          "height": 178
        },
        "id": "rPl37ZVa3lTh",
        "outputId": "281db31c-58d9-429f-a1d0-7631202ccba7"
      },
      "outputs": [
        {
          "data": {
            "text/html": [
              "<div>\n",
              "<style scoped>\n",
              "    .dataframe tbody tr th:only-of-type {\n",
              "        vertical-align: middle;\n",
              "    }\n",
              "\n",
              "    .dataframe tbody tr th {\n",
              "        vertical-align: top;\n",
              "    }\n",
              "\n",
              "    .dataframe thead th {\n",
              "        text-align: right;\n",
              "    }\n",
              "</style>\n",
              "<table border=\"1\" class=\"dataframe\">\n",
              "  <thead>\n",
              "    <tr style=\"text-align: right;\">\n",
              "      <th></th>\n",
              "      <th>diagnosis</th>\n",
              "      <th>radius_mean</th>\n",
              "      <th>texture_mean</th>\n",
              "      <th>perimeter_mean</th>\n",
              "      <th>area_mean</th>\n",
              "      <th>smoothness_mean</th>\n",
              "      <th>compactness_mean</th>\n",
              "      <th>concavity_mean</th>\n",
              "      <th>concave points_mean</th>\n",
              "      <th>symmetry_mean</th>\n",
              "      <th>fractal_dimension_mean</th>\n",
              "      <th>radius_se</th>\n",
              "      <th>texture_se</th>\n",
              "      <th>perimeter_se</th>\n",
              "      <th>area_se</th>\n",
              "      <th>smoothness_se</th>\n",
              "      <th>compactness_se</th>\n",
              "      <th>concavity_se</th>\n",
              "      <th>concave points_se</th>\n",
              "      <th>symmetry_se</th>\n",
              "      <th>fractal_dimension_se</th>\n",
              "      <th>radius_worst</th>\n",
              "      <th>texture_worst</th>\n",
              "      <th>perimeter_worst</th>\n",
              "      <th>area_worst</th>\n",
              "      <th>smoothness_worst</th>\n",
              "      <th>compactness_worst</th>\n",
              "      <th>concavity_worst</th>\n",
              "      <th>concave points_worst</th>\n",
              "      <th>symmetry_worst</th>\n",
              "      <th>fractal_dimension_worst</th>\n",
              "    </tr>\n",
              "  </thead>\n",
              "  <tbody>\n",
              "    <tr>\n",
              "      <th>0</th>\n",
              "      <td>1</td>\n",
              "      <td>17.99</td>\n",
              "      <td>10.38</td>\n",
              "      <td>122.8</td>\n",
              "      <td>1001.0</td>\n",
              "      <td>0.11840</td>\n",
              "      <td>0.27760</td>\n",
              "      <td>0.3001</td>\n",
              "      <td>0.14710</td>\n",
              "      <td>0.2419</td>\n",
              "      <td>0.07871</td>\n",
              "      <td>1.0950</td>\n",
              "      <td>0.9053</td>\n",
              "      <td>8.589</td>\n",
              "      <td>153.40</td>\n",
              "      <td>0.006399</td>\n",
              "      <td>0.04904</td>\n",
              "      <td>0.05373</td>\n",
              "      <td>0.01587</td>\n",
              "      <td>0.03003</td>\n",
              "      <td>0.006193</td>\n",
              "      <td>25.38</td>\n",
              "      <td>17.33</td>\n",
              "      <td>184.6</td>\n",
              "      <td>2019.0</td>\n",
              "      <td>0.1622</td>\n",
              "      <td>0.6656</td>\n",
              "      <td>0.7119</td>\n",
              "      <td>0.2654</td>\n",
              "      <td>0.4601</td>\n",
              "      <td>0.11890</td>\n",
              "    </tr>\n",
              "    <tr>\n",
              "      <th>1</th>\n",
              "      <td>1</td>\n",
              "      <td>20.57</td>\n",
              "      <td>17.77</td>\n",
              "      <td>132.9</td>\n",
              "      <td>1326.0</td>\n",
              "      <td>0.08474</td>\n",
              "      <td>0.07864</td>\n",
              "      <td>0.0869</td>\n",
              "      <td>0.07017</td>\n",
              "      <td>0.1812</td>\n",
              "      <td>0.05667</td>\n",
              "      <td>0.5435</td>\n",
              "      <td>0.7339</td>\n",
              "      <td>3.398</td>\n",
              "      <td>74.08</td>\n",
              "      <td>0.005225</td>\n",
              "      <td>0.01308</td>\n",
              "      <td>0.01860</td>\n",
              "      <td>0.01340</td>\n",
              "      <td>0.01389</td>\n",
              "      <td>0.003532</td>\n",
              "      <td>24.99</td>\n",
              "      <td>23.41</td>\n",
              "      <td>158.8</td>\n",
              "      <td>1956.0</td>\n",
              "      <td>0.1238</td>\n",
              "      <td>0.1866</td>\n",
              "      <td>0.2416</td>\n",
              "      <td>0.1860</td>\n",
              "      <td>0.2750</td>\n",
              "      <td>0.08902</td>\n",
              "    </tr>\n",
              "    <tr>\n",
              "      <th>2</th>\n",
              "      <td>1</td>\n",
              "      <td>19.69</td>\n",
              "      <td>21.25</td>\n",
              "      <td>130.0</td>\n",
              "      <td>1203.0</td>\n",
              "      <td>0.10960</td>\n",
              "      <td>0.15990</td>\n",
              "      <td>0.1974</td>\n",
              "      <td>0.12790</td>\n",
              "      <td>0.2069</td>\n",
              "      <td>0.05999</td>\n",
              "      <td>0.7456</td>\n",
              "      <td>0.7869</td>\n",
              "      <td>4.585</td>\n",
              "      <td>94.03</td>\n",
              "      <td>0.006150</td>\n",
              "      <td>0.04006</td>\n",
              "      <td>0.03832</td>\n",
              "      <td>0.02058</td>\n",
              "      <td>0.02250</td>\n",
              "      <td>0.004571</td>\n",
              "      <td>23.57</td>\n",
              "      <td>25.53</td>\n",
              "      <td>152.5</td>\n",
              "      <td>1709.0</td>\n",
              "      <td>0.1444</td>\n",
              "      <td>0.4245</td>\n",
              "      <td>0.4504</td>\n",
              "      <td>0.2430</td>\n",
              "      <td>0.3613</td>\n",
              "      <td>0.08758</td>\n",
              "    </tr>\n",
              "  </tbody>\n",
              "</table>\n",
              "</div>"
            ],
            "text/plain": [
              "   diagnosis  radius_mean  ...  symmetry_worst  fractal_dimension_worst\n",
              "0          1        17.99  ...          0.4601                  0.11890\n",
              "1          1        20.57  ...          0.2750                  0.08902\n",
              "2          1        19.69  ...          0.3613                  0.08758\n",
              "\n",
              "[3 rows x 31 columns]"
            ]
          },
          "execution_count": 41,
          "metadata": {},
          "output_type": "execute_result"
        }
      ],
      "source": [
        "import pandas as pd\n",
        "import numpy as np\n",
        "# membaca dataset \n",
        "# data = pd.read_csv(\"data/breast-cancer-wisconsin-data.csv\")\n",
        "data = pd.read_csv('https://drive.google.com/uc?id=1EwFuq_2VFBF2NAeEG2HqwXZKmJWNRU-_') \n",
        "\n",
        "# mengahapus kolom yang tidak digunakan\n",
        "data.drop([\"Unnamed: 32\",\"id\"], axis=1, inplace=True)\n",
        "# merubah label M(ganas) = 1 dan B(jinak) = 0\n",
        "data.diagnosis = [1 if each == \"M\" else 0 for each in data.diagnosis]\n",
        "data.head(3) # menampilkan sample data"
      ]
    },
    {
      "cell_type": "code",
      "execution_count": 42,
      "metadata": {
        "id": "XQbfFO9K48vA"
      },
      "outputs": [],
      "source": [
        "x = data.drop('diagnosis', axis=1)\n",
        "y = data.diagnosis"
      ]
    },
    {
      "cell_type": "markdown",
      "metadata": {
        "id": "tOstDqP34nmw"
      },
      "source": [
        "Membagi Dataset dan Membuat Model Prediksi"
      ]
    },
    {
      "cell_type": "code",
      "execution_count": 43,
      "metadata": {
        "id": "RQi2eVkK4tBM"
      },
      "outputs": [],
      "source": [
        "from sklearn.model_selection import train_test_split\n",
        "x_train, x_test, y_train, y_test = train_test_split(x, y, test_size=0.25, random_state=42)"
      ]
    },
    {
      "cell_type": "markdown",
      "metadata": {
        "id": "vxEPzjj65Sm7"
      },
      "source": [
        "Selanjutnya, kita akan membuat model sederhana menggunakan Decision Tree untuk melakukan prediksi."
      ]
    },
    {
      "cell_type": "code",
      "execution_count": 44,
      "metadata": {
        "id": "yhxi0SFn5RSH"
      },
      "outputs": [],
      "source": [
        "from sklearn.tree import DecisionTreeClassifier\n",
        "model = DecisionTreeClassifier()\n",
        "model.fit(x_train, y_train)\n",
        "y_pred = model.predict(x_test) # prediksi"
      ]
    },
    {
      "cell_type": "markdown",
      "metadata": {
        "id": "z11TK_nq5WI0"
      },
      "source": [
        "Evaluasi Model menggunakan Confusion Matrix"
      ]
    },
    {
      "cell_type": "code",
      "execution_count": 45,
      "metadata": {
        "colab": {
          "base_uri": "https://localhost:8080/"
        },
        "id": "znnACoRa5YOK",
        "outputId": "e6a37f35-f569-4a3a-b900-acc3d565c388"
      },
      "outputs": [
        {
          "data": {
            "text/plain": [
              "array([[81,  8],\n",
              "       [ 3, 51]])"
            ]
          },
          "execution_count": 45,
          "metadata": {},
          "output_type": "execute_result"
        }
      ],
      "source": [
        "from sklearn.metrics import confusion_matrix\n",
        "confusion_matrix(y_test, y_pred)"
      ]
    },
    {
      "cell_type": "markdown",
      "metadata": {
        "id": "Y1iAWSfY5cTo"
      },
      "source": [
        "Kita dapat memvisualisasikan confusion matrix tersebut untuk memudahkan dalam mengevaluasi."
      ]
    },
    {
      "cell_type": "code",
      "execution_count": 46,
      "metadata": {
        "colab": {
          "base_uri": "https://localhost:8080/",
          "height": 335
        },
        "id": "dGhZyPtK5dEv",
        "outputId": "2a6a3d88-fbeb-447d-95af-41f375d1ceb3"
      },
      "outputs": [
        {
          "data": {
            "image/png": "[encoded data removed]",
            "text/plain": [
              "<Figure size 576x360 with 2 Axes>"
            ]
          },
          "metadata": {
            "needs_background": "light"
          },
          "output_type": "display_data"
        }
      ],
      "source": [
        "import seaborn as sns\n",
        "import matplotlib.pyplot as plt\n",
        "f, ax = plt.subplots(figsize=(8,5))\n",
        "sns.heatmap(confusion_matrix(y_test, y_pred), annot=True, fmt=\".0f\", ax=ax)\n",
        "plt.xlabel(\"y_head\")\n",
        "plt.ylabel(\"y_true\")\n",
        "plt.show()"
      ]
    },
    {
      "cell_type": "markdown",
      "metadata": {
        "id": "wj9d7TqB82Pb"
      },
      "source": [
        "performance metrics seperti: accuracy, recall, dan precision."
      ]
    },
    {
      "cell_type": "code",
      "execution_count": 47,
      "metadata": {
        "colab": {
          "base_uri": "https://localhost:8080/"
        },
        "id": "FmpZ9ZaW83pU",
        "outputId": "285eb141-4d91-4aeb-9d7b-8e311a798413"
      },
      "outputs": [
        {
          "name": "stdout",
          "output_type": "stream",
          "text": [
            "              precision    recall  f1-score   support\n",
            "\n",
            "           0       0.96      0.91      0.94        89\n",
            "           1       0.86      0.94      0.90        54\n",
            "\n",
            "    accuracy                           0.92       143\n",
            "   macro avg       0.91      0.93      0.92       143\n",
            "weighted avg       0.93      0.92      0.92       143\n",
            "\n"
          ]
        }
      ],
      "source": [
        "from sklearn.metrics import classification_report\n",
        "print (classification_report(y_test, y_pred))"
      ]
    },
    {
      "cell_type": "markdown",
      "metadata": {
        "id": "9jkkpB919nAp"
      },
      "source": [
        "### **ROC and AUC**\n",
        "\n",
        "[source 1](https://medium.com/@arifinrio95/memahami-roc-dan-auc-2e0e4f3638bf)\n",
        "\n",
        "[source 2](https://www.rezafaisal.net/?p=3068)\n",
        "\n",
        "### **Receiver Operating Characteristic / ROC**\n",
        "\n",
        "Kurva ROC dibuat berdasarkan nilai telah didapatkan pada perhitungan dengan confusion matrix, yaitu antara **False Positive Rate** dengan **True Positive Rate**. Dimana:\n",
        "\n",
        "* False Positive Rate (FPR) = False Positive / (False Positive + True Negative)\n",
        "\n",
        "* True Positive Rate (TPR) = True Positive / (True Positive + False Negative)\n",
        "\n",
        "ROC (Receiver Operating Characteristics) adalah semacam alat ukur performance untuk classification problem dalam menentukan threshold dari suatu model. Contohnya: pada logistic regression, default dari thresholdnya adalah 0.5. Apakah 0.5 ini threshold terbaik? Well, ya kalo distribusi peluangnya seperti ini:\n",
        "\n",
        "![roc01.png](https://raw.githubusercontent.com/nurimammasri/Wooky-Machine-Learning/main/Images/roc01.png)\n",
        "\n",
        "Atau gini juga sih\n",
        "\n",
        "![roc02.png](https://raw.githubusercontent.com/nurimammasri/Wooky-Machine-Learning/main/Images/roc02.png)\n",
        "\n",
        "Aku ambil contoh dari video, tentang peluang obesitas seekor tikus (kenapa tikus mulu ya).\n",
        "Masuk akal jika semakin berat seekor tikus, maka semakin tinggi peluang dia obesitas. Karena kita bicara peluang, artinya ada juga tikus yang berat banget tapi ngga obesitas, mungkin dia tikus gym, badannya otot semua. Kalo diplot peluangnya, dan ditambah garis regresi logistic jadinya kaya gini:\n",
        "\n",
        "![roc03.png](https://raw.githubusercontent.com/nurimammasri/Wooky-Machine-Learning/main/Images/roc03.png)\n",
        "\n",
        "Yang biru adalah tikus yang obesitas, yang merah normal.\n",
        "\n",
        "Kita lihat jika kita tentukan thresholdnya sebesar 0.5 maka untuk sampel tersebut kita punya 3 True Positive, 1 False Positive, 3 True Negative, dan 1 False Negative.\n",
        "\n",
        "![roc04.png](https://raw.githubusercontent.com/nurimammasri/Wooky-Machine-Learning/main/Images/roc04.png)\n",
        "\n",
        "Coba kita ambil threshold yang lain ya, let us say 0.9…\n",
        "\n",
        "Maka confusion matrixnya jadi gini,\n",
        "\n",
        "![roc05.png](https://raw.githubusercontent.com/nurimammasri/Wooky-Machine-Learning/main/Images/roc05.png)\n",
        "\n",
        "Dengan threshold ini, kita dapat hasil yang lebih baik.\n",
        "Threshold ini dapat kita set dimana saja, dan kita cari semua kemungkinannya. Trus gimana kita nentuin threshold mana yang paling baik? Inilah gunanya ROC.\n",
        "Daripada kita mabok karna confusion matrix, mending kita m̶a̶b̶o̶k̶ ̶p̶e̶r̶t̶a̶l̶i̶t̶e̶ plot smua kemungkinan thresholdnya dalam ROC graph,\n",
        "\n",
        "![roc06.png](https://raw.githubusercontent.com/nurimammasri/Wooky-Machine-Learning/main/Images/roc06.png)\n",
        "\n",
        "Sumbu y merepresentasikan True Positive Rate, sumbu x merepresentasikan False Positive Rate. Dimana,\n",
        "\n",
        "TPR/Recall/Sensitivity = TP/TP+FN\n",
        "\n",
        "![roc07.png](https://raw.githubusercontent.com/nurimammasri/Wooky-Machine-Learning/main/Images/roc07.png)\n",
        "\n",
        "Specifity = TN/TN+FP\n",
        "\n",
        "![roc08.png](https://raw.githubusercontent.com/nurimammasri/Wooky-Machine-Learning/main/Images/roc08.png)\n",
        "\n",
        "FPR = 1 - Specifity = FP/TN+FP\n",
        "\n",
        "![roc09.png](https://raw.githubusercontent.com/nurimammasri/Wooky-Machine-Learning/main/Images/roc09.png)\n",
        "\n",
        "Titik-titik di ROC graph itu menggambarkan semua kemungkinan TP dan FP jika kita jalankan thresholdnya dari bawah sampe atas.\n",
        "\n",
        "Mulai dari threshold paling bawah yaitu 0, dengan kata lain kita klasifikasikan semua tikus adalah obesitas, confusion matrixnya jadi gini nih:\n",
        "\n",
        "![roc10.png](https://raw.githubusercontent.com/nurimammasri/Wooky-Machine-Learning/main/Images/roc10.png)\n",
        "\n",
        "TP dan FP kemudian diplot ke graph jadinya gini:\n",
        "\n",
        "![roc11.png](https://raw.githubusercontent.com/nurimammasri/Wooky-Machine-Learning/main/Images/roc11.png)\n",
        "\n",
        "Titik (1,1) artinya model kita berhasil memprediksi semua tikus yang aktualnya obesitas diprediksi sebagai obesitas, namun juga gagal memprediksi semuja tikus yang aktualnya tidak obesitas, karna semuanya dipetakan menjadi obesitas.\n",
        "\n",
        "Kalo kita petakan semua threshold dari sampel kita, kita akan dapat ROC graph seperti ini:\n",
        "\n",
        "![roc12.png](https://raw.githubusercontent.com/nurimammasri/Wooky-Machine-Learning/main/Images/roc12.png)\n",
        "\n",
        "Catat bahwa semakin tinggi True Positive Rate dan semakin kecil False Positive Rate maka thresholdnya semakin bagus. Kaya gini:\n",
        "\n",
        "![roc13.png](https://raw.githubusercontent.com/nurimammasri/Wooky-Machine-Learning/main/Images/roc13.png)\n",
        "\n",
        "### **AUC (Area Under the Curve)**\n",
        "\n",
        "AUC membuat kita mudah dalam membandingkan model satu dengan yang lainnya. AUC adalah luas area di bawah curve ROC, atau integral dari fungsi ROC (?).\n",
        "\n",
        "ROC graph dari sampel kita dengan model logistic regression memiliki AUC = 0.9\n",
        "\n",
        "![auc01.png](https://raw.githubusercontent.com/nurimammasri/Wooky-Machine-Learning/main/Images/auc01.png)\n",
        "\n",
        "Misalkan kita petakan ROC dengan model random forest maka grafiknya akan jadi seperti berikut:\n",
        "\n",
        "![auc02.png](https://raw.githubusercontent.com/nurimammasri/Wooky-Machine-Learning/main/Images/auc02.png)\n",
        "\n",
        "Dan kita harus memilih model yang AUCnya paling besar, karena untuk setiap titik dia memiliki TP lebih tinggi dan atau FP lebih rendah.\n",
        "\n",
        ".................................................................................................\n",
        "\n",
        "confusion matrix hanya menyajikan informasi dalam bentuk angka.  Untuk kasus klasifikasi 2 class (binary classification), jika ingin menampilkan informasi kinerja algoritma klasifikasi dalam bentuk grafik maka dapat digunakan Receiver Operating Characteristic (ROC) atau Precision-Recall Curve.\n",
        "\n",
        "**Receiver Operating Characteristic / ROC**\n",
        "\n",
        "Kurva ROC dibuat berdasarkan nilai telah didapatkan pada perhitungan dengan confusion matrix, yaitu antara False Positive Rate dengan True Positive Rate. Dimana:\n",
        "\n",
        "* False Positive Rate (FPR) = False Positive / (False Positive + True Negative)\n",
        "\n",
        "* True Positive Rate (TPR) = True Positive / (True Positive + False Negative)\n",
        "Dan berikut adalah contoh kurva ROC.\n",
        "\n",
        "\n",
        "![auc03.jpg](https://raw.githubusercontent.com/nurimammasri/Wooky-Machine-Learning/main/Images/auc03.jpg)\n",
        "\n",
        "\n",
        "![auc04.png](https://raw.githubusercontent.com/nurimammasri/Wooky-Machine-Learning/main/Images/auc04.png)\n",
        "\n",
        "\n",
        "![auc05.png](https://raw.githubusercontent.com/nurimammasri/Wooky-Machine-Learning/main/Images/auc05.png)\n",
        "\n",
        "\n",
        "![auc06.png](https://raw.githubusercontent.com/nurimammasri/Wooky-Machine-Learning/main/Images/auc06.png)\n",
        "\n",
        "INTINYA UNTUK MEMBANDINGKAN DUA MODEL\n",
        "\n",
        "[Source Code](https://machinelearningmastery.com/roc-curves-and-precision-recall-curves-for-classification-in-python/)\n",
        "\n",
        "ROC Curves and AUC in Python\n",
        "We can plot a ROC curve for a model in Python using the roc_curve() scikit-learn function.\n",
        "\n",
        "The function takes both the true outcomes (0,1) from the test set and the predicted probabilities for the 1 class. The function returns the false positive rates for each threshold, true positive rates for each threshold and thresholds.\n",
        "\n",
        "...\n",
        "**calculate roc curve**\n",
        "> fpr, tpr, thresholds = roc_curve(y, probs)\n",
        "...\n",
        "\n",
        "The AUC for the ROC can be calculated using the roc_auc_score() function.\n",
        "\n",
        "Like the roc_curve() function, the AUC function takes both the true outcomes (0,1) from the test set and the predicted probabilities for the 1 class. It returns the AUC score between 0.0 and 1.0 for no skill and perfect skill respectively.\n",
        "\n",
        "**calculate AUC**\n",
        "\n",
        "> auc = roc_auc_score(y, probs)\n",
        "\n",
        "> print('AUC: %.3f' % auc)\n",
        "\n",
        "A complete example of calculating the ROC curve and ROC AUC for a Logistic Regression model on a small test problem is listed below.\n",
        "\n"
      ]
    },
    {
      "cell_type": "code",
      "execution_count": 48,
      "metadata": {
        "colab": {
          "base_uri": "https://localhost:8080/",
          "height": 314
        },
        "id": "m7xwz2EYTC87",
        "outputId": "f11ef81d-692e-4597-d519-7d2692d1c44a"
      },
      "outputs": [
        {
          "name": "stdout",
          "output_type": "stream",
          "text": [
            "No Skill: ROC AUC=0.500\n",
            "Logistic: ROC AUC=0.903\n"
          ]
        },
        {
          "data": {
            "image/png": "[encoded data removed]",
            "text/plain": [
              "<Figure size 432x288 with 1 Axes>"
            ]
          },
          "metadata": {
            "needs_background": "light"
          },
          "output_type": "display_data"
        }
      ],
      "source": [
        "# roc curve and auc\n",
        "from sklearn.datasets import make_classification\n",
        "from sklearn.linear_model import LogisticRegression\n",
        "from sklearn.model_selection import train_test_split\n",
        "from sklearn.metrics import roc_curve\n",
        "from sklearn.metrics import roc_auc_score\n",
        "import matplotlib.pyplot as plt\n",
        "\n",
        "# generate 2 class dataset\n",
        "X, y = make_classification(n_samples=1000, n_classes=2, random_state=1)\n",
        "\n",
        "# split into train/test sets\n",
        "trainX, testX, trainy, testy = train_test_split(X, y, test_size=0.5, random_state=2)\n",
        "\n",
        "# generate a no skill prediction (majority class)\n",
        "ns_probs = [0 for _ in range(len(testy))]\n",
        "\n",
        "# fit a model\n",
        "model = LogisticRegression(solver='lbfgs')\n",
        "model.fit(trainX, trainy)\n",
        "\n",
        "# predict probabilities\n",
        "lr_probs = model.predict_proba(testX)\n",
        "\n",
        "# keep probabilities for the positive outcome only\n",
        "lr_probs = lr_probs[:, 1]\n",
        "\n",
        "# calculate scores\n",
        "ns_auc = roc_auc_score(testy, ns_probs)\n",
        "lr_auc = roc_auc_score(testy, lr_probs)\n",
        "\n",
        "# summarize scores\n",
        "print('No Skill: ROC AUC=%.3f' % (ns_auc))\n",
        "print('Logistic: ROC AUC=%.3f' % (lr_auc))\n",
        "\n",
        "# calculate roc curves\n",
        "ns_fpr, ns_tpr, _ = roc_curve(testy, ns_probs)\n",
        "lr_fpr, lr_tpr, _ = roc_curve(testy, lr_probs)\n",
        "\n",
        "# plot the roc curve for the model\n",
        "plt.plot(ns_fpr, ns_tpr, linestyle='--', label='No Skill')\n",
        "plt.plot(lr_fpr, lr_tpr, marker='.', label='Logistic')\n",
        "\n",
        "# axis labels\n",
        "plt.xlabel('False Positive Rate')\n",
        "plt.ylabel('True Positive Rate')\n",
        "\n",
        "# show the legend\n",
        "plt.legend()\n",
        "\n",
        "# show the plot\n",
        "plt.show()"
      ]
    },
    {
      "cell_type": "markdown",
      "metadata": {
        "id": "gHycZ-S0JBpz"
      },
      "source": [
        "# **Model Selection and Hyperparameter Tuning**\n",
        "\n",
        "memilih model yang bagus dan membuat model yang bagus dengan men-tuning hyperparameter nya.\n"
      ]
    },
    {
      "cell_type": "code",
      "execution_count": 49,
      "metadata": {
        "colab": {
          "base_uri": "https://localhost:8080/",
          "height": 203
        },
        "id": "zuvAvdEhJzX0",
        "outputId": "8275c40e-2b6e-4d86-d213-5fbcce579de7"
      },
      "outputs": [
        {
          "data": {
            "text/html": [
              "<div>\n",
              "<style scoped>\n",
              "    .dataframe tbody tr th:only-of-type {\n",
              "        vertical-align: middle;\n",
              "    }\n",
              "\n",
              "    .dataframe tbody tr th {\n",
              "        vertical-align: top;\n",
              "    }\n",
              "\n",
              "    .dataframe thead th {\n",
              "        text-align: right;\n",
              "    }\n",
              "</style>\n",
              "<table border=\"1\" class=\"dataframe\">\n",
              "  <thead>\n",
              "    <tr style=\"text-align: right;\">\n",
              "      <th></th>\n",
              "      <th>preg</th>\n",
              "      <th>plas</th>\n",
              "      <th>pres</th>\n",
              "      <th>skin</th>\n",
              "      <th>test</th>\n",
              "      <th>mass</th>\n",
              "      <th>pedi</th>\n",
              "      <th>age</th>\n",
              "      <th>class</th>\n",
              "    </tr>\n",
              "  </thead>\n",
              "  <tbody>\n",
              "    <tr>\n",
              "      <th>0</th>\n",
              "      <td>6</td>\n",
              "      <td>148</td>\n",
              "      <td>72</td>\n",
              "      <td>35</td>\n",
              "      <td>0</td>\n",
              "      <td>33.6</td>\n",
              "      <td>0.627</td>\n",
              "      <td>50</td>\n",
              "      <td>1</td>\n",
              "    </tr>\n",
              "    <tr>\n",
              "      <th>1</th>\n",
              "      <td>1</td>\n",
              "      <td>85</td>\n",
              "      <td>66</td>\n",
              "      <td>29</td>\n",
              "      <td>0</td>\n",
              "      <td>26.6</td>\n",
              "      <td>0.351</td>\n",
              "      <td>31</td>\n",
              "      <td>0</td>\n",
              "    </tr>\n",
              "    <tr>\n",
              "      <th>2</th>\n",
              "      <td>8</td>\n",
              "      <td>183</td>\n",
              "      <td>64</td>\n",
              "      <td>0</td>\n",
              "      <td>0</td>\n",
              "      <td>23.3</td>\n",
              "      <td>0.672</td>\n",
              "      <td>32</td>\n",
              "      <td>1</td>\n",
              "    </tr>\n",
              "    <tr>\n",
              "      <th>3</th>\n",
              "      <td>1</td>\n",
              "      <td>89</td>\n",
              "      <td>66</td>\n",
              "      <td>23</td>\n",
              "      <td>94</td>\n",
              "      <td>28.1</td>\n",
              "      <td>0.167</td>\n",
              "      <td>21</td>\n",
              "      <td>0</td>\n",
              "    </tr>\n",
              "    <tr>\n",
              "      <th>4</th>\n",
              "      <td>0</td>\n",
              "      <td>137</td>\n",
              "      <td>40</td>\n",
              "      <td>35</td>\n",
              "      <td>168</td>\n",
              "      <td>43.1</td>\n",
              "      <td>2.288</td>\n",
              "      <td>33</td>\n",
              "      <td>1</td>\n",
              "    </tr>\n",
              "  </tbody>\n",
              "</table>\n",
              "</div>"
            ],
            "text/plain": [
              "   preg  plas  pres  skin  test  mass   pedi  age  class\n",
              "0     6   148    72    35     0  33.6  0.627   50      1\n",
              "1     1    85    66    29     0  26.6  0.351   31      0\n",
              "2     8   183    64     0     0  23.3  0.672   32      1\n",
              "3     1    89    66    23    94  28.1  0.167   21      0\n",
              "4     0   137    40    35   168  43.1  2.288   33      1"
            ]
          },
          "execution_count": 49,
          "metadata": {},
          "output_type": "execute_result"
        }
      ],
      "source": [
        "import pandas as pd\n",
        "import numpy as np\n",
        "\n",
        "colnames = ['preg', 'plas', 'pres', 'skin', 'test', 'mass', 'pedi', 'age', 'class']\n",
        "# df = pd.read_csv('pima-indians-diabetes.csv', names=colnames)\n",
        "df = pd.read_csv('https://drive.google.com/uc?id=1HtA3MOLvgDogWvqLjv6ZBpf3oONL4WLW', names=colnames)\n",
        "\n",
        "df.head()"
      ]
    },
    {
      "cell_type": "code",
      "execution_count": 50,
      "metadata": {
        "id": "2qIle5OjJzX4"
      },
      "outputs": [],
      "source": [
        "from sklearn.linear_model import LogisticRegression\n",
        "from sklearn.model_selection import GridSearchCV\n",
        "from sklearn.model_selection import train_test_split\n",
        "from sklearn.preprocessing import scale\n",
        "\n",
        "X = df.drop('class', axis=1)\n",
        "Xs = scale(X)\n",
        "y = df['class']\n",
        "\n",
        "X_train, X_test, y_train, y_test = train_test_split(Xs, y, test_size=0.2, random_state=21, stratify=y)\n",
        "\n",
        "model_lr = LogisticRegression(random_state=21)\n",
        "params_grid = {\n",
        "    'C':np.arange(0.1, 1, 0.1), 'class_weight':[{0:x, 1:1-x} for x in np.arange(0.1, 0.9, 0.1)]\n",
        "}\n",
        "\n",
        "gscv = GridSearchCV(model_lr, params_grid, cv=10, scoring='f1')\n",
        "gscv.fit(X_train, y_train);"
      ]
    },
    {
      "cell_type": "markdown",
      "metadata": {
        "id": "g7JJ7zUjJ8eD"
      },
      "source": [
        "Gunanya Train Score dan Test Score"
      ]
    },
    {
      "cell_type": "code",
      "execution_count": 51,
      "metadata": {
        "id": "oWLX2unOJ3f3"
      },
      "outputs": [],
      "source": [
        "y_pred_train = gscv.predict(X_train)\n",
        "y_pred_test = gscv.predict(X_test)"
      ]
    },
    {
      "cell_type": "code",
      "execution_count": 52,
      "metadata": {
        "colab": {
          "base_uri": "https://localhost:8080/"
        },
        "id": "gMRBuN0oKLBw",
        "outputId": "91dca1ca-1b55-4d14-a6cb-6d727ebc9b5e"
      },
      "outputs": [
        {
          "name": "stdout",
          "output_type": "stream",
          "text": [
            "Training Score : 0.750814332247557\n",
            "Test Score : 0.7402597402597403\n"
          ]
        }
      ],
      "source": [
        "from sklearn.metrics import accuracy_score\n",
        "print('Training Score : {}'.format(accuracy_score(y_train, y_pred_train)))\n",
        "print('Test Score : {}'.format(accuracy_score(y_test, y_pred_test)))"
      ]
    },
    {
      "cell_type": "markdown",
      "metadata": {
        "id": "nOWjO_ThKkuY"
      },
      "source": [
        "Training Score -> Untuk menilai seberapa baik si model belajar dari data training\n",
        "\n",
        "Test Score -> Untuk menilai seberapa baik si model memprediksi data yang mereka belum buat"
      ]
    },
    {
      "cell_type": "markdown",
      "metadata": {
        "id": "cFPURvsoK2cR"
      },
      "source": [
        "## **Model Selection**\n",
        "\n",
        "### **Error**\n",
        "\n",
        "hanya boleh memilih Error yang kecil.\n",
        "Susah mendapatkan model yang 100% betul akurasinya\n",
        "\n",
        "Error -> reducable -> error yang bisa diminimalisir errornya\n",
        "\n",
        "Error -> irreducable -> tidak bisa diminimalisir errornya, selalu ada error\n",
        "\n",
        "............\n",
        "\n",
        "* Irreducible Error\n",
        "\n",
        "    Errors that cannot be reduced no matter what algorithm you apply is called an irreducible error. It is usually caused by unknown variables that may be having an influence on the output variable.\n",
        "\n",
        "* Reducible Error has two components — bias and variance.\n",
        "\n",
        "    Presence of bias or variance causes overfitting or underfitting of data.\n",
        "\n",
        "..........\n",
        "\n",
        "### **Error Reducable**\n",
        "\n",
        "* Bias\n",
        "\n",
        "    Bias adalah perbedaan antara rata rata hasil prediksi dari model ML yang kita develop dengan data nilai yang sebenarnya. Bias yang tinggi dikarenakan dalam pembangunan model ML, dilakukan terlalu sederhana (oversimplified). Faktor penyebab lain dikarenakan model ML yang di develop terlalu tidak terlalu berinteraksi dengan training data.\n",
        "\n",
        "    Bias adalah seberapa jauh nilai yang diprediksi dari nilai aktual. Jika nilai prediksi rata - rata jauh dari nilai aktual maka biasnya tinggi .\n",
        "    \n",
        "    Bias tinggi menyebabkan algoritma kehilangan hubungan yang relevan antara variabel input dan output. Ketika suatu model memiliki bias yang tinggi maka itu menyiratkan bahwa model itu terlalu sederhana dan tidak menangkap kompleksitas data sehingga kurang sesuai dengan data (underfitting the data) .\n",
        "\n",
        "* Variance\n",
        "\n",
        "    Variance adalah variabel dari prediksi model untuk data tertentu dimana memberikan kita informasi perserbaran data kita. Model yang memiliki variance tinggi sangat memperhatikan hanya pada train data. High variance model, perform baik di train data. Tetapi jika disuguhkan data baru yang belum pernah ditemukan di train data. Model tersebut tidak dapat mengeneralisasikan secara baik dari identifikasi data baru tersebut. Alhasil model memprediksi dengan keliru.\n",
        "\n",
        "    Varians terjadi ketika model berkinerja baik pada dataset terlatih tetapi tidak bekerja dengan baik pada dataset yang tidak dilatih, seperti dataset pengujian atau dataset validasi. Variance memberi tahu kita bagaimana nilai yang diprediksi tersebar dari nilai aktual .\n",
        "\n",
        "    Varians tinggi menyebabkan (overfitting) yang menyiratkan bahwa model algoritma noise acak hadir dalam data pelatihan .\n",
        "\n",
        "    ketika model memiliki varian yang tinggi maka model menjadi sangat fleksibel dan menyesuaikan diri dengan titik data dari set pelatihan. ketika model varians tinggi menemukan titik data berbeda yang belum dipelajari maka tidak dapat membuat prediksi yang benar.\n",
        "\n",
        "![biasvar01.png](https://raw.githubusercontent.com/nurimammasri/Wooky-Machine-Learning/main/Images/biasvar01.png)\n",
        "\n",
        "![biasvar02.png](https://raw.githubusercontent.com/nurimammasri/Wooky-Machine-Learning/main/Images/biasvar02.png)\n",
        "\n",
        "![biasvar03.png](https://raw.githubusercontent.com/nurimammasri/Wooky-Machine-Learning/main/Images/biasvar03.png)\n",
        "\n",
        "![biasvar04.png](https://raw.githubusercontent.com/nurimammasri/Wooky-Machine-Learning/main/Images/biasvar04.png)\n",
        "\n",
        "![biasvar05.png](https://raw.githubusercontent.com/nurimammasri/Wooky-Machine-Learning/main/Images/biasvar05.png)\n",
        "\n",
        "\n",
        "Data yang memiliki Bias yang tinggi dengan variance yang rendah akan menjadi underfitting. Sementara jika dengan bias tinggi dan juga high variance menjadikan prediksi sangat tidak tepat. Jika biasnya rendah dan variancenya tinggi akan menimbulkan overfitting dimana dengan data train, perform baik tapi ketika diberikan data baru, tidak dapat memprediksi. Pastinya yang paling baik jika bias rendah dan variance rendah.\n",
        "\n",
        "Kesimpulan :\n",
        "\n",
        "Error Bias -> memiliki nilai error yang tinggi terhadap data training dan data test\n",
        "\n",
        "Error Variance -> memiliki error yang kecil terhadap data training tapi error besar terhadap data test\n",
        "\n",
        "\n",
        "[source 1](https://medium.com/datadriveninvestor/bias-and-variance-in-machine-learning-51fdd38d1f86)\n",
        "\n",
        "[source 2](https://medium.com/@mp32445/understanding-bias-variance-tradeoff-ca59a22e2a83)\n",
        "\n",
        "[source 3](https://medium.com/ml-cheat-sheet/understanding-the-bias-variance-tradeoff-996f85d4e110)\n",
        "\n",
        "[source 3](https://towardsdatascience.com/understanding-the-bias-variance-tradeoff-165e6942b229#:~:text=There%20is%20a%20tradeoff%20between,mistake%20of%20overfitting%20and%20underfitting.)\n",
        "\n",
        "### **Grafik**\n",
        "\n",
        "![modelcomplexity02.jpg](https://raw.githubusercontent.com/nurimammasri/Wooky-Machine-Learning/main/Images/modelcomplexity02.jpg)\n",
        "\n",
        "![modelcomplexity01.png](https://raw.githubusercontent.com/nurimammasri/Wooky-Machine-Learning/main/Images/modelcomplexity01.png)\n",
        "\n",
        "![biasvariance02.png](https://raw.githubusercontent.com/nurimammasri/Wooky-Machine-Learning/main/Images/biasvariance02.png)\n",
        "\n",
        "![biasvariance04.png](https://raw.githubusercontent.com/nurimammasri/Wooky-Machine-Learning/main/Images/biasvariance04.png)\n",
        "\n",
        "Explore :\n",
        "\n",
        "1. bias error disebabkan karena model yang terlalu simpel\n",
        "2. Variance error disebabkan karena model terlalu komplex\n",
        "3. Error in our model is summation of reducible and irreducible error.\n",
        "    > Error total = Error Bias ^2 + Error Variance + Error Irreducable\n",
        "\n",
        "    > Error Total = Reducible Error + Irreducible Error\n",
        "4. High Bias, menyebabkan Training Error dan Validation Besar score jadi kecil\n",
        "5. High Variance, Error di training kecil sedangkan error di validation besar. berarti training score besar, validation score kecil\n",
        "6. Error Bias -> Kurang dalam fit bvelajar data\n",
        "7. Error Variance -> Bagus untuk data training, sedangkan ketika data baru kurang efektif (validation)\n",
        "\n",
        "High Bias can be identified when we have :\n",
        "\n",
        "* High training error\n",
        "* Validation error or test error is same as training error\n",
        "\n",
        "High Variance can be identified when\n",
        "\n",
        "* Low training error\n",
        "* High validation error ot high test error\n",
        "\n",
        "\n",
        "[source 1](https://towardsdatascience.com/understanding-bias-variance-trade-off-in-3-minutes-c516cb013513)\n",
        "\n",
        "### **Trade-Off Bias and Variance**\n",
        "\n",
        "Cara memilih model yang baik\n",
        "\n",
        "Model yang mempunyai error bias dan variance kecil\n",
        "\n",
        "Nilai Tengah (Trade - Off) Optimal Model Complexity\n",
        "\n",
        "\n",
        "\n",
        "\n",
        "\n",
        "\n",
        "\n",
        "\n",
        "\n"
      ]
    },
    {
      "cell_type": "markdown",
      "metadata": {
        "id": "W_pNgekczQE0"
      },
      "source": [
        "## **Underfitting dan Overfitting**\n",
        "\n",
        "## **Generalisasi**\n",
        "\n",
        "Generalisasi -> kemampuan suatu model dalam memprediksi data yang belum pernah dia lihat setelah model belajar dari data training\n",
        "\n",
        "Contohnya :\n",
        "\n",
        "memiliki 90% -> Data Training -> Belum tentu bagus\n",
        "\n",
        "kita harus coba pada data baru, apakah sama bagus atau lebih kecil\n",
        "\n",
        "jika 89% -> bagus\n",
        "\n",
        "60% dan 60% tidak bagus\n",
        "\n",
        "Dalam data training tidak boleh terlalu fit dengan data, agak dapat lebih baik tergeneralisasi.\n",
        "\n",
        "Data Training :\n",
        "\n",
        "* Sample (Hanya sigunakan sebagai sample)\n",
        "* Noise (suatu error yang dapat disebabkan oleh manusia atau mesin atau tidak complete)\n",
        "* Feature/Validasi (tidak complete)\n",
        "\n",
        "## **Underfitting dan Overfitting**\n",
        "\n",
        "![biasvariance01.png](https://raw.githubusercontent.com/nurimammasri/Wooky-Machine-Learning/main/Images/biasvariance01.png)\n",
        "\n",
        "Overfitting = Suatu keadaan dimana suatu data terlalu belajar terhadap data training terlalu menangkan detail dan noise pada di data training, karena data training hanya data sample. Sehingga kemampuan Generalisasi berkurang. score training bagus, score validation tidak bagus.\n",
        "\n",
        "Underfitting = suatu keadaan dimana model tidak bagus ketika belajar pada data training (fitting). score training dan validation tidak bagus.\n",
        "\n",
        "Jika error rates pada training dataset rendah, dan error rates test dataset tinggi, ini berarti overfitting. Penyebabnya adalah model yang terlalu kompleks.\n",
        "\n",
        "Jika error rates pada training dataset dan test dataset tinggi, ini berarti underfitting, model tidak menangkap trend dengan baik. Penyebabnya model yang terlalu simple.\n",
        "\n",
        "Jika error rates pada training dataset dan test dataset rendah, berarti good fit."
      ]
    },
    {
      "cell_type": "markdown",
      "metadata": {
        "id": "hmBjNFPsJNgW"
      },
      "source": [
        "## **Perbedaan Cross Validate dan Cross Val Score**"
      ]
    },
    {
      "cell_type": "code",
      "execution_count": 53,
      "metadata": {
        "colab": {
          "base_uri": "https://localhost:8080/",
          "height": 203
        },
        "id": "9OCvNuS37JA-",
        "outputId": "bd691cf7-f14d-4c02-e85b-1f2345f322af"
      },
      "outputs": [
        {
          "data": {
            "text/html": [
              "<div>\n",
              "<style scoped>\n",
              "    .dataframe tbody tr th:only-of-type {\n",
              "        vertical-align: middle;\n",
              "    }\n",
              "\n",
              "    .dataframe tbody tr th {\n",
              "        vertical-align: top;\n",
              "    }\n",
              "\n",
              "    .dataframe thead th {\n",
              "        text-align: right;\n",
              "    }\n",
              "</style>\n",
              "<table border=\"1\" class=\"dataframe\">\n",
              "  <thead>\n",
              "    <tr style=\"text-align: right;\">\n",
              "      <th></th>\n",
              "      <th>preg</th>\n",
              "      <th>plas</th>\n",
              "      <th>pres</th>\n",
              "      <th>skin</th>\n",
              "      <th>test</th>\n",
              "      <th>mass</th>\n",
              "      <th>pedi</th>\n",
              "      <th>age</th>\n",
              "      <th>class</th>\n",
              "    </tr>\n",
              "  </thead>\n",
              "  <tbody>\n",
              "    <tr>\n",
              "      <th>0</th>\n",
              "      <td>6</td>\n",
              "      <td>148</td>\n",
              "      <td>72</td>\n",
              "      <td>35</td>\n",
              "      <td>0</td>\n",
              "      <td>33.6</td>\n",
              "      <td>0.627</td>\n",
              "      <td>50</td>\n",
              "      <td>1</td>\n",
              "    </tr>\n",
              "    <tr>\n",
              "      <th>1</th>\n",
              "      <td>1</td>\n",
              "      <td>85</td>\n",
              "      <td>66</td>\n",
              "      <td>29</td>\n",
              "      <td>0</td>\n",
              "      <td>26.6</td>\n",
              "      <td>0.351</td>\n",
              "      <td>31</td>\n",
              "      <td>0</td>\n",
              "    </tr>\n",
              "    <tr>\n",
              "      <th>2</th>\n",
              "      <td>8</td>\n",
              "      <td>183</td>\n",
              "      <td>64</td>\n",
              "      <td>0</td>\n",
              "      <td>0</td>\n",
              "      <td>23.3</td>\n",
              "      <td>0.672</td>\n",
              "      <td>32</td>\n",
              "      <td>1</td>\n",
              "    </tr>\n",
              "    <tr>\n",
              "      <th>3</th>\n",
              "      <td>1</td>\n",
              "      <td>89</td>\n",
              "      <td>66</td>\n",
              "      <td>23</td>\n",
              "      <td>94</td>\n",
              "      <td>28.1</td>\n",
              "      <td>0.167</td>\n",
              "      <td>21</td>\n",
              "      <td>0</td>\n",
              "    </tr>\n",
              "    <tr>\n",
              "      <th>4</th>\n",
              "      <td>0</td>\n",
              "      <td>137</td>\n",
              "      <td>40</td>\n",
              "      <td>35</td>\n",
              "      <td>168</td>\n",
              "      <td>43.1</td>\n",
              "      <td>2.288</td>\n",
              "      <td>33</td>\n",
              "      <td>1</td>\n",
              "    </tr>\n",
              "  </tbody>\n",
              "</table>\n",
              "</div>"
            ],
            "text/plain": [
              "   preg  plas  pres  skin  test  mass   pedi  age  class\n",
              "0     6   148    72    35     0  33.6  0.627   50      1\n",
              "1     1    85    66    29     0  26.6  0.351   31      0\n",
              "2     8   183    64     0     0  23.3  0.672   32      1\n",
              "3     1    89    66    23    94  28.1  0.167   21      0\n",
              "4     0   137    40    35   168  43.1  2.288   33      1"
            ]
          },
          "execution_count": 53,
          "metadata": {},
          "output_type": "execute_result"
        }
      ],
      "source": [
        "import pandas as pd\n",
        "import numpy as np\n",
        "\n",
        "colnames = ['preg', 'plas', 'pres', 'skin', 'test', 'mass', 'pedi', 'age', 'class']\n",
        "# df = pd.read_csv('pima-indians-diabetes.csv', names=colnames)\n",
        "df = pd.read_csv('https://drive.google.com/uc?id=1HtA3MOLvgDogWvqLjv6ZBpf3oONL4WLW', names=colnames)\n",
        "\n",
        "df.head()"
      ]
    },
    {
      "cell_type": "code",
      "execution_count": 54,
      "metadata": {
        "colab": {
          "base_uri": "https://localhost:8080/"
        },
        "id": "YbLioHPEGpe2",
        "outputId": "05fab769-cf34-4358-9aba-dc282655761b"
      },
      "outputs": [
        {
          "data": {
            "text/plain": [
              "{'fit_time': array([0.00317359, 0.00236988, 0.00234962, 0.00240707, 0.00247502,\n",
              "        0.00236893, 0.00239611, 0.00245643, 0.00247598, 0.00238872]),\n",
              " 'score_time': array([0.00480604, 0.00432277, 0.00412869, 0.0044415 , 0.00419331,\n",
              "        0.00410318, 0.00420952, 0.00426722, 0.00416255, 0.00412941]),\n",
              " 'test_score': array([0.67532468, 0.79220779, 0.71428571, 0.67532468, 0.66233766,\n",
              "        0.74025974, 0.7012987 , 0.79220779, 0.71052632, 0.75      ]),\n",
              " 'train_score': array([0.80173661, 0.78437048, 0.79884226, 0.8089725 , 0.80318379,\n",
              "        0.80607815, 0.79884226, 0.7959479 , 0.80057803, 0.79768786])}"
            ]
          },
          "execution_count": 54,
          "metadata": {},
          "output_type": "execute_result"
        }
      ],
      "source": [
        "from sklearn.neighbors import KNeighborsClassifier\n",
        "from sklearn.model_selection import cross_validate, cross_val_score\n",
        "\n",
        "X = df.drop('class', axis=1)\n",
        "y = df['class']\n",
        "\n",
        "model = KNeighborsClassifier(n_neighbors=5)\n",
        "cv_score1 = cross_validate(model, X, y, cv=10, return_train_score=True)\n",
        "cv_score2 = cross_val_score(model, X, y, cv=10)\n",
        "cv_score1 # cross validate lebih lengkap"
      ]
    },
    {
      "cell_type": "code",
      "execution_count": 55,
      "metadata": {
        "colab": {
          "base_uri": "https://localhost:8080/"
        },
        "id": "PngKzHvTJKsi",
        "outputId": "3fc80585-0783-4c75-bfec-76feeaf0ef12"
      },
      "outputs": [
        {
          "data": {
            "text/plain": [
              "array([0.67532468, 0.79220779, 0.71428571, 0.67532468, 0.66233766,\n",
              "       0.74025974, 0.7012987 , 0.79220779, 0.71052632, 0.75      ])"
            ]
          },
          "execution_count": 55,
          "metadata": {},
          "output_type": "execute_result"
        }
      ],
      "source": [
        "cv_score2 # cross val score"
      ]
    },
    {
      "cell_type": "code",
      "execution_count": 56,
      "metadata": {
        "colab": {
          "base_uri": "https://localhost:8080/"
        },
        "id": "E6ZHn7FPJerz",
        "outputId": "d9dd4341-89ba-4d51-9108-1b97dde86b7d"
      },
      "outputs": [
        {
          "data": {
            "text/plain": [
              "0.7213773069036227"
            ]
          },
          "execution_count": 56,
          "metadata": {},
          "output_type": "execute_result"
        }
      ],
      "source": [
        "cv_score1['test_score'].mean()"
      ]
    },
    {
      "cell_type": "code",
      "execution_count": 57,
      "metadata": {
        "colab": {
          "base_uri": "https://localhost:8080/"
        },
        "id": "vzulqbPCJl2Q",
        "outputId": "e4117505-910d-43e7-af51-dc78040d5231"
      },
      "outputs": [
        {
          "data": {
            "text/plain": [
              "0.7213773069036227"
            ]
          },
          "execution_count": 57,
          "metadata": {},
          "output_type": "execute_result"
        }
      ],
      "source": [
        "cv_score2.mean()"
      ]
    },
    {
      "cell_type": "markdown",
      "metadata": {
        "id": "RawGVd4zJpAk"
      },
      "source": [
        "nilainya sama test score, untuk membuktikan"
      ]
    },
    {
      "cell_type": "markdown",
      "metadata": {
        "id": "GNblpJIdJ79e"
      },
      "source": [
        "## **Hyperparameter Tuning Manual**"
      ]
    },
    {
      "cell_type": "code",
      "execution_count": 58,
      "metadata": {
        "colab": {
          "base_uri": "https://localhost:8080/",
          "height": 203
        },
        "id": "bJlHf09sKGEH",
        "outputId": "01464fca-7ef6-4169-f9eb-7e1dd8b60562"
      },
      "outputs": [
        {
          "data": {
            "text/html": [
              "<div>\n",
              "<style scoped>\n",
              "    .dataframe tbody tr th:only-of-type {\n",
              "        vertical-align: middle;\n",
              "    }\n",
              "\n",
              "    .dataframe tbody tr th {\n",
              "        vertical-align: top;\n",
              "    }\n",
              "\n",
              "    .dataframe thead th {\n",
              "        text-align: right;\n",
              "    }\n",
              "</style>\n",
              "<table border=\"1\" class=\"dataframe\">\n",
              "  <thead>\n",
              "    <tr style=\"text-align: right;\">\n",
              "      <th></th>\n",
              "      <th>preg</th>\n",
              "      <th>plas</th>\n",
              "      <th>pres</th>\n",
              "      <th>skin</th>\n",
              "      <th>test</th>\n",
              "      <th>mass</th>\n",
              "      <th>pedi</th>\n",
              "      <th>age</th>\n",
              "      <th>class</th>\n",
              "    </tr>\n",
              "  </thead>\n",
              "  <tbody>\n",
              "    <tr>\n",
              "      <th>0</th>\n",
              "      <td>6</td>\n",
              "      <td>148</td>\n",
              "      <td>72</td>\n",
              "      <td>35</td>\n",
              "      <td>0</td>\n",
              "      <td>33.6</td>\n",
              "      <td>0.627</td>\n",
              "      <td>50</td>\n",
              "      <td>1</td>\n",
              "    </tr>\n",
              "    <tr>\n",
              "      <th>1</th>\n",
              "      <td>1</td>\n",
              "      <td>85</td>\n",
              "      <td>66</td>\n",
              "      <td>29</td>\n",
              "      <td>0</td>\n",
              "      <td>26.6</td>\n",
              "      <td>0.351</td>\n",
              "      <td>31</td>\n",
              "      <td>0</td>\n",
              "    </tr>\n",
              "    <tr>\n",
              "      <th>2</th>\n",
              "      <td>8</td>\n",
              "      <td>183</td>\n",
              "      <td>64</td>\n",
              "      <td>0</td>\n",
              "      <td>0</td>\n",
              "      <td>23.3</td>\n",
              "      <td>0.672</td>\n",
              "      <td>32</td>\n",
              "      <td>1</td>\n",
              "    </tr>\n",
              "    <tr>\n",
              "      <th>3</th>\n",
              "      <td>1</td>\n",
              "      <td>89</td>\n",
              "      <td>66</td>\n",
              "      <td>23</td>\n",
              "      <td>94</td>\n",
              "      <td>28.1</td>\n",
              "      <td>0.167</td>\n",
              "      <td>21</td>\n",
              "      <td>0</td>\n",
              "    </tr>\n",
              "    <tr>\n",
              "      <th>4</th>\n",
              "      <td>0</td>\n",
              "      <td>137</td>\n",
              "      <td>40</td>\n",
              "      <td>35</td>\n",
              "      <td>168</td>\n",
              "      <td>43.1</td>\n",
              "      <td>2.288</td>\n",
              "      <td>33</td>\n",
              "      <td>1</td>\n",
              "    </tr>\n",
              "  </tbody>\n",
              "</table>\n",
              "</div>"
            ],
            "text/plain": [
              "   preg  plas  pres  skin  test  mass   pedi  age  class\n",
              "0     6   148    72    35     0  33.6  0.627   50      1\n",
              "1     1    85    66    29     0  26.6  0.351   31      0\n",
              "2     8   183    64     0     0  23.3  0.672   32      1\n",
              "3     1    89    66    23    94  28.1  0.167   21      0\n",
              "4     0   137    40    35   168  43.1  2.288   33      1"
            ]
          },
          "execution_count": 58,
          "metadata": {},
          "output_type": "execute_result"
        }
      ],
      "source": [
        "import pandas as pd\n",
        "import numpy as np\n",
        "\n",
        "colnames = ['preg', 'plas', 'pres', 'skin', 'test', 'mass', 'pedi', 'age', 'class']\n",
        "# df = pd.read_csv('pima-indians-diabetes.csv', names=colnames)\n",
        "# df = pd.read_csv('https://drive.google.com/uc?id=1HtA3MOLvgDogWvqLjv6ZBpf3oONL4WLW', names=colnames)\n",
        "\n",
        "df = pd.read_csv('https://raw.githubusercontent.com/nurimammasri/Wooky-Machine-Learning/main/Data/pima-indians-diabetes.csv', names=colnames)\n",
        "df.head()"
      ]
    },
    {
      "cell_type": "code",
      "execution_count": 59,
      "metadata": {
        "colab": {
          "base_uri": "https://localhost:8080/"
        },
        "id": "Wv4ulId_J7Vh",
        "outputId": "b7aa5f7a-d79a-4ca6-ab26-76d7b1c0866f"
      },
      "outputs": [
        {
          "data": {
            "text/plain": [
              "{'fit_time': array([0.00233436, 0.00247979, 0.00237393, 0.00238228, 0.00253558,\n",
              "        0.0023818 , 0.00237417, 0.00233817, 0.00238419, 0.00240541]),\n",
              " 'score_time': array([0.00424433, 0.00460052, 0.00450087, 0.00418687, 0.00459862,\n",
              "        0.00410938, 0.00483584, 0.00416541, 0.00412965, 0.00413489]),\n",
              " 'test_score': array([0.67532468, 0.79220779, 0.71428571, 0.67532468, 0.66233766,\n",
              "        0.74025974, 0.7012987 , 0.79220779, 0.71052632, 0.75      ]),\n",
              " 'train_score': array([0.80173661, 0.78437048, 0.79884226, 0.8089725 , 0.80318379,\n",
              "        0.80607815, 0.79884226, 0.7959479 , 0.80057803, 0.79768786])}"
            ]
          },
          "execution_count": 59,
          "metadata": {},
          "output_type": "execute_result"
        }
      ],
      "source": [
        "from sklearn.neighbors import KNeighborsClassifier\n",
        "from sklearn.model_selection import cross_validate, cross_val_score\n",
        "\n",
        "X = df.drop('class', axis=1)\n",
        "y = df['class']\n",
        "\n",
        "model = KNeighborsClassifier(n_neighbors=5)\n",
        "cv_score1 = cross_validate(model, X, y, cv=10, return_train_score=True)\n",
        "cv_score2 = cross_val_score(model, X, y, cv=10)\n",
        "cv_score1 # cross validate lebih lengkap"
      ]
    },
    {
      "cell_type": "code",
      "execution_count": 60,
      "metadata": {
        "id": "LWuKRUl2KJTO"
      },
      "outputs": [],
      "source": [
        "def knn_predict(k):\n",
        "  model = KNeighborsClassifier(n_neighbors=k)\n",
        "  score = cross_validate(model, X, y, cv=10, return_train_score=True)\n",
        "  train_score = score['train_score'].mean()\n",
        "  test_score = score['test_score'].mean()\n",
        "  return train_score, test_score\n",
        "\n",
        "train_scores = []\n",
        "test_scores = []\n",
        "\n",
        "for k in range (2, 100):\n",
        "  train_score, test_score = knn_predict(k)\n",
        "  train_scores.append(train_score)\n",
        "  test_scores.append(test_score)"
      ]
    },
    {
      "cell_type": "code",
      "execution_count": 61,
      "metadata": {
        "colab": {
          "base_uri": "https://localhost:8080/",
          "height": 393
        },
        "id": "9vGdQsd5LmaY",
        "outputId": "88a81ca2-0b2d-40ef-b115-73be8681de10"
      },
      "outputs": [
        {
          "data": {
            "image/png": "[encoded data removed]",
            "text/plain": [
              "<Figure size 1008x576 with 1 Axes>"
            ]
          },
          "metadata": {
            "needs_background": "light"
          },
          "output_type": "display_data"
        }
      ],
      "source": [
        "import matplotlib.pyplot as plt\n",
        "\n",
        "fig, ax = plt.subplots(figsize=(14, 8))\n",
        "\n",
        "ax.plot(range(2, 100), train_scores, marker ='x', color='b', label='Train Scores')\n",
        "ax.plot(range(2, 100), test_scores, marker='o', color='g', label='Test Scores')\n",
        "ax.set_xlabel('Nilai k')\n",
        "ax.set_ylabel('Scores')\n",
        "\n",
        "fig.legend()\n",
        "plt.show()"
      ]
    },
    {
      "cell_type": "markdown",
      "metadata": {
        "id": "4WmEVfdFM23_"
      },
      "source": [
        "untuk mencari nilai k yg tepat kita mencari nilai score training dan test yang tinggi. Dilihat pada awal kurva training tinggi namun test kecil ini disebut overfitting. sedangkan untuk bagian kurva paling akhir (paling kanan) score untuk training dan validate (test) sama2 kecil sehingga ini disebut underfitting. Maka kita pilih bagian yang paling cocok untuk k +-72."
      ]
    },
    {
      "cell_type": "markdown",
      "metadata": {
        "id": "9VmQXlFYN9QQ"
      },
      "source": [
        "## **Hyperparameter Tuning dengan GridSearchCV dan RandomizedSearchCV**\n",
        "\n",
        "**Underfitting** dan **overfitting** dapat diselesaikan dengan cara mengatur hyperparameter dari model.\n",
        "\n",
        "Cara termudah untuk melakukan tuning pada parameter adalah dengan trial dan error, namun parameter pada sebuah model cukup banyak, dan bisa angka berapa saja.\n",
        "\n",
        "Jika harus melakukan brute force satu persatu, cukup sulit dan memakan waktu. Untungnya scikit-learn menyediakan kemudahan untuk mengotomasi proses trial error ini.\n",
        "\n",
        "Berikut code python yang sudah dimodifikasi agar kita dapat melakukan trial and error hyperparameter pada model."
      ]
    },
    {
      "cell_type": "markdown",
      "metadata": {
        "id": "1aNExH89OJX7"
      },
      "source": [
        "### **GridSearchCV**\n",
        "\n",
        "Catatan\n",
        "\n",
        "> Melakukan GridSearchCV ini akan memakan waktu dan resouce cukup besar, karena melakukan testing terhadap list parameter yang diberikan.\n",
        "\n",
        "> Kelebihan dari GridSearchCV ini, secara otomatis akan melakukan data slicing dari training dataset kita, jadi model belum melihat real training dataset.\n",
        "\n",
        "> Setelah selesai, parameter yang terbaik dapat kita gunakan untuk membuat model, dan melakukan training dengan training dataset.\n",
        "\n",
        "[source documentation](https://scikit-learn.org/stable/modules/generated/sklearn.model_selection.GridSearchCV.html)\n",
        "\n",
        "[source](https://belajardatascience.blogspot.com/2018/05/overfitting-dan-underfitting-pada-model.html)"
      ]
    },
    {
      "cell_type": "code",
      "execution_count": 62,
      "metadata": {
        "colab": {
          "base_uri": "https://localhost:8080/",
          "height": 203
        },
        "id": "64z7NVP1FDbO",
        "outputId": "f7c0b662-4a24-4976-cf31-ddf99d048948"
      },
      "outputs": [
        {
          "data": {
            "text/html": [
              "<div>\n",
              "<style scoped>\n",
              "    .dataframe tbody tr th:only-of-type {\n",
              "        vertical-align: middle;\n",
              "    }\n",
              "\n",
              "    .dataframe tbody tr th {\n",
              "        vertical-align: top;\n",
              "    }\n",
              "\n",
              "    .dataframe thead th {\n",
              "        text-align: right;\n",
              "    }\n",
              "</style>\n",
              "<table border=\"1\" class=\"dataframe\">\n",
              "  <thead>\n",
              "    <tr style=\"text-align: right;\">\n",
              "      <th></th>\n",
              "      <th>preg</th>\n",
              "      <th>plas</th>\n",
              "      <th>pres</th>\n",
              "      <th>skin</th>\n",
              "      <th>test</th>\n",
              "      <th>mass</th>\n",
              "      <th>pedi</th>\n",
              "      <th>age</th>\n",
              "      <th>class</th>\n",
              "    </tr>\n",
              "  </thead>\n",
              "  <tbody>\n",
              "    <tr>\n",
              "      <th>0</th>\n",
              "      <td>6</td>\n",
              "      <td>148</td>\n",
              "      <td>72</td>\n",
              "      <td>35</td>\n",
              "      <td>0</td>\n",
              "      <td>33.6</td>\n",
              "      <td>0.627</td>\n",
              "      <td>50</td>\n",
              "      <td>1</td>\n",
              "    </tr>\n",
              "    <tr>\n",
              "      <th>1</th>\n",
              "      <td>1</td>\n",
              "      <td>85</td>\n",
              "      <td>66</td>\n",
              "      <td>29</td>\n",
              "      <td>0</td>\n",
              "      <td>26.6</td>\n",
              "      <td>0.351</td>\n",
              "      <td>31</td>\n",
              "      <td>0</td>\n",
              "    </tr>\n",
              "    <tr>\n",
              "      <th>2</th>\n",
              "      <td>8</td>\n",
              "      <td>183</td>\n",
              "      <td>64</td>\n",
              "      <td>0</td>\n",
              "      <td>0</td>\n",
              "      <td>23.3</td>\n",
              "      <td>0.672</td>\n",
              "      <td>32</td>\n",
              "      <td>1</td>\n",
              "    </tr>\n",
              "    <tr>\n",
              "      <th>3</th>\n",
              "      <td>1</td>\n",
              "      <td>89</td>\n",
              "      <td>66</td>\n",
              "      <td>23</td>\n",
              "      <td>94</td>\n",
              "      <td>28.1</td>\n",
              "      <td>0.167</td>\n",
              "      <td>21</td>\n",
              "      <td>0</td>\n",
              "    </tr>\n",
              "    <tr>\n",
              "      <th>4</th>\n",
              "      <td>0</td>\n",
              "      <td>137</td>\n",
              "      <td>40</td>\n",
              "      <td>35</td>\n",
              "      <td>168</td>\n",
              "      <td>43.1</td>\n",
              "      <td>2.288</td>\n",
              "      <td>33</td>\n",
              "      <td>1</td>\n",
              "    </tr>\n",
              "  </tbody>\n",
              "</table>\n",
              "</div>"
            ],
            "text/plain": [
              "   preg  plas  pres  skin  test  mass   pedi  age  class\n",
              "0     6   148    72    35     0  33.6  0.627   50      1\n",
              "1     1    85    66    29     0  26.6  0.351   31      0\n",
              "2     8   183    64     0     0  23.3  0.672   32      1\n",
              "3     1    89    66    23    94  28.1  0.167   21      0\n",
              "4     0   137    40    35   168  43.1  2.288   33      1"
            ]
          },
          "execution_count": 62,
          "metadata": {},
          "output_type": "execute_result"
        }
      ],
      "source": [
        "import pandas as pd\n",
        "import numpy as np\n",
        "\n",
        "colnames = ['preg', 'plas', 'pres', 'skin', 'test', 'mass', 'pedi', 'age', 'class']\n",
        "# df = pd.read_csv('pima-indians-diabetes.csv', names=colnames)\n",
        "df = pd.read_csv('https://drive.google.com/uc?id=1HtA3MOLvgDogWvqLjv6ZBpf3oONL4WLW', names=colnames)\n",
        "\n",
        "df.head()"
      ]
    },
    {
      "cell_type": "code",
      "execution_count": 63,
      "metadata": {
        "id": "N-Q1lLpyFDbT"
      },
      "outputs": [],
      "source": [
        "from sklearn.neighbors import KNeighborsClassifier\n",
        "from sklearn.model_selection import cross_validate, cross_val_score\n",
        "\n",
        "X = df.drop('class', axis=1)\n",
        "y = df['class']"
      ]
    },
    {
      "cell_type": "code",
      "execution_count": 64,
      "metadata": {
        "colab": {
          "base_uri": "https://localhost:8080/"
        },
        "id": "2XOsftjxOB9Y",
        "outputId": "46f3fd9a-284d-4b0f-fa4a-65af4a6f5109"
      },
      "outputs": [
        {
          "data": {
            "text/plain": [
              "GridSearchCV(cv=5, error_score=nan,\n",
              "             estimator=KNeighborsClassifier(algorithm='auto', leaf_size=30,\n",
              "                                            metric='minkowski',\n",
              "                                            metric_params=None, n_jobs=None,\n",
              "                                            n_neighbors=5, p=2,\n",
              "                                            weights='uniform'),\n",
              "             iid='deprecated', n_jobs=None,\n",
              "             param_grid={'n_neighbors': array([ 5,  6,  7,  8,  9, 10, 11, 12, 13, 14, 15, 16, 17, 18, 19, 20, 21,\n",
              "       22, 23, 24, 25, 26, 27, 28, 29, 30, 31, 32, 33, 34, 35, 36, 37, 38,\n",
              "       39, 40, 41, 42, 43, 44, 45, 46, 47, 48, 49]),\n",
              "                         'weights': ['distance', 'uniform']},\n",
              "             pre_dispatch='2*n_jobs', refit=True, return_train_score=False,\n",
              "             scoring='accuracy', verbose=0)"
            ]
          },
          "execution_count": 64,
          "metadata": {},
          "output_type": "execute_result"
        }
      ],
      "source": [
        "from sklearn.model_selection import GridSearchCV, RandomizedSearchCV\n",
        "model = KNeighborsClassifier()\n",
        "param_grid = {'n_neighbors':np.arange(5, 50), 'weights':['distance', 'uniform']}\n",
        "gscv = GridSearchCV(model, param_grid=param_grid, scoring='accuracy', cv=5)\n",
        "gscv.fit(X, y)"
      ]
    },
    {
      "cell_type": "code",
      "execution_count": 65,
      "metadata": {
        "colab": {
          "base_uri": "https://localhost:8080/"
        },
        "id": "MNRGdjH7Q27H",
        "outputId": "11b96beb-cd6e-407a-aff8-696c2aaefc1c"
      },
      "outputs": [
        {
          "data": {
            "text/plain": [
              "{'n_neighbors': 43, 'weights': 'distance'}"
            ]
          },
          "execution_count": 65,
          "metadata": {},
          "output_type": "execute_result"
        }
      ],
      "source": [
        "gscv.best_params_ # fungsi akan memilihkan yang mana terbaik"
      ]
    },
    {
      "cell_type": "code",
      "execution_count": 66,
      "metadata": {
        "colab": {
          "base_uri": "https://localhost:8080/"
        },
        "id": "4qwibsfZQ-xd",
        "outputId": "747ec40b-9ba1-49d9-ef2a-f925fc225f3d"
      },
      "outputs": [
        {
          "data": {
            "text/plain": [
              "0.7591630591630592"
            ]
          },
          "execution_count": 66,
          "metadata": {},
          "output_type": "execute_result"
        }
      ],
      "source": [
        "gscv.best_score_"
      ]
    },
    {
      "cell_type": "markdown",
      "metadata": {
        "id": "cSBNa7RwREIC"
      },
      "source": [
        "### **RandomizedSearchCV**\n",
        "\n",
        "[source documentation](https://scikit-learn.org/stable/modules/generated/sklearn.model_selection.RandomizedSearchCV.html)\n",
        "\n",
        "Mencoba semua hyper paramter yg mungkin\n",
        "Akan Mencoba memilih secara random"
      ]
    },
    {
      "cell_type": "code",
      "execution_count": 67,
      "metadata": {
        "colab": {
          "base_uri": "https://localhost:8080/"
        },
        "id": "SSH01XrXcSqr",
        "outputId": "98184d77-60b5-4724-f2ed-1d42b6193adb"
      },
      "outputs": [
        {
          "data": {
            "text/plain": [
              "RandomizedSearchCV(cv=5, error_score=nan,\n",
              "                   estimator=KNeighborsClassifier(algorithm='auto',\n",
              "                                                  leaf_size=30,\n",
              "                                                  metric='minkowski',\n",
              "                                                  metric_params=None,\n",
              "                                                  n_jobs=None, n_neighbors=5,\n",
              "                                                  p=2, weights='uniform'),\n",
              "                   iid='deprecated', n_iter=20, n_jobs=None,\n",
              "                   param_distributions={'n_neighbors': array([ 5,  6,  7,  8,  9, 10, 11, 12, 13, 14, 15, 16, 17, 18, 19, 20, 21,\n",
              "       22, 23, 24, 25, 26, 27, 28, 29, 30, 31, 32, 33, 34, 35, 36, 37, 38,\n",
              "       39, 40, 41, 42, 43, 44, 45, 46, 47, 48, 49]),\n",
              "                                        'weights': ['distance', 'uniform']},\n",
              "                   pre_dispatch='2*n_jobs', random_state=None, refit=True,\n",
              "                   return_train_score=False, scoring='accuracy', verbose=0)"
            ]
          },
          "execution_count": 67,
          "metadata": {},
          "output_type": "execute_result"
        }
      ],
      "source": [
        "rscv = RandomizedSearchCV(model, param_grid, n_iter=20, scoring='accuracy', cv=5)\n",
        "rscv.fit(X, y)"
      ]
    },
    {
      "cell_type": "code",
      "execution_count": 68,
      "metadata": {
        "colab": {
          "base_uri": "https://localhost:8080/"
        },
        "id": "aVzBY49as09w",
        "outputId": "cfb4e4fa-89a3-4e90-8e43-6bc5a883c32a"
      },
      "outputs": [
        {
          "data": {
            "text/plain": [
              "{'n_neighbors': 13, 'weights': 'uniform'}"
            ]
          },
          "execution_count": 68,
          "metadata": {},
          "output_type": "execute_result"
        }
      ],
      "source": [
        "rscv.best_params_"
      ]
    },
    {
      "cell_type": "code",
      "execution_count": 69,
      "metadata": {
        "colab": {
          "base_uri": "https://localhost:8080/"
        },
        "id": "f1meVXt7s45i",
        "outputId": "ab612343-fbb4-401b-a342-f2e3dab32ffe"
      },
      "outputs": [
        {
          "data": {
            "text/plain": [
              "0.7552584670231729"
            ]
          },
          "execution_count": 69,
          "metadata": {},
          "output_type": "execute_result"
        }
      ],
      "source": [
        "rscv.best_score_"
      ]
    },
    {
      "cell_type": "markdown",
      "metadata": {
        "id": "RW8kUR9zvQ7p"
      },
      "source": [
        "[Evaluasi Model Cross Validation](https://prasetiautamacv.wordpress.com/2018/07/16/bagaimana-mengevaluasi-algoritma-machine-learning/)\n",
        "\n",
        "[link text](https://)\n",
        "\n",
        "[link text](https://)\n",
        "\n",
        "[link text](https://)"
      ]
    },
    {
      "cell_type": "code",
      "execution_count": 70,
      "metadata": {
        "id": "E8lzPbD1EMLk"
      },
      "outputs": [],
      "source": [
        "# import panda as pd\n",
        "# import numpy\n",
        "# from sklearn.model_selection import train_test_split\n",
        "# from sklearn import ensemble\n",
        "\n",
        "# df = pd.read_csv(\"nama_file_data_set.csv\")\n",
        "\n",
        "# del df[\"no_rumah\"]\n",
        "# del df[\"nama_jalan\"]\n",
        "# del df[\"kodepos\"]\n",
        "\n",
        "# features_df = pd.get_dummies(df, columns=['tipe_garasi', 'kota'])\n",
        "\n",
        "# del features_df['harga_jual']\n",
        "\n",
        "# X = features_df.as_matrix()\n",
        "# y = df['harga_jual'].as_matrix()\n",
        "\n",
        "# X_train, X_test, y_train, y_test = train_test_split(X, y, test_size=0.3)\n",
        "\n",
        "# model = ensemble.GradientBoostingRegressor()\n",
        "\n",
        "# param_grid{\n",
        "#     n_estimators: [500, 1000, 3000],\n",
        "#     learning_rate= [0.1, 0.05, 0.02, 0.01],\n",
        "#     max_depth: [4, 6],\n",
        "#     min_sample_leaf: [3, 5, 7, 9, 11],\n",
        "#     max_features: [1.0, 0.3, 0.1],\n",
        "#     loss: ['ls',  'lad', 'hubber']\n",
        "# }\n",
        "\n",
        "# gs_cv = GridSearchCV(model, param_grid, n_jobs=4)\n",
        "# gs_cv.fit(X_train, y_train)\n",
        "\n",
        "# print(gs_cv.best_params_)\n",
        "\n",
        "# mse = mean_absolute_error(y_train, gs_cv.predict(X_train))\n",
        "# print(\"Training Set Mean Absolute Error: %.4f\" % mse)\n",
        "\n",
        "# mse = mean_absolute_error(y_test, gs_cv.predict(X_test))\n",
        "# print(\"Test Set Mean Absolute Error: %.4f\" % mse)"
      ]
    },
    {
      "cell_type": "code",
      "execution_count": 71,
      "metadata": {
        "id": "xpYBX7itIQSw"
      },
      "outputs": [],
      "source": [
        "# https://www.codepolitan.com/menggunakan-gridsearchcv-untuk-mencari-parameter-optimal-pengklasifikasi-scikit-learn\n",
        "# from sklearn.datasets import fetch_20newsgroups\n",
        "# from sklearn.feature_extraction.text import CountVectorizer\n",
        "# from sklearn.feature_extraction.text import TfidfTransformer\n",
        "# from sklearn.linear_model import SGDClassifier\n",
        "# from sklearn.pipeline import Pipeline\n",
        "# from sklearn.grid_search import GridSearchCV\n",
        "\n",
        "# import json\n",
        "# import datetime\n",
        "\n",
        "# # menyiapkan dataset\n",
        "# dataset_train = fetch_20newsgroups(subset='train', shuffle=True, random_state=42)\n",
        "\n",
        "# # mengatur classifier\n",
        "# clf = Pipeline([\n",
        "#         ('vect', CountVectorizer()),\n",
        "#         ('tfidf', TfidfTransformer()),\n",
        "#         ('clf', SGDClassifier())\n",
        "#     ])\n",
        "\n",
        "# params = {\n",
        "#     'vect__max_df': (0.75, 1.0),\n",
        "#     #'vect__max_features': (None, 5000, 10000, 50000),\n",
        "#     # 'vect__ngram_range': ((1, 1), (1, 2)),\n",
        "#     #'tfidf__use_idf': (True, False),\n",
        "#     'tfidf__norm': ('l1', 'l2'),\n",
        "#     'clf__alpha': (0.00001, 0.000001),\n",
        "#     # 'clf__penalty': ('l2', 'elasticnet'),\n",
        "#     #'clf__n_iter': (10, 50, 80),\n",
        "# }\n",
        "\n",
        "# grid = GridSearchCV(\n",
        "#     clf,\n",
        "#     params,\n",
        "#     n_jobs=4,\n",
        "#     cv=10,\n",
        "#     verbose=4,\n",
        "# )\n",
        "\n",
        "# clf = grid.fit(dataset_train.data, dataset_train.target)\n",
        "\n",
        "# print(\"\\nBest estmat\"or:)\n",
        "# print()\n",
        "# print() clf.best_estimator_\n",
        "\n",
        "# print() \"\\nGrid score:\"\n",
        "# print()\n",
        "# for params, mean_score, scores in clf.grid_scores_:\n",
        "#     print() \"%0.3f (+/-%0.03f) for %r\" % (mean_score, scores.std() / 2, params)\n",
        "# print()"
      ]
    },
    {
      "cell_type": "markdown",
      "metadata": {
        "id": "nw8-UVy_dcq7"
      },
      "source": [
        "# **Contoh Lengkap**\n",
        "\n",
        "[source](https://towardsdatascience.com/k-nearest-neighbor-python-2fccc47d2a55)"
      ]
    },
    {
      "cell_type": "code",
      "execution_count": 72,
      "metadata": {
        "colab": {
          "base_uri": "https://localhost:8080/"
        },
        "id": "uyg5Lel1ePR4",
        "outputId": "1984354a-9ef3-4165-fb2b-6b8790888600"
      },
      "outputs": [
        {
          "data": {
            "text/plain": [
              "{'DESCR': '.. _breast_cancer_dataset:\\n\\nBreast cancer wisconsin (diagnostic) dataset\\n--------------------------------------------\\n\\n**Data Set Characteristics:**\\n\\n    :Number of Instances: 569\\n\\n    :Number of Attributes: 30 numeric, predictive attributes and the class\\n\\n    :Attribute Information:\\n        - radius (mean of distances from center to points on the perimeter)\\n        - texture (standard deviation of gray-scale values)\\n        - perimeter\\n        - area\\n        - smoothness (local variation in radius lengths)\\n        - compactness (perimeter^2 / area - 1.0)\\n        - concavity (severity of concave portions of the contour)\\n        - concave points (number of concave portions of the contour)\\n        - symmetry \\n        - fractal dimension (\"coastline approximation\" - 1)\\n\\n        The mean, standard error, and \"worst\" or largest (mean of the three\\n        largest values) of these features were computed for each image,\\n        resulting in 30 features.  For instance, field 3 is Mean Radius, field\\n        13 is Radius SE, field 23 is Worst Radius.\\n\\n        - class:\\n                - WDBC-Malignant\\n                - WDBC-Benign\\n\\n    :Summary Statistics:\\n\\n    ===================================== ====== ======\\n                                           Min    Max\\n    ===================================== ====== ======\\n    radius (mean):                        6.981  28.11\\n    texture (mean):                       9.71   39.28\\n    perimeter (mean):                     43.79  188.5\\n    area (mean):                          143.5  2501.0\\n    smoothness (mean):                    0.053  0.163\\n    compactness (mean):                   0.019  0.345\\n    concavity (mean):                     0.0    0.427\\n    concave points (mean):                0.0    0.201\\n    symmetry (mean):                      0.106  0.304\\n    fractal dimension (mean):             0.05   0.097\\n    radius (standard error):              0.112  2.873\\n    texture (standard error):             0.36   4.885\\n    perimeter (standard error):           0.757  21.98\\n    area (standard error):                6.802  542.2\\n    smoothness (standard error):          0.002  0.031\\n    compactness (standard error):         0.002  0.135\\n    concavity (standard error):           0.0    0.396\\n    concave points (standard error):      0.0    0.053\\n    symmetry (standard error):            0.008  0.079\\n    fractal dimension (standard error):   0.001  0.03\\n    radius (worst):                       7.93   36.04\\n    texture (worst):                      12.02  49.54\\n    perimeter (worst):                    50.41  251.2\\n    area (worst):                         185.2  4254.0\\n    smoothness (worst):                   0.071  0.223\\n    compactness (worst):                  0.027  1.058\\n    concavity (worst):                    0.0    1.252\\n    concave points (worst):               0.0    0.291\\n    symmetry (worst):                     0.156  0.664\\n    fractal dimension (worst):            0.055  0.208\\n    ===================================== ====== ======\\n\\n    :Missing Attribute Values: None\\n\\n    :Class Distribution: 212 - Malignant, 357 - Benign\\n\\n    :Creator:  Dr. William H. Wolberg, W. Nick Street, Olvi L. Mangasarian\\n\\n    :Donor: Nick Street\\n\\n    :Date: November, 1995\\n\\nThis is a copy of UCI ML Breast Cancer Wisconsin (Diagnostic) datasets.\\nhttps://goo.gl/U2Uwz2\\n\\nFeatures are computed from a digitized image of a fine needle\\naspirate (FNA) of a breast mass.  They describe\\ncharacteristics of the cell nuclei present in the image.\\n\\nSeparating plane described above was obtained using\\nMultisurface Method-Tree (MSM-T) [K. P. Bennett, \"Decision Tree\\nConstruction Via Linear Programming.\" Proceedings of the 4th\\nMidwest Artificial Intelligence and Cognitive Science Society,\\npp. 97-101, 1992], a classification method which uses linear\\nprogramming to construct a decision tree.  Relevant features\\nwere selected using an exhaustive search in the space of 1-4\\nfeatures and 1-3 separating planes.\\n\\nThe actual linear program used to obtain the separating plane\\nin the 3-dimensional space is that described in:\\n[K. P. Bennett and O. L. Mangasarian: \"Robust Linear\\nProgramming Discrimination of Two Linearly Inseparable Sets\",\\nOptimization Methods and Software 1, 1992, 23-34].\\n\\nThis database is also available through the UW CS ftp server:\\n\\nftp ftp.cs.wisc.edu\\ncd math-prog/cpo-dataset/machine-learn/WDBC/\\n\\n.. topic:: References\\n\\n   - W.N. Street, W.H. Wolberg and O.L. Mangasarian. Nuclear feature extraction \\n     for breast tumor diagnosis. IS&T/SPIE 1993 International Symposium on \\n     Electronic Imaging: Science and Technology, volume 1905, pages 861-870,\\n     San Jose, CA, 1993.\\n   - O.L. Mangasarian, W.N. Street and W.H. Wolberg. Breast cancer diagnosis and \\n     prognosis via linear programming. Operations Research, 43(4), pages 570-577, \\n     July-August 1995.\\n   - W.H. Wolberg, W.N. Street, and O.L. Mangasarian. Machine learning techniques\\n     to diagnose breast cancer from fine-needle aspirates. Cancer Letters 77 (1994) \\n     163-171.',\n",
              " 'data': array([[1.799e+01, 1.038e+01, 1.228e+02, ..., 2.654e-01, 4.601e-01,\n",
              "         1.189e-01],\n",
              "        [2.057e+01, 1.777e+01, 1.329e+02, ..., 1.860e-01, 2.750e-01,\n",
              "         8.902e-02],\n",
              "        [1.969e+01, 2.125e+01, 1.300e+02, ..., 2.430e-01, 3.613e-01,\n",
              "         8.758e-02],\n",
              "        ...,\n",
              "        [1.660e+01, 2.808e+01, 1.083e+02, ..., 1.418e-01, 2.218e-01,\n",
              "         7.820e-02],\n",
              "        [2.060e+01, 2.933e+01, 1.401e+02, ..., 2.650e-01, 4.087e-01,\n",
              "         1.240e-01],\n",
              "        [7.760e+00, 2.454e+01, 4.792e+01, ..., 0.000e+00, 2.871e-01,\n",
              "         7.039e-02]]),\n",
              " 'feature_names': array(['mean radius', 'mean texture', 'mean perimeter', 'mean area',\n",
              "        'mean smoothness', 'mean compactness', 'mean concavity',\n",
              "        'mean concave points', 'mean symmetry', 'mean fractal dimension',\n",
              "        'radius error', 'texture error', 'perimeter error', 'area error',\n",
              "        'smoothness error', 'compactness error', 'concavity error',\n",
              "        'concave points error', 'symmetry error',\n",
              "        'fractal dimension error', 'worst radius', 'worst texture',\n",
              "        'worst perimeter', 'worst area', 'worst smoothness',\n",
              "        'worst compactness', 'worst concavity', 'worst concave points',\n",
              "        'worst symmetry', 'worst fractal dimension'], dtype='<U23'),\n",
              " 'filename': '/usr/local/lib/python3.7/dist-packages/sklearn/datasets/data/breast_cancer.csv',\n",
              " 'target': array([0, 0, 0, 0, 0, 0, 0, 0, 0, 0, 0, 0, 0, 0, 0, 0, 0, 0, 0, 1, 1, 1,\n",
              "        0, 0, 0, 0, 0, 0, 0, 0, 0, 0, 0, 0, 0, 0, 0, 1, 0, 0, 0, 0, 0, 0,\n",
              "        0, 0, 1, 0, 1, 1, 1, 1, 1, 0, 0, 1, 0, 0, 1, 1, 1, 1, 0, 1, 0, 0,\n",
              "        1, 1, 1, 1, 0, 1, 0, 0, 1, 0, 1, 0, 0, 1, 1, 1, 0, 0, 1, 0, 0, 0,\n",
              "        1, 1, 1, 0, 1, 1, 0, 0, 1, 1, 1, 0, 0, 1, 1, 1, 1, 0, 1, 1, 0, 1,\n",
              "        1, 1, 1, 1, 1, 1, 1, 0, 0, 0, 1, 0, 0, 1, 1, 1, 0, 0, 1, 0, 1, 0,\n",
              "        0, 1, 0, 0, 1, 1, 0, 1, 1, 0, 1, 1, 1, 1, 0, 1, 1, 1, 1, 1, 1, 1,\n",
              "        1, 1, 0, 1, 1, 1, 1, 0, 0, 1, 0, 1, 1, 0, 0, 1, 1, 0, 0, 1, 1, 1,\n",
              "        1, 0, 1, 1, 0, 0, 0, 1, 0, 1, 0, 1, 1, 1, 0, 1, 1, 0, 0, 1, 0, 0,\n",
              "        0, 0, 1, 0, 0, 0, 1, 0, 1, 0, 1, 1, 0, 1, 0, 0, 0, 0, 1, 1, 0, 0,\n",
              "        1, 1, 1, 0, 1, 1, 1, 1, 1, 0, 0, 1, 1, 0, 1, 1, 0, 0, 1, 0, 1, 1,\n",
              "        1, 1, 0, 1, 1, 1, 1, 1, 0, 1, 0, 0, 0, 0, 0, 0, 0, 0, 0, 0, 0, 0,\n",
              "        0, 0, 1, 1, 1, 1, 1, 1, 0, 1, 0, 1, 1, 0, 1, 1, 0, 1, 0, 0, 1, 1,\n",
              "        1, 1, 1, 1, 1, 1, 1, 1, 1, 1, 1, 0, 1, 1, 0, 1, 0, 1, 1, 1, 1, 1,\n",
              "        1, 1, 1, 1, 1, 1, 1, 1, 1, 0, 1, 1, 1, 0, 1, 0, 1, 1, 1, 1, 0, 0,\n",
              "        0, 1, 1, 1, 1, 0, 1, 0, 1, 0, 1, 1, 1, 0, 1, 1, 1, 1, 1, 1, 1, 0,\n",
              "        0, 0, 1, 1, 1, 1, 1, 1, 1, 1, 1, 1, 1, 0, 0, 1, 0, 0, 0, 1, 0, 0,\n",
              "        1, 1, 1, 1, 1, 0, 1, 1, 1, 1, 1, 0, 1, 1, 1, 0, 1, 1, 0, 0, 1, 1,\n",
              "        1, 1, 1, 1, 0, 1, 1, 1, 1, 1, 1, 1, 0, 1, 1, 1, 1, 1, 0, 1, 1, 0,\n",
              "        1, 1, 1, 1, 1, 1, 1, 1, 1, 1, 1, 1, 0, 1, 0, 0, 1, 0, 1, 1, 1, 1,\n",
              "        1, 0, 1, 1, 0, 1, 0, 1, 1, 0, 1, 0, 1, 1, 1, 1, 1, 1, 1, 1, 0, 0,\n",
              "        1, 1, 1, 1, 1, 1, 0, 1, 1, 1, 1, 1, 1, 1, 1, 1, 1, 0, 1, 1, 1, 1,\n",
              "        1, 1, 1, 0, 1, 0, 1, 1, 0, 1, 1, 1, 1, 1, 0, 0, 1, 0, 1, 0, 1, 1,\n",
              "        1, 1, 1, 0, 1, 1, 0, 1, 0, 1, 0, 0, 1, 1, 1, 0, 1, 1, 1, 1, 1, 1,\n",
              "        1, 1, 1, 1, 1, 0, 1, 0, 0, 1, 1, 1, 1, 1, 1, 1, 1, 1, 1, 1, 1, 1,\n",
              "        1, 1, 1, 1, 1, 1, 1, 1, 1, 1, 1, 1, 0, 0, 0, 0, 0, 0, 1]),\n",
              " 'target_names': array(['malignant', 'benign'], dtype='<U9')}"
            ]
          },
          "execution_count": 72,
          "metadata": {},
          "output_type": "execute_result"
        }
      ],
      "source": [
        "import numpy as np\n",
        "import pandas as pd\n",
        "from matplotlib import pyplot as plt\n",
        "from sklearn.datasets import load_breast_cancer\n",
        "from sklearn.metrics import confusion_matrix\n",
        "from sklearn.neighbors import KNeighborsClassifier\n",
        "from sklearn.model_selection import train_test_split\n",
        "import seaborn as sns\n",
        "sns.set()\n",
        "breast_cancer = load_breast_cancer()\n",
        "breast_cancer"
      ]
    },
    {
      "cell_type": "code",
      "execution_count": 73,
      "metadata": {
        "id": "vlQG06VeebmE"
      },
      "outputs": [],
      "source": [
        "X = pd.DataFrame(breast_cancer.data, columns=breast_cancer.feature_names)\n",
        "X = X[['mean area', 'mean compactness']]\n",
        "y = pd.Categorical.from_codes(breast_cancer.target, breast_cancer.target_names)\n",
        "y = pd.get_dummies(y, drop_first=True)"
      ]
    },
    {
      "cell_type": "code",
      "execution_count": 74,
      "metadata": {
        "id": "ygmt76WChFpe"
      },
      "outputs": [],
      "source": [
        "X_train, X_test, y_train, y_test = train_test_split(X, y, random_state=1)"
      ]
    },
    {
      "cell_type": "code",
      "execution_count": 75,
      "metadata": {
        "colab": {
          "base_uri": "https://localhost:8080/"
        },
        "id": "s7ELv54khHbu",
        "outputId": "57aaa1ff-51c3-4fde-d5ab-647afd4ff9d0"
      },
      "outputs": [
        {
          "data": {
            "text/plain": [
              "KNeighborsClassifier(algorithm='auto', leaf_size=30, metric='euclidean',\n",
              "                     metric_params=None, n_jobs=None, n_neighbors=5, p=2,\n",
              "                     weights='uniform')"
            ]
          },
          "execution_count": 75,
          "metadata": {},
          "output_type": "execute_result"
        }
      ],
      "source": [
        "knn = KNeighborsClassifier(n_neighbors=5, metric='euclidean') # metric cara menghitung jaraknya\n",
        "knn.fit(X_train, y_train.values.ravel())\n",
        "# DataConversionWarning: A column-vector y was passed when a 1d array was expected. Please change the shape of y to (n_samples, ), for example using ravel().\n",
        "# when using knn.fit(X_train, y_train) so we must change the conversion"
      ]
    },
    {
      "cell_type": "code",
      "execution_count": 76,
      "metadata": {
        "id": "DHL-bUIchKSP"
      },
      "outputs": [],
      "source": [
        "y_pred = knn.predict(X_test)"
      ]
    },
    {
      "cell_type": "code",
      "execution_count": 77,
      "metadata": {
        "colab": {
          "base_uri": "https://localhost:8080/",
          "height": 302
        },
        "id": "zNorKu0nhOU5",
        "outputId": "bbe7979c-7cde-4868-9518-c24c1fec763c"
      },
      "outputs": [
        {
          "data": {
            "text/plain": [
              "<matplotlib.axes._subplots.AxesSubplot at 0x7f279fafe550>"
            ]
          },
          "execution_count": 77,
          "metadata": {},
          "output_type": "execute_result"
        },
        {
          "data": {
            "image/png": "[encoded data removed]",
            "text/plain": [
              "<Figure size 432x288 with 1 Axes>"
            ]
          },
          "metadata": {},
          "output_type": "display_data"
        }
      ],
      "source": [
        "sns.scatterplot(\n",
        "    x='mean area',\n",
        "    y='mean compactness',\n",
        "    hue='benign',\n",
        "    data=X_test.join(y_test, how='outer')\n",
        ")"
      ]
    },
    {
      "cell_type": "code",
      "execution_count": 78,
      "metadata": {
        "colab": {
          "base_uri": "https://localhost:8080/",
          "height": 286
        },
        "id": "XunDSDAMhW0D",
        "outputId": "2c056d22-46cd-47d3-a743-298f5f9ea5bc"
      },
      "outputs": [
        {
          "data": {
            "text/plain": [
              "<matplotlib.collections.PathCollection at 0x7f279e7da890>"
            ]
          },
          "execution_count": 78,
          "metadata": {},
          "output_type": "execute_result"
        },
        {
          "data": {
            "image/png": "[encoded data removed]",
            "text/plain": [
              "<Figure size 432x288 with 1 Axes>"
            ]
          },
          "metadata": {},
          "output_type": "display_data"
        }
      ],
      "source": [
        "plt.scatter(\n",
        "    X_test['mean area'],\n",
        "    X_test['mean compactness'],\n",
        "    c=y_pred,\n",
        "    cmap='coolwarm',\n",
        "    alpha=0.7\n",
        ")"
      ]
    },
    {
      "cell_type": "markdown",
      "metadata": {
        "id": "TmwlOWO9hgRt"
      },
      "source": [
        "Given our confusion matrix, our model has an accuracy of 121/143 = 84.6%."
      ]
    },
    {
      "cell_type": "code",
      "execution_count": 79,
      "metadata": {
        "colab": {
          "base_uri": "https://localhost:8080/"
        },
        "id": "Z5lJxc5fheMM",
        "outputId": "05811406-02be-4dff-a9c5-72a5094ed45b"
      },
      "outputs": [
        {
          "data": {
            "text/plain": [
              "array([[42, 13],\n",
              "       [ 9, 79]])"
            ]
          },
          "execution_count": 79,
          "metadata": {},
          "output_type": "execute_result"
        }
      ],
      "source": [
        "confusion_matrix(y_test, y_pred)"
      ]
    },
    {
      "cell_type": "code",
      "execution_count": 80,
      "metadata": {
        "colab": {
          "base_uri": "https://localhost:8080/"
        },
        "id": "EXCXGj2llOzI",
        "outputId": "2fb28584-7a2f-4b07-ae3d-62889ad62d96"
      },
      "outputs": [
        {
          "name": "stdout",
          "output_type": "stream",
          "text": [
            "[[42 13]\n",
            " [ 9 79]]\n"
          ]
        }
      ],
      "source": [
        "a = confusion_matrix(y_test, y_pred)\n",
        "print(a)"
      ]
    },
    {
      "cell_type": "markdown",
      "metadata": {
        "id": "ybsad0pEZPSc"
      },
      "source": [
        "Membuat perbandingan plot Accuracy dan Error untuk Hyperparameter Tuning manual:"
      ]
    },
    {
      "cell_type": "code",
      "execution_count": 81,
      "metadata": {
        "colab": {
          "base_uri": "https://localhost:8080/"
        },
        "id": "Ufg-RMuIWk9U",
        "outputId": "6fe36be5-d22d-4d65-df2c-a7b196a12401"
      },
      "outputs": [
        {
          "name": "stdout",
          "output_type": "stream",
          "text": [
            "Akurasi: 84.62 persen\n",
            "Error: 15.38 persen\n",
            "Presisi: 82.35 persen\n"
          ]
        }
      ],
      "source": [
        "acc = (a[0][0]+a[1][1])* 100/(a[0][0]+a[0][1]+a[1][0]+a[1][1])\n",
        "err = (a[0][1]+a[1][0])* 100/(a[0][0]+a[0][1]+a[1][0]+a[1][1])\n",
        "prec = a[0][0]*100/(a[0][0]+a[1][0])\n",
        "print('Akurasi: %.2f persen'%(acc))\n",
        "print('Error: %.2f persen'%(err))\n",
        "print('Presisi: %.2f persen'%(prec))"
      ]
    },
    {
      "cell_type": "code",
      "execution_count": 82,
      "metadata": {
        "id": "wyad2NWYXgWZ"
      },
      "outputs": [],
      "source": [
        "acc = []\n",
        "err = []\n",
        "\n",
        "# Calculating error for K values between 1 and 40\n",
        "for i in range(1, 40):\n",
        "  knn = KNeighborsClassifier(n_neighbors=i)\n",
        "  knn.fit(X_train, y_train.values.ravel())\n",
        "  pred_i = knn.predict(X_test)\n",
        "  a = confusion_matrix(y_test, pred_i)\n",
        "  ac = (a[0][0]+a[1][1])* 100/(a[0][0]+a[0][1]+a[1][0]+a[1][1])\n",
        "  er = (a[0][1]+a[1][0])* 100/(a[0][0]+a[0][1]+a[1][0]+a[1][1])\n",
        "  acc.append(ac)\n",
        "  err.append(er)"
      ]
    },
    {
      "cell_type": "code",
      "execution_count": 83,
      "metadata": {
        "colab": {
          "base_uri": "https://localhost:8080/",
          "height": 385
        },
        "id": "2ozzJ76ZYdG3",
        "outputId": "77853ce1-f3f0-4016-918d-5b952e9498f4"
      },
      "outputs": [
        {
          "data": {
            "text/plain": [
              "Text(0, 0.5, 'Accuracy')"
            ]
          },
          "execution_count": 83,
          "metadata": {},
          "output_type": "execute_result"
        },
        {
          "data": {
            "image/png": "[encoded data removed]",
            "text/plain": [
              "<Figure size 864x432 with 1 Axes>"
            ]
          },
          "metadata": {},
          "output_type": "display_data"
        }
      ],
      "source": [
        "plt.figure(figsize=(12, 6))\n",
        "plt.plot(range(1, 40), acc, color='red', linestyle='dashed', marker='o', markerfacecolor='blue', markersize=10)\n",
        "plt.title('Accuracy Rate K Value')\n",
        "plt.xlabel('K Value')\n",
        "plt.ylabel('Accuracy')"
      ]
    },
    {
      "cell_type": "markdown",
      "metadata": {
        "id": "B-m3UDf1ZdsO"
      },
      "source": [
        "k yang paling accuracy tertinggi berdasarkan Accuracy berjumlah 18 dan 32"
      ]
    },
    {
      "cell_type": "code",
      "execution_count": 84,
      "metadata": {
        "colab": {
          "base_uri": "https://localhost:8080/",
          "height": 385
        },
        "id": "AFsFNHNcY-xe",
        "outputId": "8b5288f0-faeb-4570-f32f-d2d91e587d95"
      },
      "outputs": [
        {
          "data": {
            "text/plain": [
              "Text(0, 0.5, 'Error')"
            ]
          },
          "execution_count": 84,
          "metadata": {},
          "output_type": "execute_result"
        },
        {
          "data": {
            "image/png": "[encoded data removed]",
            "text/plain": [
              "<Figure size 864x432 with 1 Axes>"
            ]
          },
          "metadata": {},
          "output_type": "display_data"
        }
      ],
      "source": [
        "plt.figure(figsize=(12, 6))\n",
        "plt.plot(range(1, 40), err, color='red', linestyle='dashed', marker='o', markerfacecolor='blue', markersize=10)\n",
        "plt.title('Error Rate K Value')\n",
        "plt.xlabel('K Value')\n",
        "plt.ylabel('Error')"
      ]
    },
    {
      "cell_type": "markdown",
      "metadata": {
        "id": "qYDBSKMQZ38H"
      },
      "source": [
        "Kebalikan Accuracy, k yang paling sedikit error berdasarkan Error berjumlah 18 dan 32, sama seperti pada Accuracy."
      ]
    },
    {
      "cell_type": "markdown",
      "metadata": {
        "id": "Kwo2EOpWapOc"
      },
      "source": [
        "Apakah model yang kita pakai adalah yang terbaik ? :"
      ]
    },
    {
      "cell_type": "code",
      "execution_count": 85,
      "metadata": {
        "colab": {
          "base_uri": "https://localhost:8080/"
        },
        "id": "zDPUYN2qa9Im",
        "outputId": "afc25cd5-a3e5-45dc-b165-34a56ffcfa2c"
      },
      "outputs": [
        {
          "data": {
            "text/plain": [
              "{'fit_time': array([0.00260186, 0.00157261, 0.00159359, 0.00165677, 0.00162935,\n",
              "        0.0017066 , 0.00155401, 0.00156069, 0.00154853, 0.00160408]),\n",
              " 'score_time': array([0.00513649, 0.00288081, 0.0043962 , 0.00296116, 0.00304556,\n",
              "        0.0030086 , 0.00286388, 0.00285769, 0.00281835, 0.00283027]),\n",
              " 'test_score': array([0.93023256, 0.88372093, 0.86046512, 0.93023256, 0.81395349,\n",
              "        0.97674419, 0.92857143, 0.9047619 , 0.88095238, 0.80952381]),\n",
              " 'train_score': array([0.88511749, 0.89295039, 0.89033943, 0.88772846, 0.89817232,\n",
              "        0.88772846, 0.89583333, 0.890625  , 0.90104167, 0.90104167])}"
            ]
          },
          "execution_count": 85,
          "metadata": {},
          "output_type": "execute_result"
        }
      ],
      "source": [
        "from sklearn.model_selection import cross_validate, cross_val_score\n",
        "\n",
        "cv_score1 = cross_validate(knn, X_train, y_train.values.ravel(), cv=10, return_train_score=True)\n",
        "cv_score2 = cross_val_score(knn, X_train, y_train.values.ravel(), cv=10)\n",
        "cv_score1 # cross validate lebih lengkap"
      ]
    },
    {
      "cell_type": "code",
      "execution_count": 86,
      "metadata": {
        "colab": {
          "base_uri": "https://localhost:8080/"
        },
        "id": "xFuU-2y8bqZR",
        "outputId": "dac64c0a-c352-43a8-d684-98c9fa442be9"
      },
      "outputs": [
        {
          "data": {
            "text/plain": [
              "array([0.93023256, 0.88372093, 0.86046512, 0.93023256, 0.81395349,\n",
              "       0.97674419, 0.92857143, 0.9047619 , 0.88095238, 0.80952381])"
            ]
          },
          "execution_count": 86,
          "metadata": {},
          "output_type": "execute_result"
        }
      ],
      "source": [
        "cv_score2"
      ]
    },
    {
      "cell_type": "code",
      "execution_count": 87,
      "metadata": {
        "id": "9zuD6FYga9Is"
      },
      "outputs": [],
      "source": [
        "def knn_predict(k):\n",
        "  model = KNeighborsClassifier(n_neighbors=k)\n",
        "  score = cross_validate(model, X_train, y_train.values.ravel(), cv=10, return_train_score=True)\n",
        "  train_score = score['train_score'].mean()\n",
        "  test_score = score['test_score'].mean()\n",
        "  return train_score, test_score\n",
        "\n",
        "train_scores = []\n",
        "test_scores = []\n",
        "\n",
        "for k in range (2, 100):\n",
        "  train_score, test_score = knn_predict(k)\n",
        "  train_scores.append(train_score)\n",
        "  test_scores.append(test_score)"
      ]
    },
    {
      "cell_type": "code",
      "execution_count": 88,
      "metadata": {
        "colab": {
          "base_uri": "https://localhost:8080/",
          "height": 394
        },
        "id": "8K4b5XT8a9Iu",
        "outputId": "4897cbe7-7b1e-4c94-dfac-1e30e0f07671"
      },
      "outputs": [
        {
          "data": {
            "image/png": "[encoded data removed]",
            "text/plain": [
              "<Figure size 1008x576 with 1 Axes>"
            ]
          },
          "metadata": {},
          "output_type": "display_data"
        }
      ],
      "source": [
        "import matplotlib.pyplot as plt\n",
        "\n",
        "fig, ax = plt.subplots(figsize=(14, 8))\n",
        "\n",
        "ax.plot(range(2, 100), train_scores, marker ='x', color='b', label='Train Scores')\n",
        "ax.plot(range(2, 100), test_scores, marker='o', color='g', label='Test Scores')\n",
        "ax.set_xlabel('Nilai k')\n",
        "ax.set_ylabel('Scores')\n",
        "\n",
        "fig.legend()\n",
        "plt.show()"
      ]
    },
    {
      "cell_type": "markdown",
      "metadata": {
        "id": "jij1R-PRc6MT"
      },
      "source": [
        "Insight :\n",
        "\n",
        "Pada nilai k 0-10 -> Error yang terjadi adalah overfitting. "
      ]
    },
    {
      "cell_type": "markdown",
      "metadata": {
        "id": "iOV4LAJlz3lh"
      },
      "source": [
        "Ketika kita ingin mencari fitting data dengan accuracy yang bagus pda model, namun terlalu banyak hyperparameter yang dibutuhkan. sehingga metode Tuning Hyperparameter Manual susah untuk dilakukan. Oleh karena itu ada GridSearchCV dan RandomizedSearchCV."
      ]
    },
    {
      "cell_type": "markdown",
      "metadata": {
        "id": "tbsRjQt25AIs"
      },
      "source": [
        "Dengan GridSearchCV"
      ]
    },
    {
      "cell_type": "code",
      "execution_count": 89,
      "metadata": {
        "colab": {
          "base_uri": "https://localhost:8080/"
        },
        "id": "p7bwnwiwzFee",
        "outputId": "5e7b4231-88ba-4997-d138-4337d7f93d2d"
      },
      "outputs": [
        {
          "data": {
            "text/plain": [
              "GridSearchCV(cv=5, error_score=nan,\n",
              "             estimator=KNeighborsClassifier(algorithm='auto', leaf_size=30,\n",
              "                                            metric='minkowski',\n",
              "                                            metric_params=None, n_jobs=None,\n",
              "                                            n_neighbors=5, p=2,\n",
              "                                            weights='uniform'),\n",
              "             iid='deprecated', n_jobs=None,\n",
              "             param_grid={'metric': ['euclidean', 'manhattan'],\n",
              "                         'n_neighbors': array([ 5,  6,  7,  8,  9, 10, 11, 12, 13, 14, 15, 16, 17, 18, 19, 20, 21,\n",
              "       22, 23, 24, 25, 26, 27, 28, 29, 30, 31, 32, 33, 34, 35, 36, 37, 38,\n",
              "       39, 40, 41, 42, 43, 44, 45, 46, 47, 48, 49, 50, 51, 52, 53, 54, 55,\n",
              "       56, 57, 58, 59, 60, 61, 62, 63, 64, 65, 66, 67, 68, 69, 70, 71, 72,\n",
              "       73, 74, 75, 76, 77, 78, 79, 80, 81, 82, 83, 84, 85, 86, 87, 88, 89,\n",
              "       90, 91, 92, 93, 94, 95, 96, 97, 98, 99]),\n",
              "                         'weights': ['distance', 'uniform']},\n",
              "             pre_dispatch='2*n_jobs', refit=True, return_train_score=False,\n",
              "             scoring='accuracy', verbose=0)"
            ]
          },
          "execution_count": 89,
          "metadata": {},
          "output_type": "execute_result"
        }
      ],
      "source": [
        "from sklearn.model_selection import GridSearchCV, RandomizedSearchCV\n",
        "model = KNeighborsClassifier()\n",
        "param_grid = {'n_neighbors':np.arange(5, 100), 'weights':['distance', 'uniform'], 'metric':['euclidean', 'manhattan']}\n",
        "gscv = GridSearchCV(model, param_grid, scoring='accuracy', cv=5)\n",
        "\n",
        "gscv.fit(X_train, y_train.values.ravel())"
      ]
    },
    {
      "cell_type": "code",
      "execution_count": 90,
      "metadata": {
        "colab": {
          "base_uri": "https://localhost:8080/"
        },
        "id": "lRnczdA540dp",
        "outputId": "46ee2446-d03f-46cf-af04-60ae04a72234"
      },
      "outputs": [
        {
          "data": {
            "text/plain": [
              "KNeighborsClassifier(algorithm='auto', leaf_size=30, metric='euclidean',\n",
              "                     metric_params=None, n_jobs=None, n_neighbors=33, p=2,\n",
              "                     weights='uniform')"
            ]
          },
          "execution_count": 90,
          "metadata": {},
          "output_type": "execute_result"
        }
      ],
      "source": [
        "gscv.best_estimator_"
      ]
    },
    {
      "cell_type": "code",
      "execution_count": 91,
      "metadata": {
        "colab": {
          "base_uri": "https://localhost:8080/"
        },
        "id": "9f3XBtvN450G",
        "outputId": "1345016d-defd-41e4-8d35-1b914436be62"
      },
      "outputs": [
        {
          "data": {
            "text/plain": [
              "{'metric': 'euclidean', 'n_neighbors': 33, 'weights': 'uniform'}"
            ]
          },
          "execution_count": 91,
          "metadata": {},
          "output_type": "execute_result"
        }
      ],
      "source": [
        "gscv.best_params_"
      ]
    },
    {
      "cell_type": "code",
      "execution_count": 92,
      "metadata": {
        "colab": {
          "base_uri": "https://localhost:8080/"
        },
        "id": "QetEpR-J43ND",
        "outputId": "f7407aea-46e5-427e-c812-76e8f195b284"
      },
      "outputs": [
        {
          "data": {
            "text/plain": [
              "0.8990424076607386"
            ]
          },
          "execution_count": 92,
          "metadata": {},
          "output_type": "execute_result"
        }
      ],
      "source": [
        "gscv.best_score_"
      ]
    },
    {
      "cell_type": "markdown",
      "metadata": {
        "id": "AyNK9u855DAV"
      },
      "source": [
        "Dengan RandomizedSeacrhCV"
      ]
    },
    {
      "cell_type": "code",
      "execution_count": 93,
      "metadata": {
        "colab": {
          "base_uri": "https://localhost:8080/"
        },
        "id": "qYqLZbzw5QmE",
        "outputId": "64ea87ee-af96-4864-876d-b2f26ac9ea7f"
      },
      "outputs": [
        {
          "data": {
            "text/plain": [
              "RandomizedSearchCV(cv=5, error_score=nan,\n",
              "                   estimator=KNeighborsClassifier(algorithm='auto',\n",
              "                                                  leaf_size=30,\n",
              "                                                  metric='minkowski',\n",
              "                                                  metric_params=None,\n",
              "                                                  n_jobs=None, n_neighbors=5,\n",
              "                                                  p=2, weights='uniform'),\n",
              "                   iid='deprecated', n_iter=10, n_jobs=None,\n",
              "                   param_distributions={'metric': ['euclidean', 'manhattan'],\n",
              "                                        'n_neighbors': array([ 5,  6,  7,  8,  9, 10, 11, 12, 13, 14, 15, 16, 17, 18, 19, 20, 21,\n",
              "       22, 23, 24, 25, 26, 27, 28, 29, 30, 31, 32, 33, 34, 35, 36, 37, 38,\n",
              "       39, 40, 41, 42, 43, 44, 45, 46, 47, 48, 49, 50, 51, 52, 53, 54, 55,\n",
              "       56, 57, 58, 59, 60, 61, 62, 63, 64, 65, 66, 67, 68, 69, 70, 71, 72,\n",
              "       73, 74, 75, 76, 77, 78, 79, 80, 81, 82, 83, 84, 85, 86, 87, 88, 89,\n",
              "       90, 91, 92, 93, 94, 95, 96, 97, 98, 99]),\n",
              "                                        'weights': ['distance', 'uniform']},\n",
              "                   pre_dispatch='2*n_jobs', random_state=None, refit=True,\n",
              "                   return_train_score=False, scoring='accuracy', verbose=0)"
            ]
          },
          "execution_count": 93,
          "metadata": {},
          "output_type": "execute_result"
        }
      ],
      "source": [
        "rscv=RandomizedSearchCV(model, param_grid, scoring='accuracy', cv=5, n_iter=10)\n",
        "rscv.fit(X_train, y_train.values.ravel())"
      ]
    },
    {
      "cell_type": "code",
      "execution_count": 94,
      "metadata": {
        "colab": {
          "base_uri": "https://localhost:8080/"
        },
        "id": "qP_e49Tj6UfD",
        "outputId": "41f4a4ab-d8d6-40f5-957a-080baab6f861"
      },
      "outputs": [
        {
          "data": {
            "text/plain": [
              "KNeighborsClassifier(algorithm='auto', leaf_size=30, metric='manhattan',\n",
              "                     metric_params=None, n_jobs=None, n_neighbors=64, p=2,\n",
              "                     weights='uniform')"
            ]
          },
          "execution_count": 94,
          "metadata": {},
          "output_type": "execute_result"
        }
      ],
      "source": [
        "rscv.best_estimator_"
      ]
    },
    {
      "cell_type": "code",
      "execution_count": 95,
      "metadata": {
        "colab": {
          "base_uri": "https://localhost:8080/"
        },
        "id": "TPg74L266UfK",
        "outputId": "b7abfb03-c81f-484d-bce5-bc3e63016610"
      },
      "outputs": [
        {
          "data": {
            "text/plain": [
              "{'metric': 'manhattan', 'n_neighbors': 64, 'weights': 'uniform'}"
            ]
          },
          "execution_count": 95,
          "metadata": {},
          "output_type": "execute_result"
        }
      ],
      "source": [
        "rscv.best_params_"
      ]
    },
    {
      "cell_type": "code",
      "execution_count": 96,
      "metadata": {
        "colab": {
          "base_uri": "https://localhost:8080/"
        },
        "id": "eSq856fx6UfM",
        "outputId": "c6b5a6b7-48a1-4221-f1a7-70f525c34def"
      },
      "outputs": [
        {
          "data": {
            "text/plain": [
              "0.8896853625170997"
            ]
          },
          "execution_count": 96,
          "metadata": {},
          "output_type": "execute_result"
        }
      ],
      "source": [
        "rscv.best_score_"
      ]
    },
    {
      "cell_type": "markdown",
      "metadata": {
        "id": "sTOklYJC6vzG"
      },
      "source": [
        "**ROC dan AUC**"
      ]
    },
    {
      "cell_type": "code",
      "execution_count": 97,
      "metadata": {
        "colab": {
          "base_uri": "https://localhost:8080/"
        },
        "id": "lGT26Jff6Xdv",
        "outputId": "cc59bb8e-244f-4be5-8375-5c8a2248b4b4"
      },
      "outputs": [
        {
          "data": {
            "text/plain": [
              "0.8306818181818182"
            ]
          },
          "execution_count": 97,
          "metadata": {},
          "output_type": "execute_result"
        }
      ],
      "source": [
        "from sklearn.metrics import roc_auc_score, roc_curve\n",
        "roc_auc_score(y_test, y_pred)"
      ]
    },
    {
      "cell_type": "code",
      "execution_count": 98,
      "metadata": {
        "id": "2Z-4Gxoy7Ckt"
      },
      "outputs": [],
      "source": [
        "fpr, tpr, _ = roc_curve(y_test, y_pred)"
      ]
    },
    {
      "cell_type": "code",
      "execution_count": 99,
      "metadata": {
        "colab": {
          "base_uri": "https://localhost:8080/",
          "height": 302
        },
        "id": "Ccm6lUmy7LPT",
        "outputId": "86ecc02a-7b70-4089-90e6-64717e5021d0"
      },
      "outputs": [
        {
          "data": {
            "text/plain": [
              "Text(0, 0.5, 'TPR')"
            ]
          },
          "execution_count": 99,
          "metadata": {},
          "output_type": "execute_result"
        },
        {
          "data": {
            "image/png": "[encoded data removed]",
            "text/plain": [
              "<Figure size 432x288 with 1 Axes>"
            ]
          },
          "metadata": {},
          "output_type": "display_data"
        }
      ],
      "source": [
        "fig, ax = plt.subplots()\n",
        "ax.plot(fpr, tpr)\n",
        "ax.set_xlabel('FPR')\n",
        "ax.set_ylabel('TPR')"
      ]
    },
    {
      "cell_type": "code",
      "execution_count": 100,
      "metadata": {
        "id": "7tN5iWvW8p9M"
      },
      "outputs": [],
      "source": [
        "roc_auc_score?"
      ]
    },
    {
      "cell_type": "markdown",
      "metadata": {
        "id": "vyLjk-UB8tcY"
      },
      "source": [
        "multi_class='raise'\n",
        "\n",
        "multi_class : {'raise', 'ovr', 'ovo'}, default='raise'\n",
        "\n",
        "    Multiclass only. Determines the type of configuration to use. The default value raises an error, so either `ovr` or `ovo` must be passed explicitly."
      ]
    },
    {
      "cell_type": "markdown",
      "metadata": {
        "id": "Z0JKXxR9FJqQ"
      },
      "source": [
        "# **Task**"
      ]
    },
    {
      "cell_type": "markdown",
      "metadata": {
        "id": "PrQVcF-ldGWQ"
      },
      "source": [
        "<h1> Soal 1: Pemahaman Tentang Model Evaluasi</h1>\n",
        "\n",
        "Jawab pertanyaan di bawah ini dengan bahasa masing-masing?\n",
        "\n",
        "1. Apa perbedaan antara data latih, data validasi, dan data test?\n",
        "\n",
        "    Data latih : data yang digunakan sebagai referensi algoritma, data berlabel\n",
        "\n",
        "    Data Validasi : Data yang digunakan untuk menentukan nilai hyperparameter yang optimal\n",
        "\n",
        "    Data Test : Data yang digunakan untuk mengetahui performance model\n",
        "\n",
        "    Data Validasi = bisa disamakan dengan Data Test\n",
        "\n",
        "2. Bagaimana cara kita menilai performa suatu model?\n",
        "\n",
        "    Menilai performance suatu model dapat dilakukan dengan cross validation dan confusion matriks. Selain itu juga dapat dilihat dari tingkat akurasi model\n",
        "\n",
        "\n",
        "3. Apa itu Confusion Matrix? Jelaskan secara lengkap!\n",
        "\n",
        "    Confusing Matriks => matriks yang menunjukkan jumlah data hasil prediksi yang dikategorikan masing - masing TP, TN, FP, FN\n",
        "\n",
        "4. Apa itu Classification Report dari sklearn?\n",
        "\n",
        "    Classification Report => Laporan kualitas performa hasil prediksi suatu algoritma klasifikasi"
      ]
    },
    {
      "cell_type": "markdown",
      "metadata": {
        "id": "Fv2TVsgAdGWY"
      },
      "source": [
        "<h1>Soal 2: Aplikasi Model Evaluasi</h1>\n",
        "\n",
        "Kali ini kita akan menggunakan data untuk memprediksi kelangsungan hidup pasien yang telah mengalami operasi payudara. Dengan informasi yang dimiliki terkait pasien, kita akan membuat model untuk memprediksi apakah pasien akan bertahan hidup dalam waktu lebih dari 5 tahun atau tidak.\n",
        "\n",
        "Lebih Lengkapnya kalian bisa membaca informasi tentang dataset di link berikut: https://raw.githubusercontent.com/jbrownlee/Datasets/master/haberman.names\n",
        "\n",
        "Buat model Klasifikasi (Model/Algoritma Bebas) untuk memprediksi status pasien dengan ketentuan sebagai berikut:\n",
        "\n",
        "1. Bagi kedua data ini menjadi data training dan data test dengan test_size=0.25.\n",
        "3. Pelajar tentang metrics roc_auc_score kemudian buatlah model dan evaluasi dengan menggunakan teknik cross-validation dengan scoring 'roc_auc'. Baca https://scikit-learn.org/stable/modules/generated/sklearn.model_selection.cross_val_score.html untuk menggunakan metric roc_auc saat cross-validation.\n",
        "3. Berapa score rata2 dari model dengan teknik cross-validation tersebut?\n",
        "4. Prediksi data test dengan model yang telah kalian buat!\n",
        "5. Bagaimana hasil confusion matrix dari hasil prediksi tersebut?\n",
        "6. Bagaimana classification report dari hasil prediksi tersebut?\n",
        "5. Seberapa baik model anda dalam memprediksi seorang pasien mempunyai status positive?\n",
        "6. Seberapa baik model anda dalam memprediksi seorang pasien mempunyai status negatif?"
      ]
    },
    {
      "cell_type": "markdown",
      "metadata": {
        "id": "_mW26CjkGw4c"
      },
      "source": [
        "Attribute Information:\n",
        "   1. Age of patient at time of operation (numerical)\n",
        "   2. Patient's year of operation (year - 1900, numerical)\n",
        "   3. Number of positive axillary nodes detected (numerical)\n",
        "   4. Survival status (class attribute)\n",
        "         1 = the patient survived 5 years or longer\n",
        "         2 = the patient died within 5 year"
      ]
    },
    {
      "cell_type": "code",
      "execution_count": 101,
      "metadata": {
        "id": "g4UqaWyPdGWj"
      },
      "outputs": [],
      "source": [
        "import pandas as pd\n",
        "\n",
        "url = 'https://raw.githubusercontent.com/jbrownlee/Datasets/master/haberman.csv'\n",
        "list_cols = ['Age', \"Patient's Years\", \"N_positive_ax\", \"survival_status\"]\n",
        "df = pd.read_csv(url, names=list_cols)"
      ]
    },
    {
      "cell_type": "code",
      "execution_count": 102,
      "metadata": {
        "colab": {
          "base_uri": "https://localhost:8080/",
          "height": 203
        },
        "id": "YrbPNGtHdGXV",
        "outputId": "e2b483ee-ea49-483f-ca3c-871e389013b7"
      },
      "outputs": [
        {
          "data": {
            "text/html": [
              "<div>\n",
              "<style scoped>\n",
              "    .dataframe tbody tr th:only-of-type {\n",
              "        vertical-align: middle;\n",
              "    }\n",
              "\n",
              "    .dataframe tbody tr th {\n",
              "        vertical-align: top;\n",
              "    }\n",
              "\n",
              "    .dataframe thead th {\n",
              "        text-align: right;\n",
              "    }\n",
              "</style>\n",
              "<table border=\"1\" class=\"dataframe\">\n",
              "  <thead>\n",
              "    <tr style=\"text-align: right;\">\n",
              "      <th></th>\n",
              "      <th>Age</th>\n",
              "      <th>Patient's Years</th>\n",
              "      <th>N_positive_ax</th>\n",
              "      <th>survival_status</th>\n",
              "    </tr>\n",
              "  </thead>\n",
              "  <tbody>\n",
              "    <tr>\n",
              "      <th>0</th>\n",
              "      <td>30</td>\n",
              "      <td>64</td>\n",
              "      <td>1</td>\n",
              "      <td>1</td>\n",
              "    </tr>\n",
              "    <tr>\n",
              "      <th>1</th>\n",
              "      <td>30</td>\n",
              "      <td>62</td>\n",
              "      <td>3</td>\n",
              "      <td>1</td>\n",
              "    </tr>\n",
              "    <tr>\n",
              "      <th>2</th>\n",
              "      <td>30</td>\n",
              "      <td>65</td>\n",
              "      <td>0</td>\n",
              "      <td>1</td>\n",
              "    </tr>\n",
              "    <tr>\n",
              "      <th>3</th>\n",
              "      <td>31</td>\n",
              "      <td>59</td>\n",
              "      <td>2</td>\n",
              "      <td>1</td>\n",
              "    </tr>\n",
              "    <tr>\n",
              "      <th>4</th>\n",
              "      <td>31</td>\n",
              "      <td>65</td>\n",
              "      <td>4</td>\n",
              "      <td>1</td>\n",
              "    </tr>\n",
              "  </tbody>\n",
              "</table>\n",
              "</div>"
            ],
            "text/plain": [
              "   Age  Patient's Years  N_positive_ax  survival_status\n",
              "0   30               64              1                1\n",
              "1   30               62              3                1\n",
              "2   30               65              0                1\n",
              "3   31               59              2                1\n",
              "4   31               65              4                1"
            ]
          },
          "execution_count": 102,
          "metadata": {},
          "output_type": "execute_result"
        }
      ],
      "source": [
        "df.head()"
      ]
    },
    {
      "cell_type": "code",
      "execution_count": 103,
      "metadata": {
        "colab": {
          "base_uri": "https://localhost:8080/"
        },
        "id": "-dxYNPg7dGX4",
        "outputId": "fd02314c-6bd3-47ab-adca-3f332b752428"
      },
      "outputs": [
        {
          "data": {
            "text/plain": [
              "1    225\n",
              "2     81\n",
              "Name: survival_status, dtype: int64"
            ]
          },
          "execution_count": 103,
          "metadata": {},
          "output_type": "execute_result"
        }
      ],
      "source": [
        "df['survival_status'].value_counts()"
      ]
    },
    {
      "cell_type": "code",
      "execution_count": 104,
      "metadata": {
        "id": "8W2amvZgdGYX"
      },
      "outputs": [],
      "source": [
        "# Code here\n",
        "from sklearn.neighbors import KNeighborsClassifier\n",
        "from sklearn.model_selection import train_test_split\n",
        "from sklearn.model_selection import cross_validate, cross_val_score\n",
        "from sklearn.metrics import roc_auc_score, roc_curve\n",
        "from sklearn.metrics import confusion_matrix\n",
        "from sklearn.metrics import classification_report\n",
        "\n",
        "import matplotlib.pyplot as plt\n",
        "import seaborn as sns\n",
        "\n",
        "# 1. \n",
        "X = df[df.columns.drop('survival_status')]\n",
        "y = df['survival_status']\n",
        "X_train, X_test, y_train, y_test = train_test_split(X, y, random_state=1)"
      ]
    },
    {
      "cell_type": "code",
      "execution_count": 105,
      "metadata": {
        "colab": {
          "base_uri": "https://localhost:8080/"
        },
        "id": "nrizehqkNGrK",
        "outputId": "758f103c-eac9-49ee-ea96-42052f547357"
      },
      "outputs": [
        {
          "name": "stdout",
          "output_type": "stream",
          "text": [
            "CV Score : [0.41053922 0.57230392 0.53030303 0.72027972 0.66540404]\n",
            "ROC AUC Score : 0.6238656987295825\n"
          ]
        }
      ],
      "source": [
        "# 2.\n",
        "model = KNeighborsClassifier(n_neighbors=5)\n",
        "model.fit(X_train, y_train)\n",
        "y_pred = model.predict(X_test)\n",
        "cv_score=cross_val_score(model, X_train, y_train.values.ravel(), cv=5, scoring='roc_auc')\n",
        "roc_auc = roc_auc_score(y_test, y_pred)\n",
        "print('CV Score : {}'.format(cv_score))\n",
        "print('ROC AUC Score : {}'.format(roc_auc))"
      ]
    },
    {
      "cell_type": "code",
      "execution_count": 106,
      "metadata": {
        "colab": {
          "base_uri": "https://localhost:8080/"
        },
        "id": "AU7KUHItNJNI",
        "outputId": "8b72556c-a724-47fd-a61a-cba9da6a88dc"
      },
      "outputs": [
        {
          "name": "stdout",
          "output_type": "stream",
          "text": [
            "CV Score Mean : 0.5797659856483387\n"
          ]
        }
      ],
      "source": [
        "# 3.\n",
        "print('CV Score Mean : {}'.format(cv_score.mean()))"
      ]
    },
    {
      "cell_type": "code",
      "execution_count": 107,
      "metadata": {
        "colab": {
          "base_uri": "https://localhost:8080/"
        },
        "id": "NFks6jP6Ni8O",
        "outputId": "b37efe0d-c783-49b2-c9ab-645fbc6c11bb"
      },
      "outputs": [
        {
          "data": {
            "text/plain": [
              "{'fit_time': array([0.00306964, 0.00164676, 0.00155163, 0.00151467, 0.00156903,\n",
              "        0.00157547, 0.00152397, 0.00157356, 0.00161934, 0.00164461]),\n",
              " 'score_time': array([0.00401068, 0.00214458, 0.0021379 , 0.0021565 , 0.0021708 ,\n",
              "        0.00223756, 0.00216246, 0.00235939, 0.00219131, 0.00220346]),\n",
              " 'test_score': array([0.60869565, 0.60869565, 0.60869565, 0.65217391, 0.73913043,\n",
              "        0.65217391, 0.82608696, 0.91304348, 0.73913043, 0.5       ]),\n",
              " 'train_score': array([0.80097087, 0.80582524, 0.81553398, 0.77184466, 0.79126214,\n",
              "        0.7961165 , 0.7815534 , 0.76213592, 0.79126214, 0.79227053])}"
            ]
          },
          "execution_count": 107,
          "metadata": {},
          "output_type": "execute_result"
        }
      ],
      "source": [
        "cross_validate(model, X_train, y_train, cv=10, return_train_score=True)"
      ]
    },
    {
      "cell_type": "code",
      "execution_count": 108,
      "metadata": {
        "colab": {
          "base_uri": "https://localhost:8080/",
          "height": 286
        },
        "id": "vtHAc_8aOQjg",
        "outputId": "fba396f4-b7a7-447f-fd81-ecb76246f876"
      },
      "outputs": [
        {
          "data": {
            "text/plain": [
              "<matplotlib.collections.PathCollection at 0x7f279e5829d0>"
            ]
          },
          "execution_count": 108,
          "metadata": {},
          "output_type": "execute_result"
        },
        {
          "data": {
            "image/png": "[encoded data removed]",
            "text/plain": [
              "<Figure size 432x288 with 1 Axes>"
            ]
          },
          "metadata": {},
          "output_type": "display_data"
        }
      ],
      "source": [
        "# 4.\n",
        "import matplotlib.pyplot as plt\n",
        "fig, ax = plt.subplots()\n",
        "ax.scatter(\n",
        "    X_test[\"Patient's Years\"],\n",
        "    X_test[\"N_positive_ax\"],\n",
        "    c=y_pred,\n",
        "    cmap='coolwarm',\n",
        "    alpha=0.7\n",
        ")\n"
      ]
    },
    {
      "cell_type": "code",
      "execution_count": 109,
      "metadata": {
        "colab": {
          "base_uri": "https://localhost:8080/"
        },
        "id": "x0VqZfdcPXvn",
        "outputId": "0665918d-8a13-4c20-d7a0-7d1a1a85d2d4"
      },
      "outputs": [
        {
          "name": "stdout",
          "output_type": "stream",
          "text": [
            "[[51  7]\n",
            " [12  7]]\n"
          ]
        }
      ],
      "source": [
        "# 5.\n",
        "a = confusion_matrix(y_test, y_pred)\n",
        "print(a)"
      ]
    },
    {
      "cell_type": "code",
      "execution_count": 110,
      "metadata": {
        "colab": {
          "base_uri": "https://localhost:8080/"
        },
        "id": "IrCbeSHnVv12",
        "outputId": "ef46f4d6-6c49-4535-f0ae-208246d764af"
      },
      "outputs": [
        {
          "name": "stdout",
          "output_type": "stream",
          "text": [
            "              precision    recall  f1-score   support\n",
            "\n",
            "    >5 Tahun       0.81      0.88      0.84        58\n",
            "   <=5 Tahun       0.50      0.37      0.42        19\n",
            "\n",
            "    accuracy                           0.75        77\n",
            "   macro avg       0.65      0.62      0.63        77\n",
            "weighted avg       0.73      0.75      0.74        77\n",
            "\n"
          ]
        }
      ],
      "source": [
        "# 6.\n",
        "clas = classification_report(y_test, y_pred, target_names=['>5 Tahun', '<=5 Tahun'])\n",
        "print(clas)"
      ]
    },
    {
      "cell_type": "markdown",
      "metadata": {
        "id": "teekoyIw--g2"
      },
      "source": [
        "<h1> Soal 3: Pemahaman Tentang Model Selection</h1>\n",
        "\n",
        "Jelaskan dengan bahasa sendiri!\n",
        "\n",
        "1. Apa itu Bias dan Variance?\n",
        "\n",
        "    Bias adalah seberapa jauh nilai yang diprediksi dari nilai aktual. Jika nilai prediksi rata - rata jauh dari nilai aktual maka biasnya tinggi .\n",
        "\n",
        "    Variance adalah variabel dari prediksi model untuk data tertentu dimana memberikan kita informasi perserbaran data kita. Model yang memiliki variance tinggi sangat memperhatikan hanya pada train data. High variance model, perform baik di train data. Tetapi jika disuguhkan data baru yang belum pernah ditemukan di train data. Model tersebut tidak dapat mengeneralisasikan secara baik dari identifikasi data baru tersebut. Alhasil model memprediksi dengan keliru.\n",
        "\n",
        "2. Apa itu Overfitting dan Underfitting?\n",
        "\n",
        "    Overfitting = Suatu keadaan dimana suatu data terlalu belajar terhadap data training terlalu menangkan detail dan noise pada di data training, karena data training hanya data sample. Sehingga kemampuan Generalisasi berkurang. score training bagus, score validation tidak bagus.\n",
        "\n",
        "    Underfitting = suatu keadaan dimana model tidak bagus ketika belajar pada data training (fitting). score training dan validation tidak bagus.\n",
        "\n",
        "3. Apa yang bisa kita lakukan untuk mengatur kompleksitas dari model?\n",
        "\n",
        "    Mengatur Hyperparameternya (Tuning Hyperparameter). \n",
        "\n",
        "4. Bagaimana model yang baik?\n",
        "\n",
        "    Model yang goog fitting, tidak underfitting dan overfitting. bias dan variance berada pada terming point, complexitas modelnya menyebabkan nilai bias dan variance sama kecil atau tidak beda jauh.\n",
        "\n",
        "    Score Train dan Score Validationnya (Test) besar dan tidak beda jauh.\n",
        "\n",
        "5. Kapan kita menggunakan GridSearchcv dan kapan menggunakan RandomizedSearchCV?\n",
        "\n",
        "    Ketika kita masih belum yakin dan juga hyperparameter yang sangat komplex"
      ]
    },
    {
      "cell_type": "markdown",
      "metadata": {
        "id": "Hkh-PeRL_LZp"
      },
      "source": [
        "<h1> Soal 4: Aplikasi Model Selection</h1>\n",
        "\n",
        "1. Bagi kedua data berikut ini menjadi data training dan data test dengan test_size=0.25.\n",
        "2. Gunakan algoritma KNN sebagai model classifier.\n",
        "3. Gunakan fungsi GridSearchCV untuk hyperparameter tuning dan model selection.\n",
        "4. jumlah fold bebas!, gunakan scoring 'roc_auc'\n",
        "5. Definisikan kombinasi hyperparameter untuk model selection dengan GridSearchCV. kombinasi Hyperparameter bebas, baca lagi dokumentasi KNN di link berikut https://scikit-learn.org/stable/modules/generated/sklearn.neighbors.KNeighborsClassifier.html untuk memahami lagi jenis2 hyperparameter di algorithma KNN.\n",
        "6. Latih model terhadap data training.\n",
        "7. Apa hyperparameter terbaik untuk kombinasi hyperparameter kalian?\n",
        "8. Berapa score validasi terbaik dari model tersebut?\n",
        "9. Prediksi probabilitasi output dari model yang telah di buat terhadap data test. note : gunakan method .predict_proba() untuk menghasilkan output probabilitas\n",
        "10. Perhatikan bahwa hasil prediksi ada 2, dimana masing2 adalah nilai probabilitas untuk setiap class label. Ambil nilai probabilitas pasien phositive meninggal dalam waktu kurang dari 5 tahun. note : gunakan bantuan attirubte .classes_ untuk mengetahui urutan label dari hasil prediksi probabilitas.\n",
        "11. Berapa nilai score roc_auc untuk data test?\n",
        "12. Apakah model anda termasuk baik, overtting, atau underfitting?\n",
        "13. Ulangi tahap di atas namun kali ini menggunakan algoritma DecisionTreeClassifier dan kalian bisa menggunakan RandomizedSearchCV apabila process training lama. pelajari algoritma DecisionTreeClassifier di linkberikut: https://scikit-learn.org/stable/modules/generated/sklearn.tree.DecisionTreeClassifier.html?highlight=decisiontreeclassifier#sklearn.tree.DecisionTreeClassifier\n",
        "14. Bandingkan scorenya dengan Algoritma KNN, mana yang lebih baik?\n",
        "\n",
        "Note : Data Science adalah experiment, sangat di dimungkinkan memerlukan beberapa kali percobaan untuk mendapatkan hasil yang terbaik! Happy Coding :)"
      ]
    },
    {
      "cell_type": "markdown",
      "metadata": {
        "id": "tKVnzIHVPxSY"
      },
      "source": [
        "Attribute Information:\n",
        "   1. Age of patient at time of operation (numerical)\n",
        "   2. Patient's year of operation (year - 1900, numerical)\n",
        "   3. Number of positive axillary nodes detected (numerical)\n",
        "   4. Survival status (class attribute)\n",
        "         1 = the patient survived 5 years or longer\n",
        "         2 = the patient died within 5 year"
      ]
    },
    {
      "cell_type": "code",
      "execution_count": 111,
      "metadata": {
        "id": "l_zK8Mqb-9Z6"
      },
      "outputs": [],
      "source": [
        "import pandas as pd\n",
        "\n",
        "url = 'https://raw.githubusercontent.com/jbrownlee/Datasets/master/haberman.csv'\n",
        "list_cols = ['Age', \"Patient's Years\", \"N_positive_ax\", \"survival_status\"]\n",
        "df = pd.read_csv(url, names=list_cols)"
      ]
    },
    {
      "cell_type": "code",
      "execution_count": 112,
      "metadata": {
        "colab": {
          "base_uri": "https://localhost:8080/",
          "height": 203
        },
        "id": "qb-AD43R_V_d",
        "outputId": "00c9dc73-18c1-45ec-cde8-2f6b56488da7"
      },
      "outputs": [
        {
          "data": {
            "text/html": [
              "<div>\n",
              "<style scoped>\n",
              "    .dataframe tbody tr th:only-of-type {\n",
              "        vertical-align: middle;\n",
              "    }\n",
              "\n",
              "    .dataframe tbody tr th {\n",
              "        vertical-align: top;\n",
              "    }\n",
              "\n",
              "    .dataframe thead th {\n",
              "        text-align: right;\n",
              "    }\n",
              "</style>\n",
              "<table border=\"1\" class=\"dataframe\">\n",
              "  <thead>\n",
              "    <tr style=\"text-align: right;\">\n",
              "      <th></th>\n",
              "      <th>Age</th>\n",
              "      <th>Patient's Years</th>\n",
              "      <th>N_positive_ax</th>\n",
              "      <th>survival_status</th>\n",
              "    </tr>\n",
              "  </thead>\n",
              "  <tbody>\n",
              "    <tr>\n",
              "      <th>0</th>\n",
              "      <td>30</td>\n",
              "      <td>64</td>\n",
              "      <td>1</td>\n",
              "      <td>1</td>\n",
              "    </tr>\n",
              "    <tr>\n",
              "      <th>1</th>\n",
              "      <td>30</td>\n",
              "      <td>62</td>\n",
              "      <td>3</td>\n",
              "      <td>1</td>\n",
              "    </tr>\n",
              "    <tr>\n",
              "      <th>2</th>\n",
              "      <td>30</td>\n",
              "      <td>65</td>\n",
              "      <td>0</td>\n",
              "      <td>1</td>\n",
              "    </tr>\n",
              "    <tr>\n",
              "      <th>3</th>\n",
              "      <td>31</td>\n",
              "      <td>59</td>\n",
              "      <td>2</td>\n",
              "      <td>1</td>\n",
              "    </tr>\n",
              "    <tr>\n",
              "      <th>4</th>\n",
              "      <td>31</td>\n",
              "      <td>65</td>\n",
              "      <td>4</td>\n",
              "      <td>1</td>\n",
              "    </tr>\n",
              "  </tbody>\n",
              "</table>\n",
              "</div>"
            ],
            "text/plain": [
              "   Age  Patient's Years  N_positive_ax  survival_status\n",
              "0   30               64              1                1\n",
              "1   30               62              3                1\n",
              "2   30               65              0                1\n",
              "3   31               59              2                1\n",
              "4   31               65              4                1"
            ]
          },
          "execution_count": 112,
          "metadata": {},
          "output_type": "execute_result"
        }
      ],
      "source": [
        "df.head()"
      ]
    },
    {
      "cell_type": "code",
      "execution_count": 113,
      "metadata": {
        "colab": {
          "base_uri": "https://localhost:8080/"
        },
        "id": "iuvv9AZuZno3",
        "outputId": "bd129d13-912d-44b4-9adb-1f2c61848281"
      },
      "outputs": [
        {
          "data": {
            "text/plain": [
              "1    225\n",
              "2     81\n",
              "Name: survival_status, dtype: int64"
            ]
          },
          "execution_count": 113,
          "metadata": {},
          "output_type": "execute_result"
        }
      ],
      "source": [
        "df['survival_status'].value_counts()"
      ]
    },
    {
      "cell_type": "code",
      "execution_count": 114,
      "metadata": {
        "id": "kM4XN-7CZno7"
      },
      "outputs": [],
      "source": [
        "# Code here\n",
        "from sklearn.neighbors import KNeighborsClassifier\n",
        "from sklearn.model_selection import train_test_split\n",
        "from sklearn.metrics import roc_auc_score, roc_curve\n",
        "from sklearn.model_selection import GridSearchCV, RandomizedSearchCV\n",
        "\n",
        "import numpy as np\n",
        "import matplotlib.pyplot as plt\n",
        "\n",
        "# 1. \n",
        "X = df[df.columns.drop('survival_status')]\n",
        "y = df['survival_status']\n",
        "X_train, X_test, y_train, y_test = train_test_split(X, y, random_state=1)"
      ]
    },
    {
      "cell_type": "code",
      "execution_count": 115,
      "metadata": {
        "id": "HpvsOTkbZno-"
      },
      "outputs": [],
      "source": [
        "# 2.\n",
        "model = KNeighborsClassifier(n_neighbors=5)\n",
        "# 3. 4. 5.\n",
        "param_grid = {'n_neighbors':np.arange(5, 100), 'weights':['distance', 'uniform'], 'metric':['euclidean', 'manhattan']}\n",
        "gscv = GridSearchCV(model, param_grid, scoring='roc_auc', cv=5)"
      ]
    },
    {
      "cell_type": "code",
      "execution_count": 116,
      "metadata": {
        "colab": {
          "base_uri": "https://localhost:8080/"
        },
        "id": "mx6yJF0AZu22",
        "outputId": "ce5254ca-288c-494c-a3e2-84514cf0d661"
      },
      "outputs": [
        {
          "data": {
            "text/plain": [
              "GridSearchCV(cv=5, error_score=nan,\n",
              "             estimator=KNeighborsClassifier(algorithm='auto', leaf_size=30,\n",
              "                                            metric='minkowski',\n",
              "                                            metric_params=None, n_jobs=None,\n",
              "                                            n_neighbors=5, p=2,\n",
              "                                            weights='uniform'),\n",
              "             iid='deprecated', n_jobs=None,\n",
              "             param_grid={'metric': ['euclidean', 'manhattan'],\n",
              "                         'n_neighbors': array([ 5,  6,  7,  8,  9, 10, 11, 12, 13, 14, 15, 16, 17, 18, 19, 20, 21,\n",
              "       22, 23, 24, 25, 26, 27, 28, 29, 30, 31, 32, 33, 34, 35, 36, 37, 38,\n",
              "       39, 40, 41, 42, 43, 44, 45, 46, 47, 48, 49, 50, 51, 52, 53, 54, 55,\n",
              "       56, 57, 58, 59, 60, 61, 62, 63, 64, 65, 66, 67, 68, 69, 70, 71, 72,\n",
              "       73, 74, 75, 76, 77, 78, 79, 80, 81, 82, 83, 84, 85, 86, 87, 88, 89,\n",
              "       90, 91, 92, 93, 94, 95, 96, 97, 98, 99]),\n",
              "                         'weights': ['distance', 'uniform']},\n",
              "             pre_dispatch='2*n_jobs', refit=True, return_train_score=False,\n",
              "             scoring='roc_auc', verbose=0)"
            ]
          },
          "execution_count": 116,
          "metadata": {},
          "output_type": "execute_result"
        }
      ],
      "source": [
        "# 6.\n",
        "gscv.fit(X_train, y_train.values.ravel())"
      ]
    },
    {
      "cell_type": "code",
      "execution_count": 117,
      "metadata": {
        "colab": {
          "base_uri": "https://localhost:8080/"
        },
        "id": "-9ctbM4r7h__",
        "outputId": "50ade126-aea1-492b-81a6-da6287d6644c"
      },
      "outputs": [
        {
          "name": "stdout",
          "output_type": "stream",
          "text": [
            "{'metric': 'manhattan', 'n_neighbors': 96, 'weights': 'uniform'}\n",
            "0.6520739064856711\n"
          ]
        }
      ],
      "source": [
        "print(gscv.best_params_) # 7.\n",
        "print(gscv.best_score_) # 8."
      ]
    },
    {
      "cell_type": "code",
      "execution_count": 118,
      "metadata": {
        "colab": {
          "base_uri": "https://localhost:8080/"
        },
        "id": "M24yjWev7qzU",
        "outputId": "85bdc372-90c2-40c4-cce6-f00480bdaab5"
      },
      "outputs": [
        {
          "data": {
            "text/plain": [
              "array([[0.80208333, 0.19791667],\n",
              "       [0.76041667, 0.23958333],\n",
              "       [0.78125   , 0.21875   ],\n",
              "       [0.77083333, 0.22916667],\n",
              "       [0.76041667, 0.23958333],\n",
              "       [0.65625   , 0.34375   ],\n",
              "       [0.78125   , 0.21875   ],\n",
              "       [0.79166667, 0.20833333],\n",
              "       [0.80208333, 0.19791667],\n",
              "       [0.80208333, 0.19791667],\n",
              "       [0.76041667, 0.23958333],\n",
              "       [0.60416667, 0.39583333],\n",
              "       [0.78125   , 0.21875   ],\n",
              "       [0.75      , 0.25      ],\n",
              "       [0.80208333, 0.19791667],\n",
              "       [0.61458333, 0.38541667],\n",
              "       [0.76041667, 0.23958333],\n",
              "       [0.67708333, 0.32291667],\n",
              "       [0.61458333, 0.38541667],\n",
              "       [0.79166667, 0.20833333],\n",
              "       [0.78125   , 0.21875   ],\n",
              "       [0.71875   , 0.28125   ],\n",
              "       [0.80208333, 0.19791667],\n",
              "       [0.71875   , 0.28125   ],\n",
              "       [0.77083333, 0.22916667],\n",
              "       [0.80208333, 0.19791667],\n",
              "       [0.78125   , 0.21875   ],\n",
              "       [0.8125    , 0.1875    ],\n",
              "       [0.80208333, 0.19791667],\n",
              "       [0.75      , 0.25      ],\n",
              "       [0.80208333, 0.19791667],\n",
              "       [0.80208333, 0.19791667],\n",
              "       [0.8125    , 0.1875    ],\n",
              "       [0.79166667, 0.20833333],\n",
              "       [0.78125   , 0.21875   ],\n",
              "       [0.71875   , 0.28125   ],\n",
              "       [0.80208333, 0.19791667],\n",
              "       [0.70833333, 0.29166667],\n",
              "       [0.6875    , 0.3125    ],\n",
              "       [0.79166667, 0.20833333],\n",
              "       [0.80208333, 0.19791667],\n",
              "       [0.625     , 0.375     ],\n",
              "       [0.8125    , 0.1875    ],\n",
              "       [0.76041667, 0.23958333],\n",
              "       [0.80208333, 0.19791667],\n",
              "       [0.75      , 0.25      ],\n",
              "       [0.6875    , 0.3125    ],\n",
              "       [0.80208333, 0.19791667],\n",
              "       [0.76041667, 0.23958333],\n",
              "       [0.79166667, 0.20833333],\n",
              "       [0.67708333, 0.32291667],\n",
              "       [0.625     , 0.375     ],\n",
              "       [0.76041667, 0.23958333],\n",
              "       [0.69791667, 0.30208333],\n",
              "       [0.72916667, 0.27083333],\n",
              "       [0.77083333, 0.22916667],\n",
              "       [0.80208333, 0.19791667],\n",
              "       [0.77083333, 0.22916667],\n",
              "       [0.8125    , 0.1875    ],\n",
              "       [0.67708333, 0.32291667],\n",
              "       [0.79166667, 0.20833333],\n",
              "       [0.65625   , 0.34375   ],\n",
              "       [0.6875    , 0.3125    ],\n",
              "       [0.73958333, 0.26041667],\n",
              "       [0.79166667, 0.20833333],\n",
              "       [0.69791667, 0.30208333],\n",
              "       [0.79166667, 0.20833333],\n",
              "       [0.69791667, 0.30208333],\n",
              "       [0.77083333, 0.22916667],\n",
              "       [0.76041667, 0.23958333],\n",
              "       [0.79166667, 0.20833333],\n",
              "       [0.76041667, 0.23958333],\n",
              "       [0.77083333, 0.22916667],\n",
              "       [0.80208333, 0.19791667],\n",
              "       [0.70833333, 0.29166667],\n",
              "       [0.79166667, 0.20833333],\n",
              "       [0.78125   , 0.21875   ]])"
            ]
          },
          "execution_count": 118,
          "metadata": {},
          "output_type": "execute_result"
        }
      ],
      "source": [
        "model.fit(X_train, y_train)\n",
        "# y_pred = model.predict(X_test)\n",
        "# y_pred= y_pred[:, np.newaxis]\n",
        "# 9.\n",
        "y_predict=gscv.predict_proba(X_test)  #nomor 9\n",
        "y_predict"
      ]
    },
    {
      "cell_type": "code",
      "execution_count": 119,
      "metadata": {
        "colab": {
          "base_uri": "https://localhost:8080/"
        },
        "id": "7-y0qO8f_4xz",
        "outputId": "4aa2ef1e-047f-4b60-8b04-f0a8eb02e1e3"
      },
      "outputs": [
        {
          "data": {
            "text/plain": [
              "array([1, 2])"
            ]
          },
          "execution_count": 119,
          "metadata": {},
          "output_type": "execute_result"
        }
      ],
      "source": [
        "gscv.classes_"
      ]
    },
    {
      "cell_type": "code",
      "execution_count": 120,
      "metadata": {
        "colab": {
          "base_uri": "https://localhost:8080/"
        },
        "id": "kU-0bkbO_4x8",
        "outputId": "d3e6a2f9-1828-4476-fa83-d608778e1a88"
      },
      "outputs": [
        {
          "data": {
            "text/plain": [
              "0     0.197917\n",
              "1     0.239583\n",
              "2     0.218750\n",
              "3     0.229167\n",
              "4     0.239583\n",
              "        ...   \n",
              "72    0.229167\n",
              "73    0.197917\n",
              "74    0.291667\n",
              "75    0.208333\n",
              "76    0.218750\n",
              "Name: class_2, Length: 77, dtype: float64"
            ]
          },
          "execution_count": 120,
          "metadata": {},
          "output_type": "execute_result"
        }
      ],
      "source": [
        "df2=pd.DataFrame(y_predict,columns=['class_1','class_2',]) #nomor 10\n",
        "df2['class_2']"
      ]
    },
    {
      "cell_type": "code",
      "execution_count": 121,
      "metadata": {
        "id": "nd2WI0Yc_4yB"
      },
      "outputs": [],
      "source": [
        "ypredict_class=y_predict.argmax(axis=-1)\n",
        "df_predict=pd.DataFrame(ypredict_class+1)"
      ]
    },
    {
      "cell_type": "code",
      "execution_count": 122,
      "metadata": {
        "colab": {
          "base_uri": "https://localhost:8080/"
        },
        "id": "2kzlTYMd_4yF",
        "outputId": "90f926f0-c42f-475f-d652-9c4e4973cdf7"
      },
      "outputs": [
        {
          "data": {
            "text/plain": [
              "0.5"
            ]
          },
          "execution_count": 122,
          "metadata": {},
          "output_type": "execute_result"
        }
      ],
      "source": [
        "from sklearn.metrics import roc_auc_score, roc_curve\n",
        "roc_auc_score(y_test, df_predict) #nomor 11"
      ]
    },
    {
      "cell_type": "code",
      "execution_count": 123,
      "metadata": {
        "colab": {
          "base_uri": "https://localhost:8080/",
          "height": 285
        },
        "id": "LIh-r35A_4yK",
        "outputId": "e81aecff-77c3-46ff-c59a-75e48573804b"
      },
      "outputs": [
        {
          "data": {
            "image/png": "[encoded data removed]",
            "text/plain": [
              "<Figure size 432x288 with 1 Axes>"
            ]
          },
          "metadata": {},
          "output_type": "display_data"
        }
      ],
      "source": [
        "roc_curve(y_test, df_predict,pos_label=1)\n",
        "\n",
        "import matplotlib.pyplot as plt\n",
        "a, b, _ = roc_curve(y_test, df_predict,pos_label=1)\n",
        "plt.plot(a, b, label='ROC')\n",
        "plt.xlabel('False Positive Rate')\n",
        "plt.ylabel('True Positive Rate')\n",
        "# show the legend\n",
        "plt.legend()\n",
        "# show the plot\n",
        "plt.show()"
      ]
    },
    {
      "cell_type": "markdown",
      "metadata": {
        "id": "-T48cOlp_4yT"
      },
      "source": [
        "berdasarkan nilai roc auc score didapatkan sebesar 0.6 sehingga termasuk ke dalam model underfitting"
      ]
    },
    {
      "cell_type": "code",
      "execution_count": 124,
      "metadata": {
        "colab": {
          "base_uri": "https://localhost:8080/"
        },
        "id": "RsWkVc5l_4yU",
        "outputId": "71ae0fe5-2daf-49e1-c56f-86abb2343f62"
      },
      "outputs": [
        {
          "data": {
            "text/plain": [
              "RandomizedSearchCV(cv=5, error_score=nan,\n",
              "                   estimator=DecisionTreeClassifier(ccp_alpha=0.0,\n",
              "                                                    class_weight=None,\n",
              "                                                    criterion='gini',\n",
              "                                                    max_depth=None,\n",
              "                                                    max_features=None,\n",
              "                                                    max_leaf_nodes=None,\n",
              "                                                    min_impurity_decrease=0.0,\n",
              "                                                    min_impurity_split=None,\n",
              "                                                    min_samples_leaf=1,\n",
              "                                                    min_samples_split=2,\n",
              "                                                    min_weight_fraction_leaf=0.0,\n",
              "                                                    presort='deprecated',\n",
              "                                                    random_state=None,\n",
              "                                                    splitter='best'),\n",
              "                   i...\n",
              "       19, 20, 21, 22, 23, 24, 25, 26, 27, 28, 29, 30, 31, 32, 33, 34, 35,\n",
              "       36, 37, 38, 39, 40, 41, 42, 43, 44, 45, 46, 47, 48, 49, 50, 51, 52,\n",
              "       53, 54, 55, 56, 57, 58, 59, 60, 61, 62, 63, 64, 65, 66, 67, 68, 69,\n",
              "       70, 71, 72, 73, 74, 75, 76, 77, 78, 79, 80, 81, 82, 83, 84, 85, 86,\n",
              "       87, 88, 89, 90, 91, 92, 93, 94, 95, 96, 97, 98, 99])},\n",
              "                   pre_dispatch='2*n_jobs', random_state=None, refit=True,\n",
              "                   return_train_score=True, scoring='roc_auc', verbose=0)"
            ]
          },
          "execution_count": 124,
          "metadata": {},
          "output_type": "execute_result"
        }
      ],
      "source": [
        "#decision tree\n",
        "from sklearn.tree import DecisionTreeClassifier\n",
        "\n",
        "dtc=DecisionTreeClassifier() #nomor 2\n",
        "param_rcv={'max_depth':np.arange(2,100)}\n",
        "rcv=RandomizedSearchCV(dtc,param_distributions=param_rcv,scoring='roc_auc',cv=5,return_train_score=True)\n",
        "rcv.fit(X_train,y_train)"
      ]
    },
    {
      "cell_type": "code",
      "execution_count": 125,
      "metadata": {
        "colab": {
          "base_uri": "https://localhost:8080/"
        },
        "id": "3-iKvCDa_4yZ",
        "outputId": "5a27b282-da6a-4559-dc24-766d0e12d735"
      },
      "outputs": [
        {
          "data": {
            "text/plain": [
              "({'max_depth': 92}, 0.5505381873028933)"
            ]
          },
          "execution_count": 125,
          "metadata": {},
          "output_type": "execute_result"
        }
      ],
      "source": [
        "rcv.best_params_,rcv.best_score_"
      ]
    },
    {
      "cell_type": "code",
      "execution_count": 126,
      "metadata": {
        "colab": {
          "base_uri": "https://localhost:8080/"
        },
        "id": "VXFzaz2x_4yd",
        "outputId": "01b69ad4-423a-4588-8895-8b95c680f007"
      },
      "outputs": [
        {
          "name": "stdout",
          "output_type": "stream",
          "text": [
            "Algoritma kkn terbaik\n"
          ]
        }
      ],
      "source": [
        "if gscv.best_score_ > rcv.best_score_:\n",
        "    print (\"Algoritma kkn terbaik\")\n",
        "else :\n",
        "    print(\"Algoritma decision-tree terbaik\")"
      ]
    }
  ],
  "metadata": {
    "colab": {
      "collapsed_sections": [],
      "name": "03. Evaluasi Performa dan Memilih Model.ipynb",
      "provenance": []
    },
    "kernelspec": {
      "display_name": "Python 3",
      "name": "python3"
    }
  },
  "nbformat": 4,
  "nbformat_minor": 0
}
